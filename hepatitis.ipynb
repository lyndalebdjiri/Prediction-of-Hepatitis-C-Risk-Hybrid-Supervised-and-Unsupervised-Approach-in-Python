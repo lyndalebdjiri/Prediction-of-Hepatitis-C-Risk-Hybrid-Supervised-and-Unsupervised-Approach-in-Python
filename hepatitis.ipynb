{
 "cells": [
  {
   "cell_type": "code",
   "execution_count": 1,
   "id": "76921dda",
   "metadata": {
    "executionInfo": {
     "elapsed": 2061,
     "status": "ok",
     "timestamp": 1684229228437,
     "user": {
      "displayName": "Linda LEBDJIRI",
      "userId": "00372522915833590184"
     },
     "user_tz": -60
    },
    "id": "76921dda"
   },
   "outputs": [],
   "source": [
    "import pandas as pd\n",
    "import numpy as np \n",
    "from numpy import mean,std\n",
    "import matplotlib.pyplot as plt\n",
    "from sklearn.cluster import KMeans\n",
    "from sklearn import preprocessing \n",
    "from sklearn.decomposition import PCA\n",
    "import seaborn as sns\n",
    "import matplotlib.style as style \n",
    "from sklearn.metrics import silhouette_score,rand_score,adjusted_rand_score\n",
    "from sklearn.model_selection import RepeatedStratifiedKFold, train_test_split,cross_val_score,RepeatedKFold,GridSearchCV,KFold\n",
    "from sklearn.feature_selection import f_classif,SelectKBest,f_regression,mutual_info_regression,mutual_info_classif\n",
    "from sklearn.metrics import accuracy_score\n",
    "from sklearn.tree import DecisionTreeClassifier\n",
    "from sklearn.neighbors import KNeighborsClassifier\n",
    "from sklearn.naive_bayes import GaussianNB\n",
    "from sklearn.svm import SVC\n",
    "from sklearn.datasets import make_regression\n",
    "from sklearn.linear_model import LogisticRegression\n",
    "from sklearn.pipeline import Pipeline\n",
    "from sklearn.metrics import mean_absolute_error\n",
    "import sklearn.metrics as metrics\n",
    "from sklearn import cluster"
   ]
  },
  {
   "cell_type": "code",
   "execution_count": 3,
   "id": "1fcc4a04",
   "metadata": {
    "colab": {
     "base_uri": "https://localhost:8080/",
     "height": 287
    },
    "executionInfo": {
     "elapsed": 284,
     "status": "ok",
     "timestamp": 1684229247159,
     "user": {
      "displayName": "Linda LEBDJIRI",
      "userId": "00372522915833590184"
     },
     "user_tz": -60
    },
    "id": "1fcc4a04",
    "outputId": "85c2070c-8275-4a3c-96ea-544d275aecaa",
    "scrolled": true
   },
   "outputs": [
    {
     "data": {
      "text/html": [
       "\n",
       "  <div id=\"df-b0d1bdba-9823-4119-be0d-0facaf0d82f0\">\n",
       "    <div class=\"colab-df-container\">\n",
       "      <div>\n",
       "<style scoped>\n",
       "    .dataframe tbody tr th:only-of-type {\n",
       "        vertical-align: middle;\n",
       "    }\n",
       "\n",
       "    .dataframe tbody tr th {\n",
       "        vertical-align: top;\n",
       "    }\n",
       "\n",
       "    .dataframe thead th {\n",
       "        text-align: right;\n",
       "    }\n",
       "</style>\n",
       "<table border=\"1\" class=\"dataframe\">\n",
       "  <thead>\n",
       "    <tr style=\"text-align: right;\">\n",
       "      <th></th>\n",
       "      <th>Class</th>\n",
       "      <th>AGE</th>\n",
       "      <th>SEX</th>\n",
       "      <th>STEROID</th>\n",
       "      <th>ANTIVIRALS</th>\n",
       "      <th>FATIGUE</th>\n",
       "      <th>MALAISE</th>\n",
       "      <th>ANOREXIA</th>\n",
       "      <th>LIVER BIG</th>\n",
       "      <th>LIVER FIRM</th>\n",
       "      <th>SPLEEN PALPABLE</th>\n",
       "      <th>SPIDERS</th>\n",
       "      <th>ASCITES</th>\n",
       "      <th>VARICES</th>\n",
       "      <th>BILIRUBIN</th>\n",
       "      <th>ALK PHOSPHATE</th>\n",
       "      <th>SGOT</th>\n",
       "      <th>ALBUMIN</th>\n",
       "      <th>PROTIME</th>\n",
       "      <th>HISTOLOGY</th>\n",
       "    </tr>\n",
       "  </thead>\n",
       "  <tbody>\n",
       "    <tr>\n",
       "      <th>0</th>\n",
       "      <td>2</td>\n",
       "      <td>50</td>\n",
       "      <td>1</td>\n",
       "      <td>1</td>\n",
       "      <td>2</td>\n",
       "      <td>1</td>\n",
       "      <td>2</td>\n",
       "      <td>2</td>\n",
       "      <td>1</td>\n",
       "      <td>2</td>\n",
       "      <td>2</td>\n",
       "      <td>2</td>\n",
       "      <td>2</td>\n",
       "      <td>2</td>\n",
       "      <td>0.90</td>\n",
       "      <td>135</td>\n",
       "      <td>42</td>\n",
       "      <td>3.5</td>\n",
       "      <td>?</td>\n",
       "      <td>1</td>\n",
       "    </tr>\n",
       "    <tr>\n",
       "      <th>1</th>\n",
       "      <td>2</td>\n",
       "      <td>78</td>\n",
       "      <td>1</td>\n",
       "      <td>2</td>\n",
       "      <td>2</td>\n",
       "      <td>1</td>\n",
       "      <td>2</td>\n",
       "      <td>2</td>\n",
       "      <td>2</td>\n",
       "      <td>2</td>\n",
       "      <td>2</td>\n",
       "      <td>2</td>\n",
       "      <td>2</td>\n",
       "      <td>2</td>\n",
       "      <td>0.70</td>\n",
       "      <td>96</td>\n",
       "      <td>32</td>\n",
       "      <td>4.0</td>\n",
       "      <td>?</td>\n",
       "      <td>1</td>\n",
       "    </tr>\n",
       "    <tr>\n",
       "      <th>2</th>\n",
       "      <td>2</td>\n",
       "      <td>31</td>\n",
       "      <td>1</td>\n",
       "      <td>?</td>\n",
       "      <td>1</td>\n",
       "      <td>2</td>\n",
       "      <td>2</td>\n",
       "      <td>2</td>\n",
       "      <td>2</td>\n",
       "      <td>2</td>\n",
       "      <td>2</td>\n",
       "      <td>2</td>\n",
       "      <td>2</td>\n",
       "      <td>2</td>\n",
       "      <td>0.70</td>\n",
       "      <td>46</td>\n",
       "      <td>52</td>\n",
       "      <td>4.0</td>\n",
       "      <td>80</td>\n",
       "      <td>1</td>\n",
       "    </tr>\n",
       "    <tr>\n",
       "      <th>3</th>\n",
       "      <td>2</td>\n",
       "      <td>34</td>\n",
       "      <td>1</td>\n",
       "      <td>2</td>\n",
       "      <td>2</td>\n",
       "      <td>2</td>\n",
       "      <td>2</td>\n",
       "      <td>2</td>\n",
       "      <td>2</td>\n",
       "      <td>2</td>\n",
       "      <td>2</td>\n",
       "      <td>2</td>\n",
       "      <td>2</td>\n",
       "      <td>2</td>\n",
       "      <td>1.00</td>\n",
       "      <td>?</td>\n",
       "      <td>200</td>\n",
       "      <td>4.0</td>\n",
       "      <td>?</td>\n",
       "      <td>1</td>\n",
       "    </tr>\n",
       "    <tr>\n",
       "      <th>4</th>\n",
       "      <td>2</td>\n",
       "      <td>34</td>\n",
       "      <td>1</td>\n",
       "      <td>2</td>\n",
       "      <td>2</td>\n",
       "      <td>2</td>\n",
       "      <td>2</td>\n",
       "      <td>2</td>\n",
       "      <td>2</td>\n",
       "      <td>2</td>\n",
       "      <td>2</td>\n",
       "      <td>2</td>\n",
       "      <td>2</td>\n",
       "      <td>2</td>\n",
       "      <td>0.90</td>\n",
       "      <td>95</td>\n",
       "      <td>28</td>\n",
       "      <td>4.0</td>\n",
       "      <td>75</td>\n",
       "      <td>1</td>\n",
       "    </tr>\n",
       "  </tbody>\n",
       "</table>\n",
       "</div>\n",
       "      <button class=\"colab-df-convert\" onclick=\"convertToInteractive('df-b0d1bdba-9823-4119-be0d-0facaf0d82f0')\"\n",
       "              title=\"Convert this dataframe to an interactive table.\"\n",
       "              style=\"display:none;\">\n",
       "        \n",
       "  <svg xmlns=\"http://www.w3.org/2000/svg\" height=\"24px\"viewBox=\"0 0 24 24\"\n",
       "       width=\"24px\">\n",
       "    <path d=\"M0 0h24v24H0V0z\" fill=\"none\"/>\n",
       "    <path d=\"M18.56 5.44l.94 2.06.94-2.06 2.06-.94-2.06-.94-.94-2.06-.94 2.06-2.06.94zm-11 1L8.5 8.5l.94-2.06 2.06-.94-2.06-.94L8.5 2.5l-.94 2.06-2.06.94zm10 10l.94 2.06.94-2.06 2.06-.94-2.06-.94-.94-2.06-.94 2.06-2.06.94z\"/><path d=\"M17.41 7.96l-1.37-1.37c-.4-.4-.92-.59-1.43-.59-.52 0-1.04.2-1.43.59L10.3 9.45l-7.72 7.72c-.78.78-.78 2.05 0 2.83L4 21.41c.39.39.9.59 1.41.59.51 0 1.02-.2 1.41-.59l7.78-7.78 2.81-2.81c.8-.78.8-2.07 0-2.86zM5.41 20L4 18.59l7.72-7.72 1.47 1.35L5.41 20z\"/>\n",
       "  </svg>\n",
       "      </button>\n",
       "      \n",
       "  <style>\n",
       "    .colab-df-container {\n",
       "      display:flex;\n",
       "      flex-wrap:wrap;\n",
       "      gap: 12px;\n",
       "    }\n",
       "\n",
       "    .colab-df-convert {\n",
       "      background-color: #E8F0FE;\n",
       "      border: none;\n",
       "      border-radius: 50%;\n",
       "      cursor: pointer;\n",
       "      display: none;\n",
       "      fill: #1967D2;\n",
       "      height: 32px;\n",
       "      padding: 0 0 0 0;\n",
       "      width: 32px;\n",
       "    }\n",
       "\n",
       "    .colab-df-convert:hover {\n",
       "      background-color: #E2EBFA;\n",
       "      box-shadow: 0px 1px 2px rgba(60, 64, 67, 0.3), 0px 1px 3px 1px rgba(60, 64, 67, 0.15);\n",
       "      fill: #174EA6;\n",
       "    }\n",
       "\n",
       "    [theme=dark] .colab-df-convert {\n",
       "      background-color: #3B4455;\n",
       "      fill: #D2E3FC;\n",
       "    }\n",
       "\n",
       "    [theme=dark] .colab-df-convert:hover {\n",
       "      background-color: #434B5C;\n",
       "      box-shadow: 0px 1px 3px 1px rgba(0, 0, 0, 0.15);\n",
       "      filter: drop-shadow(0px 1px 2px rgba(0, 0, 0, 0.3));\n",
       "      fill: #FFFFFF;\n",
       "    }\n",
       "  </style>\n",
       "\n",
       "      <script>\n",
       "        const buttonEl =\n",
       "          document.querySelector('#df-b0d1bdba-9823-4119-be0d-0facaf0d82f0 button.colab-df-convert');\n",
       "        buttonEl.style.display =\n",
       "          google.colab.kernel.accessAllowed ? 'block' : 'none';\n",
       "\n",
       "        async function convertToInteractive(key) {\n",
       "          const element = document.querySelector('#df-b0d1bdba-9823-4119-be0d-0facaf0d82f0');\n",
       "          const dataTable =\n",
       "            await google.colab.kernel.invokeFunction('convertToInteractive',\n",
       "                                                     [key], {});\n",
       "          if (!dataTable) return;\n",
       "\n",
       "          const docLinkHtml = 'Like what you see? Visit the ' +\n",
       "            '<a target=\"_blank\" href=https://colab.research.google.com/notebooks/data_table.ipynb>data table notebook</a>'\n",
       "            + ' to learn more about interactive tables.';\n",
       "          element.innerHTML = '';\n",
       "          dataTable['output_type'] = 'display_data';\n",
       "          await google.colab.output.renderOutput(dataTable, element);\n",
       "          const docLink = document.createElement('div');\n",
       "          docLink.innerHTML = docLinkHtml;\n",
       "          element.appendChild(docLink);\n",
       "        }\n",
       "      </script>\n",
       "    </div>\n",
       "  </div>\n",
       "  "
      ],
      "text/plain": [
       "   Class  AGE  SEX STEROID  ANTIVIRALS FATIGUE MALAISE ANOREXIA LIVER BIG  \\\n",
       "0      2   50    1       1           2       1       2        2         1   \n",
       "1      2   78    1       2           2       1       2        2         2   \n",
       "2      2   31    1       ?           1       2       2        2         2   \n",
       "3      2   34    1       2           2       2       2        2         2   \n",
       "4      2   34    1       2           2       2       2        2         2   \n",
       "\n",
       "  LIVER FIRM SPLEEN PALPABLE SPIDERS ASCITES VARICES BILIRUBIN ALK PHOSPHATE  \\\n",
       "0          2               2       2       2       2      0.90           135   \n",
       "1          2               2       2       2       2      0.70            96   \n",
       "2          2               2       2       2       2      0.70            46   \n",
       "3          2               2       2       2       2      1.00             ?   \n",
       "4          2               2       2       2       2      0.90            95   \n",
       "\n",
       "  SGOT ALBUMIN PROTIME  HISTOLOGY  \n",
       "0   42     3.5       ?          1  \n",
       "1   32     4.0       ?          1  \n",
       "2   52     4.0      80          1  \n",
       "3  200     4.0       ?          1  \n",
       "4   28     4.0      75          1  "
      ]
     },
     "execution_count": 3,
     "metadata": {},
     "output_type": "execute_result"
    }
   ],
   "source": [
    "#to lead the file\n",
    "Hepatitis = pd.read_csv(r'/content/sample_data/hepatitis.data')\n",
    "#to label the columns \n",
    "Hepatitis.columns=[\"Class\",\"AGE\",\"SEX\",\"STEROID\",\"ANTIVIRALS\",\"FATIGUE\",\"MALAISE\",\"ANOREXIA\",\n",
    "          \"LIVER BIG\",\"LIVER FIRM\",\"SPLEEN PALPABLE\",\"SPIDERS\",\"ASCITES\",\n",
    "       \n",
    "   \"VARICES\",\"BILIRUBIN\", \"ALK PHOSPHATE\",\"SGOT\",\"ALBUMIN\",\"PROTIME\",\"HISTOLOGY\"]\n",
    "#to display the dataset for the first five rows\n",
    "Hepatitis.head()"
   ]
  },
  {
   "cell_type": "code",
   "execution_count": 4,
   "id": "ad170289",
   "metadata": {
    "colab": {
     "base_uri": "https://localhost:8080/"
    },
    "executionInfo": {
     "elapsed": 250,
     "status": "ok",
     "timestamp": 1684229251887,
     "user": {
      "displayName": "Linda LEBDJIRI",
      "userId": "00372522915833590184"
     },
     "user_tz": -60
    },
    "id": "ad170289",
    "outputId": "decd15e1-0663-49f2-9c6b-020d5bb0936b"
   },
   "outputs": [
    {
     "name": "stdout",
     "output_type": "stream",
     "text": [
      "the number of rows is 154 and the number of columns is 20\n"
     ]
    }
   ],
   "source": [
    "#to get the number of rows and columns\n",
    "print(f'the number of rows is {Hepatitis.shape[0]} and the number of columns is {Hepatitis.shape[1]}')"
   ]
  },
  {
   "cell_type": "code",
   "execution_count": 5,
   "id": "4b95fedc",
   "metadata": {
    "colab": {
     "base_uri": "https://localhost:8080/"
    },
    "executionInfo": {
     "elapsed": 267,
     "status": "ok",
     "timestamp": 1684229254283,
     "user": {
      "displayName": "Linda LEBDJIRI",
      "userId": "00372522915833590184"
     },
     "user_tz": -60
    },
    "id": "4b95fedc",
    "outputId": "a134c4b0-c078-4455-f837-a28a8ef73f5e"
   },
   "outputs": [
    {
     "name": "stdout",
     "output_type": "stream",
     "text": [
      "              AGE         SEX  ANTIVIRALS   HISTOLOGY\n",
      "count  154.000000  154.000000  154.000000  154.000000\n",
      "mean    41.272727    1.097403    1.844156    1.454545\n",
      "std     12.574106    0.297473    0.363891    0.499554\n",
      "min      7.000000    1.000000    1.000000    1.000000\n",
      "25%     32.000000    1.000000    2.000000    1.000000\n",
      "50%     39.000000    1.000000    2.000000    1.000000\n",
      "75%     50.000000    1.000000    2.000000    2.000000\n",
      "max     78.000000    2.000000    2.000000    2.000000\n"
     ]
    }
   ],
   "source": [
    "# to take a look at a summary of each attribute.\n",
    "# descriptions\n",
    "print(Hepatitis[Hepatitis.columns[1:]].describe())"
   ]
  },
  {
   "cell_type": "code",
   "execution_count": 6,
   "id": "37f0ba35",
   "metadata": {
    "colab": {
     "base_uri": "https://localhost:8080/"
    },
    "executionInfo": {
     "elapsed": 240,
     "status": "ok",
     "timestamp": 1684229256583,
     "user": {
      "displayName": "Linda LEBDJIRI",
      "userId": "00372522915833590184"
     },
     "user_tz": -60
    },
    "id": "37f0ba35",
    "outputId": "80adf83c-7dde-4f3f-a6b5-27c774108b5d"
   },
   "outputs": [
    {
     "name": "stdout",
     "output_type": "stream",
     "text": [
      "<class 'pandas.core.frame.DataFrame'>\n",
      "RangeIndex: 154 entries, 0 to 153\n",
      "Data columns (total 20 columns):\n",
      " #   Column           Non-Null Count  Dtype \n",
      "---  ------           --------------  ----- \n",
      " 0   Class            154 non-null    int64 \n",
      " 1   AGE              154 non-null    int64 \n",
      " 2   SEX              154 non-null    int64 \n",
      " 3   STEROID          154 non-null    object\n",
      " 4   ANTIVIRALS       154 non-null    int64 \n",
      " 5   FATIGUE          154 non-null    object\n",
      " 6   MALAISE          154 non-null    object\n",
      " 7   ANOREXIA         154 non-null    object\n",
      " 8   LIVER BIG        154 non-null    object\n",
      " 9   LIVER FIRM       154 non-null    object\n",
      " 10  SPLEEN PALPABLE  154 non-null    object\n",
      " 11  SPIDERS          154 non-null    object\n",
      " 12  ASCITES          154 non-null    object\n",
      " 13  VARICES          154 non-null    object\n",
      " 14  BILIRUBIN        154 non-null    object\n",
      " 15  ALK PHOSPHATE    154 non-null    object\n",
      " 16  SGOT             154 non-null    object\n",
      " 17  ALBUMIN          154 non-null    object\n",
      " 18  PROTIME          154 non-null    object\n",
      " 19  HISTOLOGY        154 non-null    int64 \n",
      "dtypes: int64(5), object(15)\n",
      "memory usage: 24.2+ KB\n"
     ]
    }
   ],
   "source": [
    "#to View summary of dataset\n",
    "Hepatitis.info()"
   ]
  },
  {
   "cell_type": "code",
   "execution_count": 7,
   "id": "cc3b4611",
   "metadata": {
    "colab": {
     "base_uri": "https://localhost:8080/"
    },
    "executionInfo": {
     "elapsed": 269,
     "status": "ok",
     "timestamp": 1684229260086,
     "user": {
      "displayName": "Linda LEBDJIRI",
      "userId": "00372522915833590184"
     },
     "user_tz": -60
    },
    "id": "cc3b4611",
    "outputId": "710af5fb-7cc5-44f7-d991-9d4d188dba33"
   },
   "outputs": [
    {
     "name": "stdout",
     "output_type": "stream",
     "text": [
      "Class              0\n",
      "AGE                0\n",
      "SEX                0\n",
      "STEROID            0\n",
      "ANTIVIRALS         0\n",
      "FATIGUE            0\n",
      "MALAISE            0\n",
      "ANOREXIA           0\n",
      "LIVER BIG          0\n",
      "LIVER FIRM         0\n",
      "SPLEEN PALPABLE    0\n",
      "SPIDERS            0\n",
      "ASCITES            0\n",
      "VARICES            0\n",
      "BILIRUBIN          0\n",
      "ALK PHOSPHATE      0\n",
      "SGOT               0\n",
      "ALBUMIN            0\n",
      "PROTIME            0\n",
      "HISTOLOGY          0\n",
      "dtype: int64\n"
     ]
    }
   ],
   "source": [
    "#check missing or null values\n",
    "print(Hepatitis.isnull().sum())"
   ]
  },
  {
   "cell_type": "code",
   "execution_count": 8,
   "id": "c91aaf7e",
   "metadata": {
    "colab": {
     "base_uri": "https://localhost:8080/"
    },
    "executionInfo": {
     "elapsed": 9,
     "status": "ok",
     "timestamp": 1684229262423,
     "user": {
      "displayName": "Linda LEBDJIRI",
      "userId": "00372522915833590184"
     },
     "user_tz": -60
    },
    "id": "c91aaf7e",
    "outputId": "e0bb015d-383c-4132-d9b0-ada04ae9016b",
    "scrolled": true
   },
   "outputs": [
    {
     "name": "stdout",
     "output_type": "stream",
     "text": [
      "Class               0\n",
      "AGE                 0\n",
      "SEX                 0\n",
      "STEROID             1\n",
      "ANTIVIRALS          0\n",
      "FATIGUE             1\n",
      "MALAISE             1\n",
      "ANOREXIA            1\n",
      "LIVER BIG          10\n",
      "LIVER FIRM         11\n",
      "SPLEEN PALPABLE     5\n",
      "SPIDERS             5\n",
      "ASCITES             5\n",
      "VARICES             5\n",
      "BILIRUBIN           6\n",
      "ALK PHOSPHATE      29\n",
      "SGOT                4\n",
      "ALBUMIN            16\n",
      "PROTIME            66\n",
      "HISTOLOGY           0\n",
      "dtype: int64\n",
      "Total number of missing values 166\n"
     ]
    }
   ],
   "source": [
    "#to clean the data\n",
    "#to replace the '?' with None.\n",
    "Hepatitis = Hepatitis.replace(['?'],np.nan)\n",
    "print(Hepatitis.isnull().sum())\n",
    "print (\"Total number of missing values\",Hepatitis.isnull().sum().sum())"
   ]
  },
  {
   "cell_type": "code",
   "execution_count": 9,
   "id": "a4f09d95",
   "metadata": {
    "colab": {
     "base_uri": "https://localhost:8080/"
    },
    "executionInfo": {
     "elapsed": 271,
     "status": "ok",
     "timestamp": 1684229266188,
     "user": {
      "displayName": "Linda LEBDJIRI",
      "userId": "00372522915833590184"
     },
     "user_tz": -60
    },
    "id": "a4f09d95",
    "outputId": "6b67131f-b839-49b5-a52f-d9e540fee969"
   },
   "outputs": [
    {
     "data": {
      "text/plain": [
       "array([[ 2.        , 50.        ,  1.        , ...,  3.5       ,\n",
       "        61.85227273,  1.        ],\n",
       "       [ 2.        , 78.        ,  1.        , ...,  4.        ,\n",
       "        61.85227273,  1.        ],\n",
       "       [ 2.        , 31.        ,  1.        , ...,  4.        ,\n",
       "        80.        ,  1.        ],\n",
       "       ...,\n",
       "       [ 2.        , 61.        ,  1.        , ...,  4.1       ,\n",
       "        61.85227273,  2.        ],\n",
       "       [ 2.        , 53.        ,  2.        , ...,  4.1       ,\n",
       "        48.        ,  2.        ],\n",
       "       [ 1.        , 43.        ,  1.        , ...,  3.1       ,\n",
       "        42.        ,  2.        ]])"
      ]
     },
     "execution_count": 9,
     "metadata": {},
     "output_type": "execute_result"
    }
   ],
   "source": [
    "from sklearn.impute import SimpleImputer\n",
    "#It replaces the NaN values with a specified placeholder. strategy : The data which will replace the NaN values from the dataset.\n",
    "# define imputer\n",
    "imputer = SimpleImputer(strategy='mean')\n",
    "# fit on the dataset\n",
    "imputer.fit(Hepatitis)\n",
    "# transform the dataset\n",
    "X_trans= imputer.transform(Hepatitis)\n",
    "X_trans\n",
    "# ['mean', 'median', 'most_frequent', 'constant']"
   ]
  },
  {
   "cell_type": "code",
   "execution_count": 10,
   "id": "08ff40a9",
   "metadata": {
    "colab": {
     "base_uri": "https://localhost:8080/",
     "height": 505
    },
    "executionInfo": {
     "elapsed": 14,
     "status": "ok",
     "timestamp": 1684229268761,
     "user": {
      "displayName": "Linda LEBDJIRI",
      "userId": "00372522915833590184"
     },
     "user_tz": -60
    },
    "id": "08ff40a9",
    "outputId": "96501811-fee7-496c-d906-18ea2f3add55"
   },
   "outputs": [
    {
     "data": {
      "text/html": [
       "\n",
       "  <div id=\"df-4402bf56-69d3-4bca-a9f1-0a420b8cb233\">\n",
       "    <div class=\"colab-df-container\">\n",
       "      <div>\n",
       "<style scoped>\n",
       "    .dataframe tbody tr th:only-of-type {\n",
       "        vertical-align: middle;\n",
       "    }\n",
       "\n",
       "    .dataframe tbody tr th {\n",
       "        vertical-align: top;\n",
       "    }\n",
       "\n",
       "    .dataframe thead th {\n",
       "        text-align: right;\n",
       "    }\n",
       "</style>\n",
       "<table border=\"1\" class=\"dataframe\">\n",
       "  <thead>\n",
       "    <tr style=\"text-align: right;\">\n",
       "      <th></th>\n",
       "      <th>Class</th>\n",
       "      <th>AGE</th>\n",
       "      <th>SEX</th>\n",
       "      <th>STEROID</th>\n",
       "      <th>ANTIVIRALS</th>\n",
       "      <th>FATIGUE</th>\n",
       "      <th>MALAISE</th>\n",
       "      <th>ANOREXIA</th>\n",
       "      <th>LIVER BIG</th>\n",
       "      <th>LIVER FIRM</th>\n",
       "      <th>SPLEEN PALPABLE</th>\n",
       "      <th>SPIDERS</th>\n",
       "      <th>ASCITES</th>\n",
       "      <th>VARICES</th>\n",
       "      <th>BILIRUBIN</th>\n",
       "      <th>ALK PHOSPHATE</th>\n",
       "      <th>SGOT</th>\n",
       "      <th>ALBUMIN</th>\n",
       "      <th>PROTIME</th>\n",
       "      <th>HISTOLOGY</th>\n",
       "    </tr>\n",
       "  </thead>\n",
       "  <tbody>\n",
       "    <tr>\n",
       "      <th>0</th>\n",
       "      <td>2.0</td>\n",
       "      <td>50.0</td>\n",
       "      <td>1.0</td>\n",
       "      <td>1.000000</td>\n",
       "      <td>2.0</td>\n",
       "      <td>1.0</td>\n",
       "      <td>2.0</td>\n",
       "      <td>2.0</td>\n",
       "      <td>1.0</td>\n",
       "      <td>2.0</td>\n",
       "      <td>2.0</td>\n",
       "      <td>2.0</td>\n",
       "      <td>2.0</td>\n",
       "      <td>2.0</td>\n",
       "      <td>0.9</td>\n",
       "      <td>135.000</td>\n",
       "      <td>42.0</td>\n",
       "      <td>3.5</td>\n",
       "      <td>61.852273</td>\n",
       "      <td>1.0</td>\n",
       "    </tr>\n",
       "    <tr>\n",
       "      <th>1</th>\n",
       "      <td>2.0</td>\n",
       "      <td>78.0</td>\n",
       "      <td>1.0</td>\n",
       "      <td>2.000000</td>\n",
       "      <td>2.0</td>\n",
       "      <td>1.0</td>\n",
       "      <td>2.0</td>\n",
       "      <td>2.0</td>\n",
       "      <td>2.0</td>\n",
       "      <td>2.0</td>\n",
       "      <td>2.0</td>\n",
       "      <td>2.0</td>\n",
       "      <td>2.0</td>\n",
       "      <td>2.0</td>\n",
       "      <td>0.7</td>\n",
       "      <td>96.000</td>\n",
       "      <td>32.0</td>\n",
       "      <td>4.0</td>\n",
       "      <td>61.852273</td>\n",
       "      <td>1.0</td>\n",
       "    </tr>\n",
       "    <tr>\n",
       "      <th>2</th>\n",
       "      <td>2.0</td>\n",
       "      <td>31.0</td>\n",
       "      <td>1.0</td>\n",
       "      <td>1.509804</td>\n",
       "      <td>1.0</td>\n",
       "      <td>2.0</td>\n",
       "      <td>2.0</td>\n",
       "      <td>2.0</td>\n",
       "      <td>2.0</td>\n",
       "      <td>2.0</td>\n",
       "      <td>2.0</td>\n",
       "      <td>2.0</td>\n",
       "      <td>2.0</td>\n",
       "      <td>2.0</td>\n",
       "      <td>0.7</td>\n",
       "      <td>46.000</td>\n",
       "      <td>52.0</td>\n",
       "      <td>4.0</td>\n",
       "      <td>80.000000</td>\n",
       "      <td>1.0</td>\n",
       "    </tr>\n",
       "    <tr>\n",
       "      <th>3</th>\n",
       "      <td>2.0</td>\n",
       "      <td>34.0</td>\n",
       "      <td>1.0</td>\n",
       "      <td>2.000000</td>\n",
       "      <td>2.0</td>\n",
       "      <td>2.0</td>\n",
       "      <td>2.0</td>\n",
       "      <td>2.0</td>\n",
       "      <td>2.0</td>\n",
       "      <td>2.0</td>\n",
       "      <td>2.0</td>\n",
       "      <td>2.0</td>\n",
       "      <td>2.0</td>\n",
       "      <td>2.0</td>\n",
       "      <td>1.0</td>\n",
       "      <td>105.488</td>\n",
       "      <td>200.0</td>\n",
       "      <td>4.0</td>\n",
       "      <td>61.852273</td>\n",
       "      <td>1.0</td>\n",
       "    </tr>\n",
       "    <tr>\n",
       "      <th>4</th>\n",
       "      <td>2.0</td>\n",
       "      <td>34.0</td>\n",
       "      <td>1.0</td>\n",
       "      <td>2.000000</td>\n",
       "      <td>2.0</td>\n",
       "      <td>2.0</td>\n",
       "      <td>2.0</td>\n",
       "      <td>2.0</td>\n",
       "      <td>2.0</td>\n",
       "      <td>2.0</td>\n",
       "      <td>2.0</td>\n",
       "      <td>2.0</td>\n",
       "      <td>2.0</td>\n",
       "      <td>2.0</td>\n",
       "      <td>0.9</td>\n",
       "      <td>95.000</td>\n",
       "      <td>28.0</td>\n",
       "      <td>4.0</td>\n",
       "      <td>75.000000</td>\n",
       "      <td>1.0</td>\n",
       "    </tr>\n",
       "    <tr>\n",
       "      <th>...</th>\n",
       "      <td>...</td>\n",
       "      <td>...</td>\n",
       "      <td>...</td>\n",
       "      <td>...</td>\n",
       "      <td>...</td>\n",
       "      <td>...</td>\n",
       "      <td>...</td>\n",
       "      <td>...</td>\n",
       "      <td>...</td>\n",
       "      <td>...</td>\n",
       "      <td>...</td>\n",
       "      <td>...</td>\n",
       "      <td>...</td>\n",
       "      <td>...</td>\n",
       "      <td>...</td>\n",
       "      <td>...</td>\n",
       "      <td>...</td>\n",
       "      <td>...</td>\n",
       "      <td>...</td>\n",
       "      <td>...</td>\n",
       "    </tr>\n",
       "    <tr>\n",
       "      <th>149</th>\n",
       "      <td>1.0</td>\n",
       "      <td>46.0</td>\n",
       "      <td>1.0</td>\n",
       "      <td>2.000000</td>\n",
       "      <td>2.0</td>\n",
       "      <td>1.0</td>\n",
       "      <td>1.0</td>\n",
       "      <td>1.0</td>\n",
       "      <td>2.0</td>\n",
       "      <td>2.0</td>\n",
       "      <td>2.0</td>\n",
       "      <td>1.0</td>\n",
       "      <td>1.0</td>\n",
       "      <td>1.0</td>\n",
       "      <td>7.6</td>\n",
       "      <td>105.488</td>\n",
       "      <td>242.0</td>\n",
       "      <td>3.3</td>\n",
       "      <td>50.000000</td>\n",
       "      <td>2.0</td>\n",
       "    </tr>\n",
       "    <tr>\n",
       "      <th>150</th>\n",
       "      <td>2.0</td>\n",
       "      <td>44.0</td>\n",
       "      <td>1.0</td>\n",
       "      <td>2.000000</td>\n",
       "      <td>2.0</td>\n",
       "      <td>1.0</td>\n",
       "      <td>2.0</td>\n",
       "      <td>2.0</td>\n",
       "      <td>2.0</td>\n",
       "      <td>1.0</td>\n",
       "      <td>2.0</td>\n",
       "      <td>2.0</td>\n",
       "      <td>2.0</td>\n",
       "      <td>2.0</td>\n",
       "      <td>0.9</td>\n",
       "      <td>126.000</td>\n",
       "      <td>142.0</td>\n",
       "      <td>4.3</td>\n",
       "      <td>61.852273</td>\n",
       "      <td>2.0</td>\n",
       "    </tr>\n",
       "    <tr>\n",
       "      <th>151</th>\n",
       "      <td>2.0</td>\n",
       "      <td>61.0</td>\n",
       "      <td>1.0</td>\n",
       "      <td>1.000000</td>\n",
       "      <td>2.0</td>\n",
       "      <td>1.0</td>\n",
       "      <td>1.0</td>\n",
       "      <td>2.0</td>\n",
       "      <td>1.0</td>\n",
       "      <td>1.0</td>\n",
       "      <td>2.0</td>\n",
       "      <td>1.0</td>\n",
       "      <td>2.0</td>\n",
       "      <td>2.0</td>\n",
       "      <td>0.8</td>\n",
       "      <td>75.000</td>\n",
       "      <td>20.0</td>\n",
       "      <td>4.1</td>\n",
       "      <td>61.852273</td>\n",
       "      <td>2.0</td>\n",
       "    </tr>\n",
       "    <tr>\n",
       "      <th>152</th>\n",
       "      <td>2.0</td>\n",
       "      <td>53.0</td>\n",
       "      <td>2.0</td>\n",
       "      <td>1.000000</td>\n",
       "      <td>2.0</td>\n",
       "      <td>1.0</td>\n",
       "      <td>2.0</td>\n",
       "      <td>2.0</td>\n",
       "      <td>2.0</td>\n",
       "      <td>2.0</td>\n",
       "      <td>1.0</td>\n",
       "      <td>1.0</td>\n",
       "      <td>2.0</td>\n",
       "      <td>1.0</td>\n",
       "      <td>1.5</td>\n",
       "      <td>81.000</td>\n",
       "      <td>19.0</td>\n",
       "      <td>4.1</td>\n",
       "      <td>48.000000</td>\n",
       "      <td>2.0</td>\n",
       "    </tr>\n",
       "    <tr>\n",
       "      <th>153</th>\n",
       "      <td>1.0</td>\n",
       "      <td>43.0</td>\n",
       "      <td>1.0</td>\n",
       "      <td>2.000000</td>\n",
       "      <td>2.0</td>\n",
       "      <td>1.0</td>\n",
       "      <td>2.0</td>\n",
       "      <td>2.0</td>\n",
       "      <td>2.0</td>\n",
       "      <td>2.0</td>\n",
       "      <td>1.0</td>\n",
       "      <td>1.0</td>\n",
       "      <td>1.0</td>\n",
       "      <td>2.0</td>\n",
       "      <td>1.2</td>\n",
       "      <td>100.000</td>\n",
       "      <td>19.0</td>\n",
       "      <td>3.1</td>\n",
       "      <td>42.000000</td>\n",
       "      <td>2.0</td>\n",
       "    </tr>\n",
       "  </tbody>\n",
       "</table>\n",
       "<p>154 rows × 20 columns</p>\n",
       "</div>\n",
       "      <button class=\"colab-df-convert\" onclick=\"convertToInteractive('df-4402bf56-69d3-4bca-a9f1-0a420b8cb233')\"\n",
       "              title=\"Convert this dataframe to an interactive table.\"\n",
       "              style=\"display:none;\">\n",
       "        \n",
       "  <svg xmlns=\"http://www.w3.org/2000/svg\" height=\"24px\"viewBox=\"0 0 24 24\"\n",
       "       width=\"24px\">\n",
       "    <path d=\"M0 0h24v24H0V0z\" fill=\"none\"/>\n",
       "    <path d=\"M18.56 5.44l.94 2.06.94-2.06 2.06-.94-2.06-.94-.94-2.06-.94 2.06-2.06.94zm-11 1L8.5 8.5l.94-2.06 2.06-.94-2.06-.94L8.5 2.5l-.94 2.06-2.06.94zm10 10l.94 2.06.94-2.06 2.06-.94-2.06-.94-.94-2.06-.94 2.06-2.06.94z\"/><path d=\"M17.41 7.96l-1.37-1.37c-.4-.4-.92-.59-1.43-.59-.52 0-1.04.2-1.43.59L10.3 9.45l-7.72 7.72c-.78.78-.78 2.05 0 2.83L4 21.41c.39.39.9.59 1.41.59.51 0 1.02-.2 1.41-.59l7.78-7.78 2.81-2.81c.8-.78.8-2.07 0-2.86zM5.41 20L4 18.59l7.72-7.72 1.47 1.35L5.41 20z\"/>\n",
       "  </svg>\n",
       "      </button>\n",
       "      \n",
       "  <style>\n",
       "    .colab-df-container {\n",
       "      display:flex;\n",
       "      flex-wrap:wrap;\n",
       "      gap: 12px;\n",
       "    }\n",
       "\n",
       "    .colab-df-convert {\n",
       "      background-color: #E8F0FE;\n",
       "      border: none;\n",
       "      border-radius: 50%;\n",
       "      cursor: pointer;\n",
       "      display: none;\n",
       "      fill: #1967D2;\n",
       "      height: 32px;\n",
       "      padding: 0 0 0 0;\n",
       "      width: 32px;\n",
       "    }\n",
       "\n",
       "    .colab-df-convert:hover {\n",
       "      background-color: #E2EBFA;\n",
       "      box-shadow: 0px 1px 2px rgba(60, 64, 67, 0.3), 0px 1px 3px 1px rgba(60, 64, 67, 0.15);\n",
       "      fill: #174EA6;\n",
       "    }\n",
       "\n",
       "    [theme=dark] .colab-df-convert {\n",
       "      background-color: #3B4455;\n",
       "      fill: #D2E3FC;\n",
       "    }\n",
       "\n",
       "    [theme=dark] .colab-df-convert:hover {\n",
       "      background-color: #434B5C;\n",
       "      box-shadow: 0px 1px 3px 1px rgba(0, 0, 0, 0.15);\n",
       "      filter: drop-shadow(0px 1px 2px rgba(0, 0, 0, 0.3));\n",
       "      fill: #FFFFFF;\n",
       "    }\n",
       "  </style>\n",
       "\n",
       "      <script>\n",
       "        const buttonEl =\n",
       "          document.querySelector('#df-4402bf56-69d3-4bca-a9f1-0a420b8cb233 button.colab-df-convert');\n",
       "        buttonEl.style.display =\n",
       "          google.colab.kernel.accessAllowed ? 'block' : 'none';\n",
       "\n",
       "        async function convertToInteractive(key) {\n",
       "          const element = document.querySelector('#df-4402bf56-69d3-4bca-a9f1-0a420b8cb233');\n",
       "          const dataTable =\n",
       "            await google.colab.kernel.invokeFunction('convertToInteractive',\n",
       "                                                     [key], {});\n",
       "          if (!dataTable) return;\n",
       "\n",
       "          const docLinkHtml = 'Like what you see? Visit the ' +\n",
       "            '<a target=\"_blank\" href=https://colab.research.google.com/notebooks/data_table.ipynb>data table notebook</a>'\n",
       "            + ' to learn more about interactive tables.';\n",
       "          element.innerHTML = '';\n",
       "          dataTable['output_type'] = 'display_data';\n",
       "          await google.colab.output.renderOutput(dataTable, element);\n",
       "          const docLink = document.createElement('div');\n",
       "          docLink.innerHTML = docLinkHtml;\n",
       "          element.appendChild(docLink);\n",
       "        }\n",
       "      </script>\n",
       "    </div>\n",
       "  </div>\n",
       "  "
      ],
      "text/plain": [
       "     Class   AGE  SEX   STEROID  ANTIVIRALS  FATIGUE  MALAISE  ANOREXIA  \\\n",
       "0      2.0  50.0  1.0  1.000000         2.0      1.0      2.0       2.0   \n",
       "1      2.0  78.0  1.0  2.000000         2.0      1.0      2.0       2.0   \n",
       "2      2.0  31.0  1.0  1.509804         1.0      2.0      2.0       2.0   \n",
       "3      2.0  34.0  1.0  2.000000         2.0      2.0      2.0       2.0   \n",
       "4      2.0  34.0  1.0  2.000000         2.0      2.0      2.0       2.0   \n",
       "..     ...   ...  ...       ...         ...      ...      ...       ...   \n",
       "149    1.0  46.0  1.0  2.000000         2.0      1.0      1.0       1.0   \n",
       "150    2.0  44.0  1.0  2.000000         2.0      1.0      2.0       2.0   \n",
       "151    2.0  61.0  1.0  1.000000         2.0      1.0      1.0       2.0   \n",
       "152    2.0  53.0  2.0  1.000000         2.0      1.0      2.0       2.0   \n",
       "153    1.0  43.0  1.0  2.000000         2.0      1.0      2.0       2.0   \n",
       "\n",
       "     LIVER BIG  LIVER FIRM  SPLEEN PALPABLE  SPIDERS  ASCITES  VARICES  \\\n",
       "0          1.0         2.0              2.0      2.0      2.0      2.0   \n",
       "1          2.0         2.0              2.0      2.0      2.0      2.0   \n",
       "2          2.0         2.0              2.0      2.0      2.0      2.0   \n",
       "3          2.0         2.0              2.0      2.0      2.0      2.0   \n",
       "4          2.0         2.0              2.0      2.0      2.0      2.0   \n",
       "..         ...         ...              ...      ...      ...      ...   \n",
       "149        2.0         2.0              2.0      1.0      1.0      1.0   \n",
       "150        2.0         1.0              2.0      2.0      2.0      2.0   \n",
       "151        1.0         1.0              2.0      1.0      2.0      2.0   \n",
       "152        2.0         2.0              1.0      1.0      2.0      1.0   \n",
       "153        2.0         2.0              1.0      1.0      1.0      2.0   \n",
       "\n",
       "     BILIRUBIN  ALK PHOSPHATE   SGOT  ALBUMIN    PROTIME  HISTOLOGY  \n",
       "0          0.9        135.000   42.0      3.5  61.852273        1.0  \n",
       "1          0.7         96.000   32.0      4.0  61.852273        1.0  \n",
       "2          0.7         46.000   52.0      4.0  80.000000        1.0  \n",
       "3          1.0        105.488  200.0      4.0  61.852273        1.0  \n",
       "4          0.9         95.000   28.0      4.0  75.000000        1.0  \n",
       "..         ...            ...    ...      ...        ...        ...  \n",
       "149        7.6        105.488  242.0      3.3  50.000000        2.0  \n",
       "150        0.9        126.000  142.0      4.3  61.852273        2.0  \n",
       "151        0.8         75.000   20.0      4.1  61.852273        2.0  \n",
       "152        1.5         81.000   19.0      4.1  48.000000        2.0  \n",
       "153        1.2        100.000   19.0      3.1  42.000000        2.0  \n",
       "\n",
       "[154 rows x 20 columns]"
      ]
     },
     "execution_count": 10,
     "metadata": {},
     "output_type": "execute_result"
    }
   ],
   "source": [
    "Hepatitis=pd.DataFrame(X_trans,columns=Hepatitis.columns)\n",
    "Hepatitis"
   ]
  },
  {
   "cell_type": "code",
   "execution_count": 11,
   "id": "6ac66093",
   "metadata": {
    "colab": {
     "base_uri": "https://localhost:8080/"
    },
    "executionInfo": {
     "elapsed": 7,
     "status": "ok",
     "timestamp": 1684229271484,
     "user": {
      "displayName": "Linda LEBDJIRI",
      "userId": "00372522915833590184"
     },
     "user_tz": -60
    },
    "id": "6ac66093",
    "outputId": "57523a62-db96-4c41-ffdf-64c855705ecc"
   },
   "outputs": [
    {
     "name": "stdout",
     "output_type": "stream",
     "text": [
      "there is no missing values\n",
      "Total number of missing values 0\n"
     ]
    }
   ],
   "source": [
    "#quick check to see if we have any missing values at all.\n",
    "print('there is no missing values')if Hepatitis.isnull().values.any() == False else print('there is missing values')\n",
    "# Total number of missing values\n",
    "print (\"Total number of missing values\",Hepatitis.isnull().sum().sum())"
   ]
  },
  {
   "cell_type": "code",
   "execution_count": 12,
   "id": "5c7073c3",
   "metadata": {
    "colab": {
     "base_uri": "https://localhost:8080/"
    },
    "executionInfo": {
     "elapsed": 795,
     "status": "ok",
     "timestamp": 1684229274119,
     "user": {
      "displayName": "Linda LEBDJIRI",
      "userId": "00372522915833590184"
     },
     "user_tz": -60
    },
    "id": "5c7073c3",
    "outputId": "3e139557-9eb4-43a7-a2b7-ef605d0835b3"
   },
   "outputs": [
    {
     "name": "stdout",
     "output_type": "stream",
     "text": [
      "Class              False\n",
      "AGE                False\n",
      "SEX                False\n",
      "STEROID            False\n",
      "ANTIVIRALS         False\n",
      "FATIGUE            False\n",
      "MALAISE            False\n",
      "ANOREXIA           False\n",
      "LIVER BIG          False\n",
      "LIVER FIRM         False\n",
      "SPLEEN PALPABLE    False\n",
      "SPIDERS            False\n",
      "ASCITES            False\n",
      "VARICES            False\n",
      "BILIRUBIN          False\n",
      "ALK PHOSPHATE      False\n",
      "SGOT               False\n",
      "ALBUMIN            False\n",
      "PROTIME            False\n",
      "HISTOLOGY          False\n",
      "dtype: bool\n",
      "all the values are unique\n"
     ]
    }
   ],
   "source": [
    "print(Hepatitis.nunique()==1)\n",
    "print(\"all the values are unique\")"
   ]
  },
  {
   "cell_type": "code",
   "execution_count": 13,
   "id": "7bb3ba67",
   "metadata": {
    "colab": {
     "base_uri": "https://localhost:8080/"
    },
    "executionInfo": {
     "elapsed": 7,
     "status": "ok",
     "timestamp": 1684229276895,
     "user": {
      "displayName": "Linda LEBDJIRI",
      "userId": "00372522915833590184"
     },
     "user_tz": -60
    },
    "id": "7bb3ba67",
    "outputId": "9ba2a22c-2d65-42d9-c1c6-ca1b5f9c6abe"
   },
   "outputs": [
    {
     "name": "stdout",
     "output_type": "stream",
     "text": [
      "False\n",
      "there is no duplicate rows\n"
     ]
    }
   ],
   "source": [
    "# calculate duplicates\n",
    "dups = Hepatitis.duplicated()\n",
    "# report if there are any duplicates\n",
    "print(dups.any())\n",
    "print(\"there is no duplicate rows\")"
   ]
  },
  {
   "cell_type": "code",
   "execution_count": 14,
   "id": "e5398abb",
   "metadata": {
    "colab": {
     "base_uri": "https://localhost:8080/",
     "height": 1000
    },
    "executionInfo": {
     "elapsed": 4057,
     "status": "ok",
     "timestamp": 1684229282958,
     "user": {
      "displayName": "Linda LEBDJIRI",
      "userId": "00372522915833590184"
     },
     "user_tz": -60
    },
    "id": "e5398abb",
    "outputId": "63d00575-150c-450b-8fa6-93339f4c1bfa"
   },
   "outputs": [
    {
     "data": {
      "image/png": "[encoded data removed]",
      "text/plain": [
       "<Figure size 640x480 with 1 Axes>"
      ]
     },
     "metadata": {},
     "output_type": "display_data"
    },
    {
     "data": {
      "image/png": "[encoded data removed]",
      "text/plain": [
       "<Figure size 640x480 with 1 Axes>"
      ]
     },
     "metadata": {},
     "output_type": "display_data"
    },
    {
     "data": {
      "image/png": "[encoded data removed]",
      "text/plain": [
       "<Figure size 640x480 with 1 Axes>"
      ]
     },
     "metadata": {},
     "output_type": "display_data"
    },
    {
     "data": {
      "image/png": "[encoded data removed]",
      "text/plain": [
       "<Figure size 640x480 with 1 Axes>"
      ]
     },
     "metadata": {},
     "output_type": "display_data"
    },
    {
     "data": {
      "image/png": "[encoded data removed]",
      "text/plain": [
       "<Figure size 640x480 with 1 Axes>"
      ]
     },
     "metadata": {},
     "output_type": "display_data"
    },
    {
     "data": {
      "image/png": "[encoded data removed]",
      "text/plain": [
       "<Figure size 640x480 with 1 Axes>"
      ]
     },
     "metadata": {},
     "output_type": "display_data"
    },
    {
     "data": {
      "image/png": "[encoded data removed]",
      "text/plain": [
       "<Figure size 640x480 with 1 Axes>"
      ]
     },
     "metadata": {},
     "output_type": "display_data"
    },
    {
     "data": {
      "image/png": "[encoded data removed]",
      "text/plain": [
       "<Figure size 640x480 with 1 Axes>"
      ]
     },
     "metadata": {},
     "output_type": "display_data"
    },
    {
     "data": {
      "image/png": "[encoded data removed]",
      "text/plain": [
       "<Figure size 640x480 with 1 Axes>"
      ]
     },
     "metadata": {},
     "output_type": "display_data"
    },
    {
     "data": {
      "image/png": "[encoded data removed]",
      "text/plain": [
       "<Figure size 640x480 with 1 Axes>"
      ]
     },
     "metadata": {},
     "output_type": "display_data"
    },
    {
     "data": {
      "image/png": "[encoded data removed]",
      "text/plain": [
       "<Figure size 640x480 with 1 Axes>"
      ]
     },
     "metadata": {},
     "output_type": "display_data"
    },
    {
     "data": {
      "image/png": "[encoded data removed]",
      "text/plain": [
       "<Figure size 640x480 with 1 Axes>"
      ]
     },
     "metadata": {},
     "output_type": "display_data"
    },
    {
     "data": {
      "image/png": "[encoded data removed]",
      "text/plain": [
       "<Figure size 640x480 with 1 Axes>"
      ]
     },
     "metadata": {},
     "output_type": "display_data"
    },
    {
     "data": {
      "image/png": "[encoded data removed]",
      "text/plain": [
       "<Figure size 640x480 with 1 Axes>"
      ]
     },
     "metadata": {},
     "output_type": "display_data"
    },
    {
     "data": {
      "image/png": "[encoded data removed]",
      "text/plain": [
       "<Figure size 640x480 with 1 Axes>"
      ]
     },
     "metadata": {},
     "output_type": "display_data"
    },
    {
     "data": {
      "image/png": "[encoded data removed]",
      "text/plain": [
       "<Figure size 640x480 with 1 Axes>"
      ]
     },
     "metadata": {},
     "output_type": "display_data"
    },
    {
     "data": {
      "image/png": "[encoded data removed]",
      "text/plain": [
       "<Figure size 640x480 with 1 Axes>"
      ]
     },
     "metadata": {},
     "output_type": "display_data"
    },
    {
     "data": {
      "image/png": "[encoded data removed]",
      "text/plain": [
       "<Figure size 640x480 with 1 Axes>"
      ]
     },
     "metadata": {},
     "output_type": "display_data"
    },
    {
     "data": {
      "image/png": "[encoded data removed]",
      "text/plain": [
       "<Figure size 640x480 with 1 Axes>"
      ]
     },
     "metadata": {},
     "output_type": "display_data"
    }
   ],
   "source": [
    "#visualisation of the dataset using box and whisker plots\n",
    "#Univariate plots to better understand each attribute.\n",
    "# the distribution of the input attributes\n",
    "for i in  Hepatitis.columns[1:]:\n",
    " sns.boxplot( y=Hepatitis[i],width=0.3 )\n",
    " plt.show()"
   ]
  },
  {
   "cell_type": "code",
   "execution_count": 15,
   "id": "d001247f",
   "metadata": {
    "colab": {
     "base_uri": "https://localhost:8080/",
     "height": 1000
    },
    "executionInfo": {
     "elapsed": 1292,
     "status": "ok",
     "timestamp": 1684229284234,
     "user": {
      "displayName": "Linda LEBDJIRI",
      "userId": "00372522915833590184"
     },
     "user_tz": -60
    },
    "id": "d001247f",
    "outputId": "51435ae1-320f-4bcb-edc2-29fb49f6896a"
   },
   "outputs": [
    {
     "data": {
      "text/plain": [
       "<Axes: >"
      ]
     },
     "execution_count": 15,
     "metadata": {},
     "output_type": "execute_result"
    },
    {
     "data": {
      "image/png": "[encoded data removed]",
      "text/plain": [
       "<Figure size 2000x1800 with 1 Axes>"
      ]
     },
     "metadata": {},
     "output_type": "display_data"
    }
   ],
   "source": [
    "#Multivariate plots to better understand the relationships between attributes.\n",
    "sns.set(rc={'figure.figsize':(20,18)}, font_scale=0.8, style='whitegrid')\n",
    "sns.boxplot(data=Hepatitis)"
   ]
  },
  {
   "cell_type": "code",
   "execution_count": 16,
   "id": "ae20e068",
   "metadata": {
    "colab": {
     "base_uri": "https://localhost:8080/",
     "height": 1000
    },
    "executionInfo": {
     "elapsed": 7982,
     "status": "ok",
     "timestamp": 1684229295470,
     "user": {
      "displayName": "Linda LEBDJIRI",
      "userId": "00372522915833590184"
     },
     "user_tz": -60
    },
    "id": "ae20e068",
    "outputId": "a35ba400-5cbd-4f2c-cc9e-caa16be67f2f"
   },
   "outputs": [
    {
     "data": {
      "image/png": "[encoded data removed]",
      "text/plain": [
       "<Figure size 800x600 with 1 Axes>"
      ]
     },
     "metadata": {},
     "output_type": "display_data"
    },
    {
     "data": {
      "image/png": "[encoded data removed]",
      "text/plain": [
       "<Figure size 800x600 with 1 Axes>"
      ]
     },
     "metadata": {},
     "output_type": "display_data"
    },
    {
     "data": {
      "image/png": "[encoded data removed]",
      "text/plain": [
       "<Figure size 800x600 with 1 Axes>"
      ]
     },
     "metadata": {},
     "output_type": "display_data"
    },
    {
     "data": {
      "image/png": "[encoded data removed]",
      "text/plain": [
       "<Figure size 800x600 with 1 Axes>"
      ]
     },
     "metadata": {},
     "output_type": "display_data"
    },
    {
     "data": {
      "image/png": "[encoded data removed]",
      "text/plain": [
       "<Figure size 800x600 with 1 Axes>"
      ]
     },
     "metadata": {},
     "output_type": "display_data"
    },
    {
     "data": {
      "image/png": "[encoded data removed]",
      "text/plain": [
       "<Figure size 800x600 with 1 Axes>"
      ]
     },
     "metadata": {},
     "output_type": "display_data"
    },
    {
     "data": {
      "image/png": "[encoded data removed]",
      "text/plain": [
       "<Figure size 800x600 with 1 Axes>"
      ]
     },
     "metadata": {},
     "output_type": "display_data"
    },
    {
     "data": {
      "image/png": "[encoded data removed]",
      "text/plain": [
       "<Figure size 800x600 with 1 Axes>"
      ]
     },
     "metadata": {},
     "output_type": "display_data"
    },
    {
     "data": {
      "image/png": "[encoded data removed]",
      "text/plain": [
       "<Figure size 800x600 with 1 Axes>"
      ]
     },
     "metadata": {},
     "output_type": "display_data"
    },
    {
     "data": {
      "image/png": "[encoded data removed]",
      "text/plain": [
       "<Figure size 800x600 with 1 Axes>"
      ]
     },
     "metadata": {},
     "output_type": "display_data"
    },
    {
     "data": {
      "image/png": "[encoded data removed]",
      "text/plain": [
       "<Figure size 800x600 with 1 Axes>"
      ]
     },
     "metadata": {},
     "output_type": "display_data"
    },
    {
     "data": {
      "image/png": "[encoded data removed]",
      "text/plain": [
       "<Figure size 800x600 with 1 Axes>"
      ]
     },
     "metadata": {},
     "output_type": "display_data"
    },
    {
     "data": {
      "image/png": "[encoded data removed]",
      "text/plain": [
       "<Figure size 800x600 with 1 Axes>"
      ]
     },
     "metadata": {},
     "output_type": "display_data"
    },
    {
     "data": {
      "image/png": "[encoded data removed]",
      "text/plain": [
       "<Figure size 800x600 with 1 Axes>"
      ]
     },
     "metadata": {},
     "output_type": "display_data"
    },
    {
     "data": {
      "image/png": "[encoded data removed]",
      "text/plain": [
       "<Figure size 800x600 with 1 Axes>"
      ]
     },
     "metadata": {},
     "output_type": "display_data"
    },
    {
     "data": {
      "image/png": "[encoded data removed]",
      "text/plain": [
       "<Figure size 800x600 with 1 Axes>"
      ]
     },
     "metadata": {},
     "output_type": "display_data"
    },
    {
     "data": {
      "image/png": "[encoded data removed]",
      "text/plain": [
       "<Figure size 800x600 with 1 Axes>"
      ]
     },
     "metadata": {},
     "output_type": "display_data"
    },
    {
     "data": {
      "image/png": "[encoded data removed]",
      "text/plain": [
       "<Figure size 800x600 with 1 Axes>"
      ]
     },
     "metadata": {},
     "output_type": "display_data"
    },
    {
     "data": {
      "image/png": "[encoded data removed]",
      "text/plain": [
       "<Figure size 800x600 with 1 Axes>"
      ]
     },
     "metadata": {},
     "output_type": "display_data"
    }
   ],
   "source": [
    "#visualisation of the dataset using histograms\n",
    "sns.set(rc={'figure.figsize':(8,6)}, font_scale=0.8, style='whitegrid')\n",
    "style.use('ggplot')\n",
    "for i in  Hepatitis.columns[1:]:\n",
    "    plt.figure()\n",
    "    plt.xlabel(i)\n",
    "    plt.ylabel('frequency')  \n",
    "    plt.hist(Hepatitis[i],alpha = 0.47, color = 'red')\n",
    "    "
   ]
  },
  {
   "cell_type": "code",
   "execution_count": 17,
   "id": "475bfde0",
   "metadata": {
    "colab": {
     "base_uri": "https://localhost:8080/",
     "height": 505
    },
    "executionInfo": {
     "elapsed": 21,
     "status": "ok",
     "timestamp": 1684229295472,
     "user": {
      "displayName": "Linda LEBDJIRI",
      "userId": "00372522915833590184"
     },
     "user_tz": -60
    },
    "id": "475bfde0",
    "outputId": "ee40b0d0-43bc-4550-dd1c-f486688ca591"
   },
   "outputs": [
    {
     "data": {
      "text/html": [
       "\n",
       "  <div id=\"df-c356e1a9-01bf-4da8-9875-67e5a84845bc\">\n",
       "    <div class=\"colab-df-container\">\n",
       "      <div>\n",
       "<style scoped>\n",
       "    .dataframe tbody tr th:only-of-type {\n",
       "        vertical-align: middle;\n",
       "    }\n",
       "\n",
       "    .dataframe tbody tr th {\n",
       "        vertical-align: top;\n",
       "    }\n",
       "\n",
       "    .dataframe thead th {\n",
       "        text-align: right;\n",
       "    }\n",
       "</style>\n",
       "<table border=\"1\" class=\"dataframe\">\n",
       "  <thead>\n",
       "    <tr style=\"text-align: right;\">\n",
       "      <th></th>\n",
       "      <th>AGE</th>\n",
       "      <th>SEX</th>\n",
       "      <th>STEROID</th>\n",
       "      <th>ANTIVIRALS</th>\n",
       "      <th>FATIGUE</th>\n",
       "      <th>MALAISE</th>\n",
       "      <th>ANOREXIA</th>\n",
       "      <th>LIVER BIG</th>\n",
       "      <th>LIVER FIRM</th>\n",
       "      <th>SPLEEN PALPABLE</th>\n",
       "      <th>SPIDERS</th>\n",
       "      <th>ASCITES</th>\n",
       "      <th>VARICES</th>\n",
       "      <th>BILIRUBIN</th>\n",
       "      <th>ALK PHOSPHATE</th>\n",
       "      <th>SGOT</th>\n",
       "      <th>ALBUMIN</th>\n",
       "      <th>PROTIME</th>\n",
       "      <th>HISTOLOGY</th>\n",
       "    </tr>\n",
       "  </thead>\n",
       "  <tbody>\n",
       "    <tr>\n",
       "      <th>0</th>\n",
       "      <td>50.0</td>\n",
       "      <td>1.0</td>\n",
       "      <td>1.000000</td>\n",
       "      <td>2.0</td>\n",
       "      <td>1.0</td>\n",
       "      <td>2.0</td>\n",
       "      <td>2.0</td>\n",
       "      <td>1.0</td>\n",
       "      <td>2.0</td>\n",
       "      <td>2.0</td>\n",
       "      <td>2.0</td>\n",
       "      <td>2.0</td>\n",
       "      <td>2.0</td>\n",
       "      <td>0.9</td>\n",
       "      <td>135.000</td>\n",
       "      <td>42.0</td>\n",
       "      <td>3.5</td>\n",
       "      <td>61.852273</td>\n",
       "      <td>1.0</td>\n",
       "    </tr>\n",
       "    <tr>\n",
       "      <th>1</th>\n",
       "      <td>78.0</td>\n",
       "      <td>1.0</td>\n",
       "      <td>2.000000</td>\n",
       "      <td>2.0</td>\n",
       "      <td>1.0</td>\n",
       "      <td>2.0</td>\n",
       "      <td>2.0</td>\n",
       "      <td>2.0</td>\n",
       "      <td>2.0</td>\n",
       "      <td>2.0</td>\n",
       "      <td>2.0</td>\n",
       "      <td>2.0</td>\n",
       "      <td>2.0</td>\n",
       "      <td>0.7</td>\n",
       "      <td>96.000</td>\n",
       "      <td>32.0</td>\n",
       "      <td>4.0</td>\n",
       "      <td>61.852273</td>\n",
       "      <td>1.0</td>\n",
       "    </tr>\n",
       "    <tr>\n",
       "      <th>2</th>\n",
       "      <td>31.0</td>\n",
       "      <td>1.0</td>\n",
       "      <td>1.509804</td>\n",
       "      <td>1.0</td>\n",
       "      <td>2.0</td>\n",
       "      <td>2.0</td>\n",
       "      <td>2.0</td>\n",
       "      <td>2.0</td>\n",
       "      <td>2.0</td>\n",
       "      <td>2.0</td>\n",
       "      <td>2.0</td>\n",
       "      <td>2.0</td>\n",
       "      <td>2.0</td>\n",
       "      <td>0.7</td>\n",
       "      <td>46.000</td>\n",
       "      <td>52.0</td>\n",
       "      <td>4.0</td>\n",
       "      <td>80.000000</td>\n",
       "      <td>1.0</td>\n",
       "    </tr>\n",
       "    <tr>\n",
       "      <th>3</th>\n",
       "      <td>34.0</td>\n",
       "      <td>1.0</td>\n",
       "      <td>2.000000</td>\n",
       "      <td>2.0</td>\n",
       "      <td>2.0</td>\n",
       "      <td>2.0</td>\n",
       "      <td>2.0</td>\n",
       "      <td>2.0</td>\n",
       "      <td>2.0</td>\n",
       "      <td>2.0</td>\n",
       "      <td>2.0</td>\n",
       "      <td>2.0</td>\n",
       "      <td>2.0</td>\n",
       "      <td>1.0</td>\n",
       "      <td>105.488</td>\n",
       "      <td>200.0</td>\n",
       "      <td>4.0</td>\n",
       "      <td>61.852273</td>\n",
       "      <td>1.0</td>\n",
       "    </tr>\n",
       "    <tr>\n",
       "      <th>4</th>\n",
       "      <td>34.0</td>\n",
       "      <td>1.0</td>\n",
       "      <td>2.000000</td>\n",
       "      <td>2.0</td>\n",
       "      <td>2.0</td>\n",
       "      <td>2.0</td>\n",
       "      <td>2.0</td>\n",
       "      <td>2.0</td>\n",
       "      <td>2.0</td>\n",
       "      <td>2.0</td>\n",
       "      <td>2.0</td>\n",
       "      <td>2.0</td>\n",
       "      <td>2.0</td>\n",
       "      <td>0.9</td>\n",
       "      <td>95.000</td>\n",
       "      <td>28.0</td>\n",
       "      <td>4.0</td>\n",
       "      <td>75.000000</td>\n",
       "      <td>1.0</td>\n",
       "    </tr>\n",
       "    <tr>\n",
       "      <th>...</th>\n",
       "      <td>...</td>\n",
       "      <td>...</td>\n",
       "      <td>...</td>\n",
       "      <td>...</td>\n",
       "      <td>...</td>\n",
       "      <td>...</td>\n",
       "      <td>...</td>\n",
       "      <td>...</td>\n",
       "      <td>...</td>\n",
       "      <td>...</td>\n",
       "      <td>...</td>\n",
       "      <td>...</td>\n",
       "      <td>...</td>\n",
       "      <td>...</td>\n",
       "      <td>...</td>\n",
       "      <td>...</td>\n",
       "      <td>...</td>\n",
       "      <td>...</td>\n",
       "      <td>...</td>\n",
       "    </tr>\n",
       "    <tr>\n",
       "      <th>149</th>\n",
       "      <td>46.0</td>\n",
       "      <td>1.0</td>\n",
       "      <td>2.000000</td>\n",
       "      <td>2.0</td>\n",
       "      <td>1.0</td>\n",
       "      <td>1.0</td>\n",
       "      <td>1.0</td>\n",
       "      <td>2.0</td>\n",
       "      <td>2.0</td>\n",
       "      <td>2.0</td>\n",
       "      <td>1.0</td>\n",
       "      <td>1.0</td>\n",
       "      <td>1.0</td>\n",
       "      <td>7.6</td>\n",
       "      <td>105.488</td>\n",
       "      <td>242.0</td>\n",
       "      <td>3.3</td>\n",
       "      <td>50.000000</td>\n",
       "      <td>2.0</td>\n",
       "    </tr>\n",
       "    <tr>\n",
       "      <th>150</th>\n",
       "      <td>44.0</td>\n",
       "      <td>1.0</td>\n",
       "      <td>2.000000</td>\n",
       "      <td>2.0</td>\n",
       "      <td>1.0</td>\n",
       "      <td>2.0</td>\n",
       "      <td>2.0</td>\n",
       "      <td>2.0</td>\n",
       "      <td>1.0</td>\n",
       "      <td>2.0</td>\n",
       "      <td>2.0</td>\n",
       "      <td>2.0</td>\n",
       "      <td>2.0</td>\n",
       "      <td>0.9</td>\n",
       "      <td>126.000</td>\n",
       "      <td>142.0</td>\n",
       "      <td>4.3</td>\n",
       "      <td>61.852273</td>\n",
       "      <td>2.0</td>\n",
       "    </tr>\n",
       "    <tr>\n",
       "      <th>151</th>\n",
       "      <td>61.0</td>\n",
       "      <td>1.0</td>\n",
       "      <td>1.000000</td>\n",
       "      <td>2.0</td>\n",
       "      <td>1.0</td>\n",
       "      <td>1.0</td>\n",
       "      <td>2.0</td>\n",
       "      <td>1.0</td>\n",
       "      <td>1.0</td>\n",
       "      <td>2.0</td>\n",
       "      <td>1.0</td>\n",
       "      <td>2.0</td>\n",
       "      <td>2.0</td>\n",
       "      <td>0.8</td>\n",
       "      <td>75.000</td>\n",
       "      <td>20.0</td>\n",
       "      <td>4.1</td>\n",
       "      <td>61.852273</td>\n",
       "      <td>2.0</td>\n",
       "    </tr>\n",
       "    <tr>\n",
       "      <th>152</th>\n",
       "      <td>53.0</td>\n",
       "      <td>2.0</td>\n",
       "      <td>1.000000</td>\n",
       "      <td>2.0</td>\n",
       "      <td>1.0</td>\n",
       "      <td>2.0</td>\n",
       "      <td>2.0</td>\n",
       "      <td>2.0</td>\n",
       "      <td>2.0</td>\n",
       "      <td>1.0</td>\n",
       "      <td>1.0</td>\n",
       "      <td>2.0</td>\n",
       "      <td>1.0</td>\n",
       "      <td>1.5</td>\n",
       "      <td>81.000</td>\n",
       "      <td>19.0</td>\n",
       "      <td>4.1</td>\n",
       "      <td>48.000000</td>\n",
       "      <td>2.0</td>\n",
       "    </tr>\n",
       "    <tr>\n",
       "      <th>153</th>\n",
       "      <td>43.0</td>\n",
       "      <td>1.0</td>\n",
       "      <td>2.000000</td>\n",
       "      <td>2.0</td>\n",
       "      <td>1.0</td>\n",
       "      <td>2.0</td>\n",
       "      <td>2.0</td>\n",
       "      <td>2.0</td>\n",
       "      <td>2.0</td>\n",
       "      <td>1.0</td>\n",
       "      <td>1.0</td>\n",
       "      <td>1.0</td>\n",
       "      <td>2.0</td>\n",
       "      <td>1.2</td>\n",
       "      <td>100.000</td>\n",
       "      <td>19.0</td>\n",
       "      <td>3.1</td>\n",
       "      <td>42.000000</td>\n",
       "      <td>2.0</td>\n",
       "    </tr>\n",
       "  </tbody>\n",
       "</table>\n",
       "<p>154 rows × 19 columns</p>\n",
       "</div>\n",
       "      <button class=\"colab-df-convert\" onclick=\"convertToInteractive('df-c356e1a9-01bf-4da8-9875-67e5a84845bc')\"\n",
       "              title=\"Convert this dataframe to an interactive table.\"\n",
       "              style=\"display:none;\">\n",
       "        \n",
       "  <svg xmlns=\"http://www.w3.org/2000/svg\" height=\"24px\"viewBox=\"0 0 24 24\"\n",
       "       width=\"24px\">\n",
       "    <path d=\"M0 0h24v24H0V0z\" fill=\"none\"/>\n",
       "    <path d=\"M18.56 5.44l.94 2.06.94-2.06 2.06-.94-2.06-.94-.94-2.06-.94 2.06-2.06.94zm-11 1L8.5 8.5l.94-2.06 2.06-.94-2.06-.94L8.5 2.5l-.94 2.06-2.06.94zm10 10l.94 2.06.94-2.06 2.06-.94-2.06-.94-.94-2.06-.94 2.06-2.06.94z\"/><path d=\"M17.41 7.96l-1.37-1.37c-.4-.4-.92-.59-1.43-.59-.52 0-1.04.2-1.43.59L10.3 9.45l-7.72 7.72c-.78.78-.78 2.05 0 2.83L4 21.41c.39.39.9.59 1.41.59.51 0 1.02-.2 1.41-.59l7.78-7.78 2.81-2.81c.8-.78.8-2.07 0-2.86zM5.41 20L4 18.59l7.72-7.72 1.47 1.35L5.41 20z\"/>\n",
       "  </svg>\n",
       "      </button>\n",
       "      \n",
       "  <style>\n",
       "    .colab-df-container {\n",
       "      display:flex;\n",
       "      flex-wrap:wrap;\n",
       "      gap: 12px;\n",
       "    }\n",
       "\n",
       "    .colab-df-convert {\n",
       "      background-color: #E8F0FE;\n",
       "      border: none;\n",
       "      border-radius: 50%;\n",
       "      cursor: pointer;\n",
       "      display: none;\n",
       "      fill: #1967D2;\n",
       "      height: 32px;\n",
       "      padding: 0 0 0 0;\n",
       "      width: 32px;\n",
       "    }\n",
       "\n",
       "    .colab-df-convert:hover {\n",
       "      background-color: #E2EBFA;\n",
       "      box-shadow: 0px 1px 2px rgba(60, 64, 67, 0.3), 0px 1px 3px 1px rgba(60, 64, 67, 0.15);\n",
       "      fill: #174EA6;\n",
       "    }\n",
       "\n",
       "    [theme=dark] .colab-df-convert {\n",
       "      background-color: #3B4455;\n",
       "      fill: #D2E3FC;\n",
       "    }\n",
       "\n",
       "    [theme=dark] .colab-df-convert:hover {\n",
       "      background-color: #434B5C;\n",
       "      box-shadow: 0px 1px 3px 1px rgba(0, 0, 0, 0.15);\n",
       "      filter: drop-shadow(0px 1px 2px rgba(0, 0, 0, 0.3));\n",
       "      fill: #FFFFFF;\n",
       "    }\n",
       "  </style>\n",
       "\n",
       "      <script>\n",
       "        const buttonEl =\n",
       "          document.querySelector('#df-c356e1a9-01bf-4da8-9875-67e5a84845bc button.colab-df-convert');\n",
       "        buttonEl.style.display =\n",
       "          google.colab.kernel.accessAllowed ? 'block' : 'none';\n",
       "\n",
       "        async function convertToInteractive(key) {\n",
       "          const element = document.querySelector('#df-c356e1a9-01bf-4da8-9875-67e5a84845bc');\n",
       "          const dataTable =\n",
       "            await google.colab.kernel.invokeFunction('convertToInteractive',\n",
       "                                                     [key], {});\n",
       "          if (!dataTable) return;\n",
       "\n",
       "          const docLinkHtml = 'Like what you see? Visit the ' +\n",
       "            '<a target=\"_blank\" href=https://colab.research.google.com/notebooks/data_table.ipynb>data table notebook</a>'\n",
       "            + ' to learn more about interactive tables.';\n",
       "          element.innerHTML = '';\n",
       "          dataTable['output_type'] = 'display_data';\n",
       "          await google.colab.output.renderOutput(dataTable, element);\n",
       "          const docLink = document.createElement('div');\n",
       "          docLink.innerHTML = docLinkHtml;\n",
       "          element.appendChild(docLink);\n",
       "        }\n",
       "      </script>\n",
       "    </div>\n",
       "  </div>\n",
       "  "
      ],
      "text/plain": [
       "      AGE  SEX   STEROID  ANTIVIRALS  FATIGUE  MALAISE  ANOREXIA  LIVER BIG  \\\n",
       "0    50.0  1.0  1.000000         2.0      1.0      2.0       2.0        1.0   \n",
       "1    78.0  1.0  2.000000         2.0      1.0      2.0       2.0        2.0   \n",
       "2    31.0  1.0  1.509804         1.0      2.0      2.0       2.0        2.0   \n",
       "3    34.0  1.0  2.000000         2.0      2.0      2.0       2.0        2.0   \n",
       "4    34.0  1.0  2.000000         2.0      2.0      2.0       2.0        2.0   \n",
       "..    ...  ...       ...         ...      ...      ...       ...        ...   \n",
       "149  46.0  1.0  2.000000         2.0      1.0      1.0       1.0        2.0   \n",
       "150  44.0  1.0  2.000000         2.0      1.0      2.0       2.0        2.0   \n",
       "151  61.0  1.0  1.000000         2.0      1.0      1.0       2.0        1.0   \n",
       "152  53.0  2.0  1.000000         2.0      1.0      2.0       2.0        2.0   \n",
       "153  43.0  1.0  2.000000         2.0      1.0      2.0       2.0        2.0   \n",
       "\n",
       "     LIVER FIRM  SPLEEN PALPABLE  SPIDERS  ASCITES  VARICES  BILIRUBIN  \\\n",
       "0           2.0              2.0      2.0      2.0      2.0        0.9   \n",
       "1           2.0              2.0      2.0      2.0      2.0        0.7   \n",
       "2           2.0              2.0      2.0      2.0      2.0        0.7   \n",
       "3           2.0              2.0      2.0      2.0      2.0        1.0   \n",
       "4           2.0              2.0      2.0      2.0      2.0        0.9   \n",
       "..          ...              ...      ...      ...      ...        ...   \n",
       "149         2.0              2.0      1.0      1.0      1.0        7.6   \n",
       "150         1.0              2.0      2.0      2.0      2.0        0.9   \n",
       "151         1.0              2.0      1.0      2.0      2.0        0.8   \n",
       "152         2.0              1.0      1.0      2.0      1.0        1.5   \n",
       "153         2.0              1.0      1.0      1.0      2.0        1.2   \n",
       "\n",
       "     ALK PHOSPHATE   SGOT  ALBUMIN    PROTIME  HISTOLOGY  \n",
       "0          135.000   42.0      3.5  61.852273        1.0  \n",
       "1           96.000   32.0      4.0  61.852273        1.0  \n",
       "2           46.000   52.0      4.0  80.000000        1.0  \n",
       "3          105.488  200.0      4.0  61.852273        1.0  \n",
       "4           95.000   28.0      4.0  75.000000        1.0  \n",
       "..             ...    ...      ...        ...        ...  \n",
       "149        105.488  242.0      3.3  50.000000        2.0  \n",
       "150        126.000  142.0      4.3  61.852273        2.0  \n",
       "151         75.000   20.0      4.1  61.852273        2.0  \n",
       "152         81.000   19.0      4.1  48.000000        2.0  \n",
       "153        100.000   19.0      3.1  42.000000        2.0  \n",
       "\n",
       "[154 rows x 19 columns]"
      ]
     },
     "execution_count": 17,
     "metadata": {},
     "output_type": "execute_result"
    }
   ],
   "source": [
    "#Extracting all the features used except the class column\n",
    "features = list(Hepatitis.columns)[1:]\n",
    "X=Hepatitis[features]\n",
    "X"
   ]
  },
  {
   "cell_type": "code",
   "execution_count": 18,
   "id": "61f13d89",
   "metadata": {
    "colab": {
     "base_uri": "https://localhost:8080/"
    },
    "executionInfo": {
     "elapsed": 11,
     "status": "ok",
     "timestamp": 1684229296855,
     "user": {
      "displayName": "Linda LEBDJIRI",
      "userId": "00372522915833590184"
     },
     "user_tz": -60
    },
    "id": "61f13d89",
    "outputId": "44f08311-d366-43ce-e859-9bf9f7426792"
   },
   "outputs": [
    {
     "data": {
      "text/plain": [
       "array([[ 0.69633156, -0.32850216, -1.02313117, ..., -0.51241652,\n",
       "         0.        , -0.91287093],\n",
       "       [ 2.93039531, -0.32850216,  0.98377997, ...,  0.29851788,\n",
       "         0.        , -0.91287093],\n",
       "       [-0.81964027, -0.32850216,  0.        , ...,  0.29851788,\n",
       "         1.05549759, -0.91287093],\n",
       "       ...,\n",
       "       [ 1.57399946, -0.32850216, -1.02313117, ...,  0.46070477,\n",
       "         0.        ,  1.09544512],\n",
       "       [ 0.93569553,  3.04412002, -1.02313117, ...,  0.46070477,\n",
       "        -0.80566786,  1.09544512],\n",
       "       [ 0.13781562, -0.32850216,  0.98377997, ..., -1.16116405,\n",
       "        -1.15463638,  1.09544512]])"
      ]
     },
     "execution_count": 18,
     "metadata": {},
     "output_type": "execute_result"
    }
   ],
   "source": [
    "from sklearn.preprocessing import StandardScaler\n",
    "scaler=StandardScaler()\n",
    "#fit and transform the data\n",
    "scaled_data =scaler.fit_transform(X)\n",
    "scaled_data"
   ]
  },
  {
   "cell_type": "code",
   "execution_count": 19,
   "id": "009ce0e4",
   "metadata": {
    "colab": {
     "base_uri": "https://localhost:8080/",
     "height": 505
    },
    "executionInfo": {
     "elapsed": 17,
     "status": "ok",
     "timestamp": 1684229299855,
     "user": {
      "displayName": "Linda LEBDJIRI",
      "userId": "00372522915833590184"
     },
     "user_tz": -60
    },
    "id": "009ce0e4",
    "outputId": "3e730109-5c73-4845-e4d8-de7415283fc2"
   },
   "outputs": [
    {
     "data": {
      "text/html": [
       "\n",
       "  <div id=\"df-3ae53420-9628-4812-8658-505060c06d2d\">\n",
       "    <div class=\"colab-df-container\">\n",
       "      <div>\n",
       "<style scoped>\n",
       "    .dataframe tbody tr th:only-of-type {\n",
       "        vertical-align: middle;\n",
       "    }\n",
       "\n",
       "    .dataframe tbody tr th {\n",
       "        vertical-align: top;\n",
       "    }\n",
       "\n",
       "    .dataframe thead th {\n",
       "        text-align: right;\n",
       "    }\n",
       "</style>\n",
       "<table border=\"1\" class=\"dataframe\">\n",
       "  <thead>\n",
       "    <tr style=\"text-align: right;\">\n",
       "      <th></th>\n",
       "      <th>AGE</th>\n",
       "      <th>SEX</th>\n",
       "      <th>STEROID</th>\n",
       "      <th>ANTIVIRALS</th>\n",
       "      <th>FATIGUE</th>\n",
       "      <th>MALAISE</th>\n",
       "      <th>ANOREXIA</th>\n",
       "      <th>LIVER BIG</th>\n",
       "      <th>LIVER FIRM</th>\n",
       "      <th>SPLEEN PALPABLE</th>\n",
       "      <th>SPIDERS</th>\n",
       "      <th>ASCITES</th>\n",
       "      <th>VARICES</th>\n",
       "      <th>BILIRUBIN</th>\n",
       "      <th>ALK PHOSPHATE</th>\n",
       "      <th>SGOT</th>\n",
       "      <th>ALBUMIN</th>\n",
       "      <th>PROTIME</th>\n",
       "      <th>HISTOLOGY</th>\n",
       "    </tr>\n",
       "  </thead>\n",
       "  <tbody>\n",
       "    <tr>\n",
       "      <th>0</th>\n",
       "      <td>0.696332</td>\n",
       "      <td>-0.328502</td>\n",
       "      <td>-1.023131</td>\n",
       "      <td>0.429669</td>\n",
       "      <td>-0.730386</td>\n",
       "      <td>0.816932</td>\n",
       "      <td>0.515937</td>\n",
       "      <td>-2.312406</td>\n",
       "      <td>0.882326</td>\n",
       "      <td>0.510451</td>\n",
       "      <td>0.733397</td>\n",
       "      <td>0.400302</td>\n",
       "      <td>0.376849</td>\n",
       "      <td>-0.446545</td>\n",
       "      <td>0.636358</td>\n",
       "      <td>-0.502179</td>\n",
       "      <td>-0.512417</td>\n",
       "      <td>0.000000</td>\n",
       "      <td>-0.912871</td>\n",
       "    </tr>\n",
       "    <tr>\n",
       "      <th>1</th>\n",
       "      <td>2.930395</td>\n",
       "      <td>-0.328502</td>\n",
       "      <td>0.983780</td>\n",
       "      <td>0.429669</td>\n",
       "      <td>-0.730386</td>\n",
       "      <td>0.816932</td>\n",
       "      <td>0.515937</td>\n",
       "      <td>0.462481</td>\n",
       "      <td>0.882326</td>\n",
       "      <td>0.510451</td>\n",
       "      <td>0.733397</td>\n",
       "      <td>0.400302</td>\n",
       "      <td>0.376849</td>\n",
       "      <td>-0.614924</td>\n",
       "      <td>-0.204587</td>\n",
       "      <td>-0.615418</td>\n",
       "      <td>0.298518</td>\n",
       "      <td>0.000000</td>\n",
       "      <td>-0.912871</td>\n",
       "    </tr>\n",
       "    <tr>\n",
       "      <th>2</th>\n",
       "      <td>-0.819640</td>\n",
       "      <td>-0.328502</td>\n",
       "      <td>0.000000</td>\n",
       "      <td>-2.327373</td>\n",
       "      <td>1.378087</td>\n",
       "      <td>0.816932</td>\n",
       "      <td>0.515937</td>\n",
       "      <td>0.462481</td>\n",
       "      <td>0.882326</td>\n",
       "      <td>0.510451</td>\n",
       "      <td>0.733397</td>\n",
       "      <td>0.400302</td>\n",
       "      <td>0.376849</td>\n",
       "      <td>-0.614924</td>\n",
       "      <td>-1.282720</td>\n",
       "      <td>-0.388940</td>\n",
       "      <td>0.298518</td>\n",
       "      <td>1.055498</td>\n",
       "      <td>-0.912871</td>\n",
       "    </tr>\n",
       "    <tr>\n",
       "      <th>3</th>\n",
       "      <td>-0.580276</td>\n",
       "      <td>-0.328502</td>\n",
       "      <td>0.983780</td>\n",
       "      <td>0.429669</td>\n",
       "      <td>1.378087</td>\n",
       "      <td>0.816932</td>\n",
       "      <td>0.515937</td>\n",
       "      <td>0.462481</td>\n",
       "      <td>0.882326</td>\n",
       "      <td>0.510451</td>\n",
       "      <td>0.733397</td>\n",
       "      <td>0.400302</td>\n",
       "      <td>0.376849</td>\n",
       "      <td>-0.362356</td>\n",
       "      <td>0.000000</td>\n",
       "      <td>1.287003</td>\n",
       "      <td>0.298518</td>\n",
       "      <td>0.000000</td>\n",
       "      <td>-0.912871</td>\n",
       "    </tr>\n",
       "    <tr>\n",
       "      <th>4</th>\n",
       "      <td>-0.580276</td>\n",
       "      <td>-0.328502</td>\n",
       "      <td>0.983780</td>\n",
       "      <td>0.429669</td>\n",
       "      <td>1.378087</td>\n",
       "      <td>0.816932</td>\n",
       "      <td>0.515937</td>\n",
       "      <td>0.462481</td>\n",
       "      <td>0.882326</td>\n",
       "      <td>0.510451</td>\n",
       "      <td>0.733397</td>\n",
       "      <td>0.400302</td>\n",
       "      <td>0.376849</td>\n",
       "      <td>-0.446545</td>\n",
       "      <td>-0.226149</td>\n",
       "      <td>-0.660714</td>\n",
       "      <td>0.298518</td>\n",
       "      <td>0.764690</td>\n",
       "      <td>-0.912871</td>\n",
       "    </tr>\n",
       "    <tr>\n",
       "      <th>...</th>\n",
       "      <td>...</td>\n",
       "      <td>...</td>\n",
       "      <td>...</td>\n",
       "      <td>...</td>\n",
       "      <td>...</td>\n",
       "      <td>...</td>\n",
       "      <td>...</td>\n",
       "      <td>...</td>\n",
       "      <td>...</td>\n",
       "      <td>...</td>\n",
       "      <td>...</td>\n",
       "      <td>...</td>\n",
       "      <td>...</td>\n",
       "      <td>...</td>\n",
       "      <td>...</td>\n",
       "      <td>...</td>\n",
       "      <td>...</td>\n",
       "      <td>...</td>\n",
       "      <td>...</td>\n",
       "    </tr>\n",
       "    <tr>\n",
       "      <th>149</th>\n",
       "      <td>0.377180</td>\n",
       "      <td>-0.328502</td>\n",
       "      <td>0.983780</td>\n",
       "      <td>0.429669</td>\n",
       "      <td>-0.730386</td>\n",
       "      <td>-1.232093</td>\n",
       "      <td>-1.950888</td>\n",
       "      <td>0.462481</td>\n",
       "      <td>0.882326</td>\n",
       "      <td>0.510451</td>\n",
       "      <td>-1.409273</td>\n",
       "      <td>-2.581946</td>\n",
       "      <td>-2.742626</td>\n",
       "      <td>5.194143</td>\n",
       "      <td>0.000000</td>\n",
       "      <td>1.762609</td>\n",
       "      <td>-0.836790</td>\n",
       "      <td>-0.689345</td>\n",
       "      <td>1.095445</td>\n",
       "    </tr>\n",
       "    <tr>\n",
       "      <th>150</th>\n",
       "      <td>0.217604</td>\n",
       "      <td>-0.328502</td>\n",
       "      <td>0.983780</td>\n",
       "      <td>0.429669</td>\n",
       "      <td>-0.730386</td>\n",
       "      <td>0.816932</td>\n",
       "      <td>0.515937</td>\n",
       "      <td>0.462481</td>\n",
       "      <td>-1.220551</td>\n",
       "      <td>0.510451</td>\n",
       "      <td>0.733397</td>\n",
       "      <td>0.400302</td>\n",
       "      <td>0.376849</td>\n",
       "      <td>-0.446545</td>\n",
       "      <td>0.442294</td>\n",
       "      <td>0.630215</td>\n",
       "      <td>0.785079</td>\n",
       "      <td>0.000000</td>\n",
       "      <td>1.095445</td>\n",
       "    </tr>\n",
       "    <tr>\n",
       "      <th>151</th>\n",
       "      <td>1.573999</td>\n",
       "      <td>-0.328502</td>\n",
       "      <td>-1.023131</td>\n",
       "      <td>0.429669</td>\n",
       "      <td>-0.730386</td>\n",
       "      <td>-1.232093</td>\n",
       "      <td>0.515937</td>\n",
       "      <td>-2.312406</td>\n",
       "      <td>-1.220551</td>\n",
       "      <td>0.510451</td>\n",
       "      <td>-1.409273</td>\n",
       "      <td>0.400302</td>\n",
       "      <td>0.376849</td>\n",
       "      <td>-0.530734</td>\n",
       "      <td>-0.657403</td>\n",
       "      <td>-0.751306</td>\n",
       "      <td>0.460705</td>\n",
       "      <td>0.000000</td>\n",
       "      <td>1.095445</td>\n",
       "    </tr>\n",
       "    <tr>\n",
       "      <th>152</th>\n",
       "      <td>0.935696</td>\n",
       "      <td>3.044120</td>\n",
       "      <td>-1.023131</td>\n",
       "      <td>0.429669</td>\n",
       "      <td>-0.730386</td>\n",
       "      <td>0.816932</td>\n",
       "      <td>0.515937</td>\n",
       "      <td>0.462481</td>\n",
       "      <td>0.882326</td>\n",
       "      <td>-2.024790</td>\n",
       "      <td>-1.409273</td>\n",
       "      <td>0.400302</td>\n",
       "      <td>-2.742626</td>\n",
       "      <td>0.058591</td>\n",
       "      <td>-0.528027</td>\n",
       "      <td>-0.762630</td>\n",
       "      <td>0.460705</td>\n",
       "      <td>-0.805668</td>\n",
       "      <td>1.095445</td>\n",
       "    </tr>\n",
       "    <tr>\n",
       "      <th>153</th>\n",
       "      <td>0.137816</td>\n",
       "      <td>-0.328502</td>\n",
       "      <td>0.983780</td>\n",
       "      <td>0.429669</td>\n",
       "      <td>-0.730386</td>\n",
       "      <td>0.816932</td>\n",
       "      <td>0.515937</td>\n",
       "      <td>0.462481</td>\n",
       "      <td>0.882326</td>\n",
       "      <td>-2.024790</td>\n",
       "      <td>-1.409273</td>\n",
       "      <td>-2.581946</td>\n",
       "      <td>0.376849</td>\n",
       "      <td>-0.193977</td>\n",
       "      <td>-0.118336</td>\n",
       "      <td>-0.762630</td>\n",
       "      <td>-1.161164</td>\n",
       "      <td>-1.154636</td>\n",
       "      <td>1.095445</td>\n",
       "    </tr>\n",
       "  </tbody>\n",
       "</table>\n",
       "<p>154 rows × 19 columns</p>\n",
       "</div>\n",
       "      <button class=\"colab-df-convert\" onclick=\"convertToInteractive('df-3ae53420-9628-4812-8658-505060c06d2d')\"\n",
       "              title=\"Convert this dataframe to an interactive table.\"\n",
       "              style=\"display:none;\">\n",
       "        \n",
       "  <svg xmlns=\"http://www.w3.org/2000/svg\" height=\"24px\"viewBox=\"0 0 24 24\"\n",
       "       width=\"24px\">\n",
       "    <path d=\"M0 0h24v24H0V0z\" fill=\"none\"/>\n",
       "    <path d=\"M18.56 5.44l.94 2.06.94-2.06 2.06-.94-2.06-.94-.94-2.06-.94 2.06-2.06.94zm-11 1L8.5 8.5l.94-2.06 2.06-.94-2.06-.94L8.5 2.5l-.94 2.06-2.06.94zm10 10l.94 2.06.94-2.06 2.06-.94-2.06-.94-.94-2.06-.94 2.06-2.06.94z\"/><path d=\"M17.41 7.96l-1.37-1.37c-.4-.4-.92-.59-1.43-.59-.52 0-1.04.2-1.43.59L10.3 9.45l-7.72 7.72c-.78.78-.78 2.05 0 2.83L4 21.41c.39.39.9.59 1.41.59.51 0 1.02-.2 1.41-.59l7.78-7.78 2.81-2.81c.8-.78.8-2.07 0-2.86zM5.41 20L4 18.59l7.72-7.72 1.47 1.35L5.41 20z\"/>\n",
       "  </svg>\n",
       "      </button>\n",
       "      \n",
       "  <style>\n",
       "    .colab-df-container {\n",
       "      display:flex;\n",
       "      flex-wrap:wrap;\n",
       "      gap: 12px;\n",
       "    }\n",
       "\n",
       "    .colab-df-convert {\n",
       "      background-color: #E8F0FE;\n",
       "      border: none;\n",
       "      border-radius: 50%;\n",
       "      cursor: pointer;\n",
       "      display: none;\n",
       "      fill: #1967D2;\n",
       "      height: 32px;\n",
       "      padding: 0 0 0 0;\n",
       "      width: 32px;\n",
       "    }\n",
       "\n",
       "    .colab-df-convert:hover {\n",
       "      background-color: #E2EBFA;\n",
       "      box-shadow: 0px 1px 2px rgba(60, 64, 67, 0.3), 0px 1px 3px 1px rgba(60, 64, 67, 0.15);\n",
       "      fill: #174EA6;\n",
       "    }\n",
       "\n",
       "    [theme=dark] .colab-df-convert {\n",
       "      background-color: #3B4455;\n",
       "      fill: #D2E3FC;\n",
       "    }\n",
       "\n",
       "    [theme=dark] .colab-df-convert:hover {\n",
       "      background-color: #434B5C;\n",
       "      box-shadow: 0px 1px 3px 1px rgba(0, 0, 0, 0.15);\n",
       "      filter: drop-shadow(0px 1px 2px rgba(0, 0, 0, 0.3));\n",
       "      fill: #FFFFFF;\n",
       "    }\n",
       "  </style>\n",
       "\n",
       "      <script>\n",
       "        const buttonEl =\n",
       "          document.querySelector('#df-3ae53420-9628-4812-8658-505060c06d2d button.colab-df-convert');\n",
       "        buttonEl.style.display =\n",
       "          google.colab.kernel.accessAllowed ? 'block' : 'none';\n",
       "\n",
       "        async function convertToInteractive(key) {\n",
       "          const element = document.querySelector('#df-3ae53420-9628-4812-8658-505060c06d2d');\n",
       "          const dataTable =\n",
       "            await google.colab.kernel.invokeFunction('convertToInteractive',\n",
       "                                                     [key], {});\n",
       "          if (!dataTable) return;\n",
       "\n",
       "          const docLinkHtml = 'Like what you see? Visit the ' +\n",
       "            '<a target=\"_blank\" href=https://colab.research.google.com/notebooks/data_table.ipynb>data table notebook</a>'\n",
       "            + ' to learn more about interactive tables.';\n",
       "          element.innerHTML = '';\n",
       "          dataTable['output_type'] = 'display_data';\n",
       "          await google.colab.output.renderOutput(dataTable, element);\n",
       "          const docLink = document.createElement('div');\n",
       "          docLink.innerHTML = docLinkHtml;\n",
       "          element.appendChild(docLink);\n",
       "        }\n",
       "      </script>\n",
       "    </div>\n",
       "  </div>\n",
       "  "
      ],
      "text/plain": [
       "          AGE       SEX   STEROID  ANTIVIRALS   FATIGUE   MALAISE  ANOREXIA  \\\n",
       "0    0.696332 -0.328502 -1.023131    0.429669 -0.730386  0.816932  0.515937   \n",
       "1    2.930395 -0.328502  0.983780    0.429669 -0.730386  0.816932  0.515937   \n",
       "2   -0.819640 -0.328502  0.000000   -2.327373  1.378087  0.816932  0.515937   \n",
       "3   -0.580276 -0.328502  0.983780    0.429669  1.378087  0.816932  0.515937   \n",
       "4   -0.580276 -0.328502  0.983780    0.429669  1.378087  0.816932  0.515937   \n",
       "..        ...       ...       ...         ...       ...       ...       ...   \n",
       "149  0.377180 -0.328502  0.983780    0.429669 -0.730386 -1.232093 -1.950888   \n",
       "150  0.217604 -0.328502  0.983780    0.429669 -0.730386  0.816932  0.515937   \n",
       "151  1.573999 -0.328502 -1.023131    0.429669 -0.730386 -1.232093  0.515937   \n",
       "152  0.935696  3.044120 -1.023131    0.429669 -0.730386  0.816932  0.515937   \n",
       "153  0.137816 -0.328502  0.983780    0.429669 -0.730386  0.816932  0.515937   \n",
       "\n",
       "     LIVER BIG  LIVER FIRM  SPLEEN PALPABLE   SPIDERS   ASCITES   VARICES  \\\n",
       "0    -2.312406    0.882326         0.510451  0.733397  0.400302  0.376849   \n",
       "1     0.462481    0.882326         0.510451  0.733397  0.400302  0.376849   \n",
       "2     0.462481    0.882326         0.510451  0.733397  0.400302  0.376849   \n",
       "3     0.462481    0.882326         0.510451  0.733397  0.400302  0.376849   \n",
       "4     0.462481    0.882326         0.510451  0.733397  0.400302  0.376849   \n",
       "..         ...         ...              ...       ...       ...       ...   \n",
       "149   0.462481    0.882326         0.510451 -1.409273 -2.581946 -2.742626   \n",
       "150   0.462481   -1.220551         0.510451  0.733397  0.400302  0.376849   \n",
       "151  -2.312406   -1.220551         0.510451 -1.409273  0.400302  0.376849   \n",
       "152   0.462481    0.882326        -2.024790 -1.409273  0.400302 -2.742626   \n",
       "153   0.462481    0.882326        -2.024790 -1.409273 -2.581946  0.376849   \n",
       "\n",
       "     BILIRUBIN  ALK PHOSPHATE      SGOT   ALBUMIN   PROTIME  HISTOLOGY  \n",
       "0    -0.446545       0.636358 -0.502179 -0.512417  0.000000  -0.912871  \n",
       "1    -0.614924      -0.204587 -0.615418  0.298518  0.000000  -0.912871  \n",
       "2    -0.614924      -1.282720 -0.388940  0.298518  1.055498  -0.912871  \n",
       "3    -0.362356       0.000000  1.287003  0.298518  0.000000  -0.912871  \n",
       "4    -0.446545      -0.226149 -0.660714  0.298518  0.764690  -0.912871  \n",
       "..         ...            ...       ...       ...       ...        ...  \n",
       "149   5.194143       0.000000  1.762609 -0.836790 -0.689345   1.095445  \n",
       "150  -0.446545       0.442294  0.630215  0.785079  0.000000   1.095445  \n",
       "151  -0.530734      -0.657403 -0.751306  0.460705  0.000000   1.095445  \n",
       "152   0.058591      -0.528027 -0.762630  0.460705 -0.805668   1.095445  \n",
       "153  -0.193977      -0.118336 -0.762630 -1.161164 -1.154636   1.095445  \n",
       "\n",
       "[154 rows x 19 columns]"
      ]
     },
     "execution_count": 19,
     "metadata": {},
     "output_type": "execute_result"
    }
   ],
   "source": [
    "X=pd.DataFrame(scaled_data,columns=X.columns)\n",
    "X"
   ]
  },
  {
   "cell_type": "code",
   "execution_count": 20,
   "id": "9d9015e5",
   "metadata": {
    "executionInfo": {
     "elapsed": 1291,
     "status": "ok",
     "timestamp": 1684229303600,
     "user": {
      "displayName": "Linda LEBDJIRI",
      "userId": "00372522915833590184"
     },
     "user_tz": -60
    },
    "id": "9d9015e5"
   },
   "outputs": [],
   "source": [
    "centroids = None\n",
    "silhouette_score_list =[]\n",
    "clustering=[]\n",
    "Y=[]\n",
    "rand_index_list=[]\n",
    "for i in range(0,30):\n",
    "    kmeans = KMeans(\n",
    "        max_iter=1,\n",
    "        n_init=1,\n",
    "        init=(centroids if centroids is not None else 'random'),\n",
    "        n_clusters=2,\n",
    "        random_state=1)\n",
    "    kmeans.fit(X)\n",
    "    y_kmeans = kmeans.fit_predict(X)\n",
    "    centroids = kmeans.cluster_centers_\n",
    "    \n",
    "    Y=y_kmeans\n",
    "    clustering.append(Y) \n",
    "    \n",
    "    #ri=rand_score(Y,kmeans.labels_)\n",
    "    #rand_index_list.append(ri)\n",
    "    \n",
    "    #rn_score = rand_score(Y,kmeans.labels_)\n",
    "    #rand_index_list.append(rn_score)\n",
    "    \n",
    "    #used to evaluate the quality of clusters created using clustering algorithms such as K-Means in terms of how well samples are clustered with other samples that are similar to each other.\n",
    "    sil_score =silhouette_score(X, kmeans.labels_) \n",
    "    silhouette_score_list.append(sil_score)"
   ]
  },
  {
   "cell_type": "code",
   "execution_count": 21,
   "id": "8f240c97",
   "metadata": {
    "colab": {
     "base_uri": "https://localhost:8080/"
    },
    "executionInfo": {
     "elapsed": 302,
     "status": "ok",
     "timestamp": 1684229306127,
     "user": {
      "displayName": "Linda LEBDJIRI",
      "userId": "00372522915833590184"
     },
     "user_tz": -60
    },
    "id": "8f240c97",
    "outputId": "0410b1ab-222a-46ef-e4f7-42028034c996"
   },
   "outputs": [
    {
     "data": {
      "text/plain": [
       "[0.08332204654542334,\n",
       " 0.13037111188318182,\n",
       " 0.14978196014991207,\n",
       " 0.15916868272616602,\n",
       " 0.1639068016828444,\n",
       " 0.17051258751101223,\n",
       " 0.1752963535468374,\n",
       " 0.1752963535468374,\n",
       " 0.1752963535468374,\n",
       " 0.1752963535468374,\n",
       " 0.1752963535468374,\n",
       " 0.1752963535468374,\n",
       " 0.1752963535468374,\n",
       " 0.1752963535468374,\n",
       " 0.1752963535468374,\n",
       " 0.1752963535468374,\n",
       " 0.1752963535468374,\n",
       " 0.1752963535468374,\n",
       " 0.1752963535468374,\n",
       " 0.1752963535468374,\n",
       " 0.1752963535468374,\n",
       " 0.1752963535468374,\n",
       " 0.1752963535468374,\n",
       " 0.1752963535468374,\n",
       " 0.1752963535468374,\n",
       " 0.1752963535468374,\n",
       " 0.1752963535468374,\n",
       " 0.1752963535468374,\n",
       " 0.1752963535468374,\n",
       " 0.1752963535468374]"
      ]
     },
     "execution_count": 21,
     "metadata": {},
     "output_type": "execute_result"
    }
   ],
   "source": [
    "silhouette_score_list"
   ]
  },
  {
   "cell_type": "code",
   "execution_count": 22,
   "id": "0292c2a9",
   "metadata": {
    "colab": {
     "base_uri": "https://localhost:8080/"
    },
    "executionInfo": {
     "elapsed": 10,
     "status": "ok",
     "timestamp": 1684229308862,
     "user": {
      "displayName": "Linda LEBDJIRI",
      "userId": "00372522915833590184"
     },
     "user_tz": -60
    },
    "id": "0292c2a9",
    "outputId": "76595e85-b8c7-41d2-ac44-2c54befb01d5"
   },
   "outputs": [
    {
     "data": {
      "text/plain": [
       "[array([1, 1, 0, 0, 0, 1, 0, 1, 0, 0, 1, 1, 0, 0, 1, 1, 1, 0, 0, 0, 1, 0,\n",
       "        0, 0, 0, 1, 1, 1, 1, 1, 1, 1, 0, 0, 1, 1, 1, 0, 1, 1, 0, 0, 0, 0,\n",
       "        1, 1, 1, 0, 1, 0, 0, 0, 0, 0, 1, 1, 0, 1, 1, 0, 0, 1, 1, 1, 0, 0,\n",
       "        1, 1, 1, 0, 1, 1, 1, 0, 1, 1, 0, 1, 0, 1, 0, 0, 1, 1, 1, 1, 1, 1,\n",
       "        1, 1, 1, 0, 1, 1, 1, 1, 1, 1, 1, 1, 0, 1, 1, 1, 0, 1, 1, 1, 1, 1,\n",
       "        1, 1, 1, 1, 1, 1, 1, 1, 1, 1, 1, 0, 1, 1, 1, 1, 1, 1, 1, 1, 1, 1,\n",
       "        1, 1, 1, 1, 1, 1, 0, 1, 1, 1, 1, 1, 1, 1, 1, 0, 0, 1, 1, 1, 1, 1],\n",
       "       dtype=int32),\n",
       " array([1, 0, 0, 0, 0, 1, 0, 0, 0, 0, 1, 0, 0, 0, 1, 0, 1, 0, 0, 0, 1, 0,\n",
       "        0, 0, 0, 1, 1, 1, 1, 1, 1, 0, 0, 0, 0, 1, 1, 0, 1, 0, 0, 0, 0, 0,\n",
       "        0, 0, 1, 0, 1, 0, 0, 0, 0, 0, 1, 1, 0, 1, 1, 0, 0, 1, 1, 1, 0, 0,\n",
       "        1, 0, 1, 0, 1, 1, 1, 0, 0, 1, 0, 1, 0, 0, 0, 0, 1, 1, 1, 1, 1, 1,\n",
       "        1, 1, 1, 0, 0, 1, 1, 1, 1, 1, 1, 1, 0, 1, 1, 1, 0, 1, 1, 1, 1, 0,\n",
       "        1, 1, 1, 0, 1, 0, 0, 1, 1, 1, 1, 0, 1, 1, 1, 1, 1, 1, 1, 0, 1, 1,\n",
       "        1, 0, 1, 1, 1, 1, 0, 1, 1, 1, 1, 1, 1, 1, 1, 0, 0, 1, 1, 1, 1, 1],\n",
       "       dtype=int32),\n",
       " array([1, 0, 0, 0, 0, 1, 0, 0, 0, 0, 1, 0, 0, 0, 1, 0, 0, 0, 0, 0, 1, 0,\n",
       "        0, 0, 0, 1, 1, 1, 0, 1, 1, 0, 0, 0, 0, 1, 1, 0, 1, 0, 0, 0, 0, 0,\n",
       "        0, 0, 1, 0, 1, 0, 0, 0, 0, 0, 1, 1, 0, 1, 1, 0, 0, 1, 1, 0, 0, 0,\n",
       "        1, 0, 0, 0, 1, 1, 1, 0, 0, 1, 0, 1, 0, 0, 0, 0, 1, 1, 1, 1, 1, 1,\n",
       "        1, 1, 1, 0, 0, 1, 1, 1, 1, 0, 1, 1, 0, 1, 1, 1, 0, 1, 1, 1, 1, 0,\n",
       "        1, 0, 1, 0, 1, 0, 0, 1, 1, 1, 1, 0, 1, 1, 1, 1, 1, 1, 1, 0, 1, 1,\n",
       "        1, 0, 1, 1, 1, 1, 0, 1, 1, 1, 1, 1, 0, 1, 1, 0, 0, 1, 0, 1, 1, 1],\n",
       "       dtype=int32),\n",
       " array([0, 0, 0, 0, 0, 1, 0, 0, 0, 0, 0, 0, 0, 0, 1, 0, 0, 0, 0, 0, 1, 0,\n",
       "        0, 0, 0, 1, 1, 0, 0, 1, 1, 0, 0, 0, 0, 1, 1, 0, 1, 0, 0, 0, 0, 0,\n",
       "        0, 0, 1, 0, 1, 0, 0, 0, 0, 0, 1, 0, 0, 1, 1, 0, 0, 1, 1, 0, 0, 0,\n",
       "        1, 0, 0, 0, 1, 1, 1, 0, 0, 1, 0, 1, 0, 0, 0, 0, 1, 1, 1, 1, 1, 1,\n",
       "        1, 1, 1, 0, 0, 1, 1, 1, 1, 0, 1, 1, 0, 1, 1, 1, 0, 1, 1, 1, 1, 0,\n",
       "        1, 0, 1, 0, 1, 0, 0, 1, 1, 1, 1, 0, 1, 1, 1, 1, 1, 1, 1, 0, 1, 1,\n",
       "        1, 0, 1, 0, 1, 1, 0, 1, 1, 1, 1, 1, 0, 1, 1, 0, 0, 1, 0, 1, 1, 1],\n",
       "       dtype=int32),\n",
       " array([0, 0, 0, 0, 0, 1, 0, 0, 0, 0, 0, 0, 0, 0, 1, 0, 0, 0, 0, 0, 1, 0,\n",
       "        0, 0, 0, 1, 1, 0, 0, 1, 1, 0, 0, 0, 0, 1, 1, 0, 1, 0, 0, 0, 0, 0,\n",
       "        0, 0, 1, 0, 1, 0, 0, 0, 0, 0, 1, 0, 0, 0, 1, 0, 0, 1, 1, 0, 0, 0,\n",
       "        1, 0, 0, 0, 1, 1, 1, 0, 0, 1, 0, 0, 0, 0, 0, 0, 1, 1, 1, 1, 1, 1,\n",
       "        1, 1, 1, 0, 0, 1, 1, 1, 1, 0, 1, 1, 0, 1, 1, 1, 0, 1, 1, 1, 1, 0,\n",
       "        1, 0, 1, 0, 1, 0, 0, 1, 1, 1, 1, 0, 1, 0, 1, 1, 1, 1, 1, 0, 1, 1,\n",
       "        1, 0, 1, 0, 1, 1, 0, 1, 1, 1, 1, 1, 0, 1, 1, 0, 0, 1, 0, 1, 1, 1],\n",
       "       dtype=int32),\n",
       " array([0, 0, 0, 0, 0, 1, 0, 0, 0, 0, 0, 0, 0, 0, 1, 0, 0, 0, 0, 0, 1, 0,\n",
       "        0, 0, 0, 1, 1, 0, 0, 1, 1, 0, 0, 0, 0, 1, 1, 0, 1, 0, 0, 0, 0, 0,\n",
       "        0, 0, 1, 0, 0, 0, 0, 0, 0, 0, 1, 0, 0, 0, 1, 0, 0, 1, 1, 0, 0, 0,\n",
       "        1, 0, 0, 0, 1, 1, 1, 0, 0, 1, 0, 0, 0, 0, 0, 0, 1, 1, 1, 1, 1, 1,\n",
       "        1, 1, 1, 0, 0, 1, 1, 1, 1, 0, 1, 1, 0, 1, 1, 1, 0, 1, 1, 0, 1, 0,\n",
       "        1, 0, 1, 0, 1, 0, 0, 1, 1, 1, 1, 0, 0, 0, 1, 1, 1, 1, 1, 0, 1, 1,\n",
       "        0, 0, 1, 0, 1, 1, 0, 1, 1, 1, 1, 1, 0, 1, 1, 0, 0, 1, 0, 1, 1, 1],\n",
       "       dtype=int32),\n",
       " array([0, 0, 0, 0, 0, 1, 0, 0, 0, 0, 0, 0, 0, 0, 1, 0, 0, 0, 0, 0, 1, 0,\n",
       "        0, 0, 0, 1, 1, 0, 0, 1, 0, 0, 0, 0, 0, 1, 1, 0, 1, 0, 0, 0, 0, 0,\n",
       "        0, 0, 1, 0, 0, 0, 0, 0, 0, 0, 0, 0, 0, 0, 1, 0, 0, 1, 1, 0, 0, 0,\n",
       "        1, 0, 0, 0, 1, 1, 1, 0, 0, 1, 0, 0, 0, 0, 0, 0, 1, 1, 1, 1, 1, 1,\n",
       "        1, 1, 1, 0, 0, 1, 1, 1, 1, 0, 1, 1, 0, 1, 1, 1, 0, 1, 1, 0, 1, 0,\n",
       "        1, 0, 1, 0, 1, 0, 0, 1, 1, 1, 1, 0, 0, 0, 1, 1, 1, 1, 1, 0, 1, 1,\n",
       "        0, 0, 1, 0, 1, 1, 0, 1, 1, 1, 1, 1, 0, 1, 1, 0, 0, 1, 0, 1, 1, 1],\n",
       "       dtype=int32),\n",
       " array([0, 0, 0, 0, 0, 1, 0, 0, 0, 0, 0, 0, 0, 0, 1, 0, 0, 0, 0, 0, 1, 0,\n",
       "        0, 0, 0, 1, 1, 0, 0, 1, 0, 0, 0, 0, 0, 1, 1, 0, 1, 0, 0, 0, 0, 0,\n",
       "        0, 0, 1, 0, 0, 0, 0, 0, 0, 0, 0, 0, 0, 0, 1, 0, 0, 1, 1, 0, 0, 0,\n",
       "        1, 0, 0, 0, 1, 1, 1, 0, 0, 1, 0, 0, 0, 0, 0, 0, 1, 1, 1, 1, 1, 1,\n",
       "        1, 1, 1, 0, 0, 1, 1, 1, 1, 0, 1, 1, 0, 1, 1, 1, 0, 1, 1, 0, 1, 0,\n",
       "        1, 0, 1, 0, 1, 0, 0, 1, 1, 1, 1, 0, 0, 0, 1, 1, 1, 1, 1, 0, 1, 1,\n",
       "        0, 0, 1, 0, 1, 1, 0, 1, 1, 1, 1, 1, 0, 1, 1, 0, 0, 1, 0, 1, 1, 1],\n",
       "       dtype=int32),\n",
       " array([0, 0, 0, 0, 0, 1, 0, 0, 0, 0, 0, 0, 0, 0, 1, 0, 0, 0, 0, 0, 1, 0,\n",
       "        0, 0, 0, 1, 1, 0, 0, 1, 0, 0, 0, 0, 0, 1, 1, 0, 1, 0, 0, 0, 0, 0,\n",
       "        0, 0, 1, 0, 0, 0, 0, 0, 0, 0, 0, 0, 0, 0, 1, 0, 0, 1, 1, 0, 0, 0,\n",
       "        1, 0, 0, 0, 1, 1, 1, 0, 0, 1, 0, 0, 0, 0, 0, 0, 1, 1, 1, 1, 1, 1,\n",
       "        1, 1, 1, 0, 0, 1, 1, 1, 1, 0, 1, 1, 0, 1, 1, 1, 0, 1, 1, 0, 1, 0,\n",
       "        1, 0, 1, 0, 1, 0, 0, 1, 1, 1, 1, 0, 0, 0, 1, 1, 1, 1, 1, 0, 1, 1,\n",
       "        0, 0, 1, 0, 1, 1, 0, 1, 1, 1, 1, 1, 0, 1, 1, 0, 0, 1, 0, 1, 1, 1],\n",
       "       dtype=int32),\n",
       " array([0, 0, 0, 0, 0, 1, 0, 0, 0, 0, 0, 0, 0, 0, 1, 0, 0, 0, 0, 0, 1, 0,\n",
       "        0, 0, 0, 1, 1, 0, 0, 1, 0, 0, 0, 0, 0, 1, 1, 0, 1, 0, 0, 0, 0, 0,\n",
       "        0, 0, 1, 0, 0, 0, 0, 0, 0, 0, 0, 0, 0, 0, 1, 0, 0, 1, 1, 0, 0, 0,\n",
       "        1, 0, 0, 0, 1, 1, 1, 0, 0, 1, 0, 0, 0, 0, 0, 0, 1, 1, 1, 1, 1, 1,\n",
       "        1, 1, 1, 0, 0, 1, 1, 1, 1, 0, 1, 1, 0, 1, 1, 1, 0, 1, 1, 0, 1, 0,\n",
       "        1, 0, 1, 0, 1, 0, 0, 1, 1, 1, 1, 0, 0, 0, 1, 1, 1, 1, 1, 0, 1, 1,\n",
       "        0, 0, 1, 0, 1, 1, 0, 1, 1, 1, 1, 1, 0, 1, 1, 0, 0, 1, 0, 1, 1, 1],\n",
       "       dtype=int32),\n",
       " array([0, 0, 0, 0, 0, 1, 0, 0, 0, 0, 0, 0, 0, 0, 1, 0, 0, 0, 0, 0, 1, 0,\n",
       "        0, 0, 0, 1, 1, 0, 0, 1, 0, 0, 0, 0, 0, 1, 1, 0, 1, 0, 0, 0, 0, 0,\n",
       "        0, 0, 1, 0, 0, 0, 0, 0, 0, 0, 0, 0, 0, 0, 1, 0, 0, 1, 1, 0, 0, 0,\n",
       "        1, 0, 0, 0, 1, 1, 1, 0, 0, 1, 0, 0, 0, 0, 0, 0, 1, 1, 1, 1, 1, 1,\n",
       "        1, 1, 1, 0, 0, 1, 1, 1, 1, 0, 1, 1, 0, 1, 1, 1, 0, 1, 1, 0, 1, 0,\n",
       "        1, 0, 1, 0, 1, 0, 0, 1, 1, 1, 1, 0, 0, 0, 1, 1, 1, 1, 1, 0, 1, 1,\n",
       "        0, 0, 1, 0, 1, 1, 0, 1, 1, 1, 1, 1, 0, 1, 1, 0, 0, 1, 0, 1, 1, 1],\n",
       "       dtype=int32),\n",
       " array([0, 0, 0, 0, 0, 1, 0, 0, 0, 0, 0, 0, 0, 0, 1, 0, 0, 0, 0, 0, 1, 0,\n",
       "        0, 0, 0, 1, 1, 0, 0, 1, 0, 0, 0, 0, 0, 1, 1, 0, 1, 0, 0, 0, 0, 0,\n",
       "        0, 0, 1, 0, 0, 0, 0, 0, 0, 0, 0, 0, 0, 0, 1, 0, 0, 1, 1, 0, 0, 0,\n",
       "        1, 0, 0, 0, 1, 1, 1, 0, 0, 1, 0, 0, 0, 0, 0, 0, 1, 1, 1, 1, 1, 1,\n",
       "        1, 1, 1, 0, 0, 1, 1, 1, 1, 0, 1, 1, 0, 1, 1, 1, 0, 1, 1, 0, 1, 0,\n",
       "        1, 0, 1, 0, 1, 0, 0, 1, 1, 1, 1, 0, 0, 0, 1, 1, 1, 1, 1, 0, 1, 1,\n",
       "        0, 0, 1, 0, 1, 1, 0, 1, 1, 1, 1, 1, 0, 1, 1, 0, 0, 1, 0, 1, 1, 1],\n",
       "       dtype=int32),\n",
       " array([0, 0, 0, 0, 0, 1, 0, 0, 0, 0, 0, 0, 0, 0, 1, 0, 0, 0, 0, 0, 1, 0,\n",
       "        0, 0, 0, 1, 1, 0, 0, 1, 0, 0, 0, 0, 0, 1, 1, 0, 1, 0, 0, 0, 0, 0,\n",
       "        0, 0, 1, 0, 0, 0, 0, 0, 0, 0, 0, 0, 0, 0, 1, 0, 0, 1, 1, 0, 0, 0,\n",
       "        1, 0, 0, 0, 1, 1, 1, 0, 0, 1, 0, 0, 0, 0, 0, 0, 1, 1, 1, 1, 1, 1,\n",
       "        1, 1, 1, 0, 0, 1, 1, 1, 1, 0, 1, 1, 0, 1, 1, 1, 0, 1, 1, 0, 1, 0,\n",
       "        1, 0, 1, 0, 1, 0, 0, 1, 1, 1, 1, 0, 0, 0, 1, 1, 1, 1, 1, 0, 1, 1,\n",
       "        0, 0, 1, 0, 1, 1, 0, 1, 1, 1, 1, 1, 0, 1, 1, 0, 0, 1, 0, 1, 1, 1],\n",
       "       dtype=int32),\n",
       " array([0, 0, 0, 0, 0, 1, 0, 0, 0, 0, 0, 0, 0, 0, 1, 0, 0, 0, 0, 0, 1, 0,\n",
       "        0, 0, 0, 1, 1, 0, 0, 1, 0, 0, 0, 0, 0, 1, 1, 0, 1, 0, 0, 0, 0, 0,\n",
       "        0, 0, 1, 0, 0, 0, 0, 0, 0, 0, 0, 0, 0, 0, 1, 0, 0, 1, 1, 0, 0, 0,\n",
       "        1, 0, 0, 0, 1, 1, 1, 0, 0, 1, 0, 0, 0, 0, 0, 0, 1, 1, 1, 1, 1, 1,\n",
       "        1, 1, 1, 0, 0, 1, 1, 1, 1, 0, 1, 1, 0, 1, 1, 1, 0, 1, 1, 0, 1, 0,\n",
       "        1, 0, 1, 0, 1, 0, 0, 1, 1, 1, 1, 0, 0, 0, 1, 1, 1, 1, 1, 0, 1, 1,\n",
       "        0, 0, 1, 0, 1, 1, 0, 1, 1, 1, 1, 1, 0, 1, 1, 0, 0, 1, 0, 1, 1, 1],\n",
       "       dtype=int32),\n",
       " array([0, 0, 0, 0, 0, 1, 0, 0, 0, 0, 0, 0, 0, 0, 1, 0, 0, 0, 0, 0, 1, 0,\n",
       "        0, 0, 0, 1, 1, 0, 0, 1, 0, 0, 0, 0, 0, 1, 1, 0, 1, 0, 0, 0, 0, 0,\n",
       "        0, 0, 1, 0, 0, 0, 0, 0, 0, 0, 0, 0, 0, 0, 1, 0, 0, 1, 1, 0, 0, 0,\n",
       "        1, 0, 0, 0, 1, 1, 1, 0, 0, 1, 0, 0, 0, 0, 0, 0, 1, 1, 1, 1, 1, 1,\n",
       "        1, 1, 1, 0, 0, 1, 1, 1, 1, 0, 1, 1, 0, 1, 1, 1, 0, 1, 1, 0, 1, 0,\n",
       "        1, 0, 1, 0, 1, 0, 0, 1, 1, 1, 1, 0, 0, 0, 1, 1, 1, 1, 1, 0, 1, 1,\n",
       "        0, 0, 1, 0, 1, 1, 0, 1, 1, 1, 1, 1, 0, 1, 1, 0, 0, 1, 0, 1, 1, 1],\n",
       "       dtype=int32),\n",
       " array([0, 0, 0, 0, 0, 1, 0, 0, 0, 0, 0, 0, 0, 0, 1, 0, 0, 0, 0, 0, 1, 0,\n",
       "        0, 0, 0, 1, 1, 0, 0, 1, 0, 0, 0, 0, 0, 1, 1, 0, 1, 0, 0, 0, 0, 0,\n",
       "        0, 0, 1, 0, 0, 0, 0, 0, 0, 0, 0, 0, 0, 0, 1, 0, 0, 1, 1, 0, 0, 0,\n",
       "        1, 0, 0, 0, 1, 1, 1, 0, 0, 1, 0, 0, 0, 0, 0, 0, 1, 1, 1, 1, 1, 1,\n",
       "        1, 1, 1, 0, 0, 1, 1, 1, 1, 0, 1, 1, 0, 1, 1, 1, 0, 1, 1, 0, 1, 0,\n",
       "        1, 0, 1, 0, 1, 0, 0, 1, 1, 1, 1, 0, 0, 0, 1, 1, 1, 1, 1, 0, 1, 1,\n",
       "        0, 0, 1, 0, 1, 1, 0, 1, 1, 1, 1, 1, 0, 1, 1, 0, 0, 1, 0, 1, 1, 1],\n",
       "       dtype=int32),\n",
       " array([0, 0, 0, 0, 0, 1, 0, 0, 0, 0, 0, 0, 0, 0, 1, 0, 0, 0, 0, 0, 1, 0,\n",
       "        0, 0, 0, 1, 1, 0, 0, 1, 0, 0, 0, 0, 0, 1, 1, 0, 1, 0, 0, 0, 0, 0,\n",
       "        0, 0, 1, 0, 0, 0, 0, 0, 0, 0, 0, 0, 0, 0, 1, 0, 0, 1, 1, 0, 0, 0,\n",
       "        1, 0, 0, 0, 1, 1, 1, 0, 0, 1, 0, 0, 0, 0, 0, 0, 1, 1, 1, 1, 1, 1,\n",
       "        1, 1, 1, 0, 0, 1, 1, 1, 1, 0, 1, 1, 0, 1, 1, 1, 0, 1, 1, 0, 1, 0,\n",
       "        1, 0, 1, 0, 1, 0, 0, 1, 1, 1, 1, 0, 0, 0, 1, 1, 1, 1, 1, 0, 1, 1,\n",
       "        0, 0, 1, 0, 1, 1, 0, 1, 1, 1, 1, 1, 0, 1, 1, 0, 0, 1, 0, 1, 1, 1],\n",
       "       dtype=int32),\n",
       " array([0, 0, 0, 0, 0, 1, 0, 0, 0, 0, 0, 0, 0, 0, 1, 0, 0, 0, 0, 0, 1, 0,\n",
       "        0, 0, 0, 1, 1, 0, 0, 1, 0, 0, 0, 0, 0, 1, 1, 0, 1, 0, 0, 0, 0, 0,\n",
       "        0, 0, 1, 0, 0, 0, 0, 0, 0, 0, 0, 0, 0, 0, 1, 0, 0, 1, 1, 0, 0, 0,\n",
       "        1, 0, 0, 0, 1, 1, 1, 0, 0, 1, 0, 0, 0, 0, 0, 0, 1, 1, 1, 1, 1, 1,\n",
       "        1, 1, 1, 0, 0, 1, 1, 1, 1, 0, 1, 1, 0, 1, 1, 1, 0, 1, 1, 0, 1, 0,\n",
       "        1, 0, 1, 0, 1, 0, 0, 1, 1, 1, 1, 0, 0, 0, 1, 1, 1, 1, 1, 0, 1, 1,\n",
       "        0, 0, 1, 0, 1, 1, 0, 1, 1, 1, 1, 1, 0, 1, 1, 0, 0, 1, 0, 1, 1, 1],\n",
       "       dtype=int32),\n",
       " array([0, 0, 0, 0, 0, 1, 0, 0, 0, 0, 0, 0, 0, 0, 1, 0, 0, 0, 0, 0, 1, 0,\n",
       "        0, 0, 0, 1, 1, 0, 0, 1, 0, 0, 0, 0, 0, 1, 1, 0, 1, 0, 0, 0, 0, 0,\n",
       "        0, 0, 1, 0, 0, 0, 0, 0, 0, 0, 0, 0, 0, 0, 1, 0, 0, 1, 1, 0, 0, 0,\n",
       "        1, 0, 0, 0, 1, 1, 1, 0, 0, 1, 0, 0, 0, 0, 0, 0, 1, 1, 1, 1, 1, 1,\n",
       "        1, 1, 1, 0, 0, 1, 1, 1, 1, 0, 1, 1, 0, 1, 1, 1, 0, 1, 1, 0, 1, 0,\n",
       "        1, 0, 1, 0, 1, 0, 0, 1, 1, 1, 1, 0, 0, 0, 1, 1, 1, 1, 1, 0, 1, 1,\n",
       "        0, 0, 1, 0, 1, 1, 0, 1, 1, 1, 1, 1, 0, 1, 1, 0, 0, 1, 0, 1, 1, 1],\n",
       "       dtype=int32),\n",
       " array([0, 0, 0, 0, 0, 1, 0, 0, 0, 0, 0, 0, 0, 0, 1, 0, 0, 0, 0, 0, 1, 0,\n",
       "        0, 0, 0, 1, 1, 0, 0, 1, 0, 0, 0, 0, 0, 1, 1, 0, 1, 0, 0, 0, 0, 0,\n",
       "        0, 0, 1, 0, 0, 0, 0, 0, 0, 0, 0, 0, 0, 0, 1, 0, 0, 1, 1, 0, 0, 0,\n",
       "        1, 0, 0, 0, 1, 1, 1, 0, 0, 1, 0, 0, 0, 0, 0, 0, 1, 1, 1, 1, 1, 1,\n",
       "        1, 1, 1, 0, 0, 1, 1, 1, 1, 0, 1, 1, 0, 1, 1, 1, 0, 1, 1, 0, 1, 0,\n",
       "        1, 0, 1, 0, 1, 0, 0, 1, 1, 1, 1, 0, 0, 0, 1, 1, 1, 1, 1, 0, 1, 1,\n",
       "        0, 0, 1, 0, 1, 1, 0, 1, 1, 1, 1, 1, 0, 1, 1, 0, 0, 1, 0, 1, 1, 1],\n",
       "       dtype=int32),\n",
       " array([0, 0, 0, 0, 0, 1, 0, 0, 0, 0, 0, 0, 0, 0, 1, 0, 0, 0, 0, 0, 1, 0,\n",
       "        0, 0, 0, 1, 1, 0, 0, 1, 0, 0, 0, 0, 0, 1, 1, 0, 1, 0, 0, 0, 0, 0,\n",
       "        0, 0, 1, 0, 0, 0, 0, 0, 0, 0, 0, 0, 0, 0, 1, 0, 0, 1, 1, 0, 0, 0,\n",
       "        1, 0, 0, 0, 1, 1, 1, 0, 0, 1, 0, 0, 0, 0, 0, 0, 1, 1, 1, 1, 1, 1,\n",
       "        1, 1, 1, 0, 0, 1, 1, 1, 1, 0, 1, 1, 0, 1, 1, 1, 0, 1, 1, 0, 1, 0,\n",
       "        1, 0, 1, 0, 1, 0, 0, 1, 1, 1, 1, 0, 0, 0, 1, 1, 1, 1, 1, 0, 1, 1,\n",
       "        0, 0, 1, 0, 1, 1, 0, 1, 1, 1, 1, 1, 0, 1, 1, 0, 0, 1, 0, 1, 1, 1],\n",
       "       dtype=int32),\n",
       " array([0, 0, 0, 0, 0, 1, 0, 0, 0, 0, 0, 0, 0, 0, 1, 0, 0, 0, 0, 0, 1, 0,\n",
       "        0, 0, 0, 1, 1, 0, 0, 1, 0, 0, 0, 0, 0, 1, 1, 0, 1, 0, 0, 0, 0, 0,\n",
       "        0, 0, 1, 0, 0, 0, 0, 0, 0, 0, 0, 0, 0, 0, 1, 0, 0, 1, 1, 0, 0, 0,\n",
       "        1, 0, 0, 0, 1, 1, 1, 0, 0, 1, 0, 0, 0, 0, 0, 0, 1, 1, 1, 1, 1, 1,\n",
       "        1, 1, 1, 0, 0, 1, 1, 1, 1, 0, 1, 1, 0, 1, 1, 1, 0, 1, 1, 0, 1, 0,\n",
       "        1, 0, 1, 0, 1, 0, 0, 1, 1, 1, 1, 0, 0, 0, 1, 1, 1, 1, 1, 0, 1, 1,\n",
       "        0, 0, 1, 0, 1, 1, 0, 1, 1, 1, 1, 1, 0, 1, 1, 0, 0, 1, 0, 1, 1, 1],\n",
       "       dtype=int32),\n",
       " array([0, 0, 0, 0, 0, 1, 0, 0, 0, 0, 0, 0, 0, 0, 1, 0, 0, 0, 0, 0, 1, 0,\n",
       "        0, 0, 0, 1, 1, 0, 0, 1, 0, 0, 0, 0, 0, 1, 1, 0, 1, 0, 0, 0, 0, 0,\n",
       "        0, 0, 1, 0, 0, 0, 0, 0, 0, 0, 0, 0, 0, 0, 1, 0, 0, 1, 1, 0, 0, 0,\n",
       "        1, 0, 0, 0, 1, 1, 1, 0, 0, 1, 0, 0, 0, 0, 0, 0, 1, 1, 1, 1, 1, 1,\n",
       "        1, 1, 1, 0, 0, 1, 1, 1, 1, 0, 1, 1, 0, 1, 1, 1, 0, 1, 1, 0, 1, 0,\n",
       "        1, 0, 1, 0, 1, 0, 0, 1, 1, 1, 1, 0, 0, 0, 1, 1, 1, 1, 1, 0, 1, 1,\n",
       "        0, 0, 1, 0, 1, 1, 0, 1, 1, 1, 1, 1, 0, 1, 1, 0, 0, 1, 0, 1, 1, 1],\n",
       "       dtype=int32),\n",
       " array([0, 0, 0, 0, 0, 1, 0, 0, 0, 0, 0, 0, 0, 0, 1, 0, 0, 0, 0, 0, 1, 0,\n",
       "        0, 0, 0, 1, 1, 0, 0, 1, 0, 0, 0, 0, 0, 1, 1, 0, 1, 0, 0, 0, 0, 0,\n",
       "        0, 0, 1, 0, 0, 0, 0, 0, 0, 0, 0, 0, 0, 0, 1, 0, 0, 1, 1, 0, 0, 0,\n",
       "        1, 0, 0, 0, 1, 1, 1, 0, 0, 1, 0, 0, 0, 0, 0, 0, 1, 1, 1, 1, 1, 1,\n",
       "        1, 1, 1, 0, 0, 1, 1, 1, 1, 0, 1, 1, 0, 1, 1, 1, 0, 1, 1, 0, 1, 0,\n",
       "        1, 0, 1, 0, 1, 0, 0, 1, 1, 1, 1, 0, 0, 0, 1, 1, 1, 1, 1, 0, 1, 1,\n",
       "        0, 0, 1, 0, 1, 1, 0, 1, 1, 1, 1, 1, 0, 1, 1, 0, 0, 1, 0, 1, 1, 1],\n",
       "       dtype=int32),\n",
       " array([0, 0, 0, 0, 0, 1, 0, 0, 0, 0, 0, 0, 0, 0, 1, 0, 0, 0, 0, 0, 1, 0,\n",
       "        0, 0, 0, 1, 1, 0, 0, 1, 0, 0, 0, 0, 0, 1, 1, 0, 1, 0, 0, 0, 0, 0,\n",
       "        0, 0, 1, 0, 0, 0, 0, 0, 0, 0, 0, 0, 0, 0, 1, 0, 0, 1, 1, 0, 0, 0,\n",
       "        1, 0, 0, 0, 1, 1, 1, 0, 0, 1, 0, 0, 0, 0, 0, 0, 1, 1, 1, 1, 1, 1,\n",
       "        1, 1, 1, 0, 0, 1, 1, 1, 1, 0, 1, 1, 0, 1, 1, 1, 0, 1, 1, 0, 1, 0,\n",
       "        1, 0, 1, 0, 1, 0, 0, 1, 1, 1, 1, 0, 0, 0, 1, 1, 1, 1, 1, 0, 1, 1,\n",
       "        0, 0, 1, 0, 1, 1, 0, 1, 1, 1, 1, 1, 0, 1, 1, 0, 0, 1, 0, 1, 1, 1],\n",
       "       dtype=int32),\n",
       " array([0, 0, 0, 0, 0, 1, 0, 0, 0, 0, 0, 0, 0, 0, 1, 0, 0, 0, 0, 0, 1, 0,\n",
       "        0, 0, 0, 1, 1, 0, 0, 1, 0, 0, 0, 0, 0, 1, 1, 0, 1, 0, 0, 0, 0, 0,\n",
       "        0, 0, 1, 0, 0, 0, 0, 0, 0, 0, 0, 0, 0, 0, 1, 0, 0, 1, 1, 0, 0, 0,\n",
       "        1, 0, 0, 0, 1, 1, 1, 0, 0, 1, 0, 0, 0, 0, 0, 0, 1, 1, 1, 1, 1, 1,\n",
       "        1, 1, 1, 0, 0, 1, 1, 1, 1, 0, 1, 1, 0, 1, 1, 1, 0, 1, 1, 0, 1, 0,\n",
       "        1, 0, 1, 0, 1, 0, 0, 1, 1, 1, 1, 0, 0, 0, 1, 1, 1, 1, 1, 0, 1, 1,\n",
       "        0, 0, 1, 0, 1, 1, 0, 1, 1, 1, 1, 1, 0, 1, 1, 0, 0, 1, 0, 1, 1, 1],\n",
       "       dtype=int32),\n",
       " array([0, 0, 0, 0, 0, 1, 0, 0, 0, 0, 0, 0, 0, 0, 1, 0, 0, 0, 0, 0, 1, 0,\n",
       "        0, 0, 0, 1, 1, 0, 0, 1, 0, 0, 0, 0, 0, 1, 1, 0, 1, 0, 0, 0, 0, 0,\n",
       "        0, 0, 1, 0, 0, 0, 0, 0, 0, 0, 0, 0, 0, 0, 1, 0, 0, 1, 1, 0, 0, 0,\n",
       "        1, 0, 0, 0, 1, 1, 1, 0, 0, 1, 0, 0, 0, 0, 0, 0, 1, 1, 1, 1, 1, 1,\n",
       "        1, 1, 1, 0, 0, 1, 1, 1, 1, 0, 1, 1, 0, 1, 1, 1, 0, 1, 1, 0, 1, 0,\n",
       "        1, 0, 1, 0, 1, 0, 0, 1, 1, 1, 1, 0, 0, 0, 1, 1, 1, 1, 1, 0, 1, 1,\n",
       "        0, 0, 1, 0, 1, 1, 0, 1, 1, 1, 1, 1, 0, 1, 1, 0, 0, 1, 0, 1, 1, 1],\n",
       "       dtype=int32),\n",
       " array([0, 0, 0, 0, 0, 1, 0, 0, 0, 0, 0, 0, 0, 0, 1, 0, 0, 0, 0, 0, 1, 0,\n",
       "        0, 0, 0, 1, 1, 0, 0, 1, 0, 0, 0, 0, 0, 1, 1, 0, 1, 0, 0, 0, 0, 0,\n",
       "        0, 0, 1, 0, 0, 0, 0, 0, 0, 0, 0, 0, 0, 0, 1, 0, 0, 1, 1, 0, 0, 0,\n",
       "        1, 0, 0, 0, 1, 1, 1, 0, 0, 1, 0, 0, 0, 0, 0, 0, 1, 1, 1, 1, 1, 1,\n",
       "        1, 1, 1, 0, 0, 1, 1, 1, 1, 0, 1, 1, 0, 1, 1, 1, 0, 1, 1, 0, 1, 0,\n",
       "        1, 0, 1, 0, 1, 0, 0, 1, 1, 1, 1, 0, 0, 0, 1, 1, 1, 1, 1, 0, 1, 1,\n",
       "        0, 0, 1, 0, 1, 1, 0, 1, 1, 1, 1, 1, 0, 1, 1, 0, 0, 1, 0, 1, 1, 1],\n",
       "       dtype=int32),\n",
       " array([0, 0, 0, 0, 0, 1, 0, 0, 0, 0, 0, 0, 0, 0, 1, 0, 0, 0, 0, 0, 1, 0,\n",
       "        0, 0, 0, 1, 1, 0, 0, 1, 0, 0, 0, 0, 0, 1, 1, 0, 1, 0, 0, 0, 0, 0,\n",
       "        0, 0, 1, 0, 0, 0, 0, 0, 0, 0, 0, 0, 0, 0, 1, 0, 0, 1, 1, 0, 0, 0,\n",
       "        1, 0, 0, 0, 1, 1, 1, 0, 0, 1, 0, 0, 0, 0, 0, 0, 1, 1, 1, 1, 1, 1,\n",
       "        1, 1, 1, 0, 0, 1, 1, 1, 1, 0, 1, 1, 0, 1, 1, 1, 0, 1, 1, 0, 1, 0,\n",
       "        1, 0, 1, 0, 1, 0, 0, 1, 1, 1, 1, 0, 0, 0, 1, 1, 1, 1, 1, 0, 1, 1,\n",
       "        0, 0, 1, 0, 1, 1, 0, 1, 1, 1, 1, 1, 0, 1, 1, 0, 0, 1, 0, 1, 1, 1],\n",
       "       dtype=int32),\n",
       " array([0, 0, 0, 0, 0, 1, 0, 0, 0, 0, 0, 0, 0, 0, 1, 0, 0, 0, 0, 0, 1, 0,\n",
       "        0, 0, 0, 1, 1, 0, 0, 1, 0, 0, 0, 0, 0, 1, 1, 0, 1, 0, 0, 0, 0, 0,\n",
       "        0, 0, 1, 0, 0, 0, 0, 0, 0, 0, 0, 0, 0, 0, 1, 0, 0, 1, 1, 0, 0, 0,\n",
       "        1, 0, 0, 0, 1, 1, 1, 0, 0, 1, 0, 0, 0, 0, 0, 0, 1, 1, 1, 1, 1, 1,\n",
       "        1, 1, 1, 0, 0, 1, 1, 1, 1, 0, 1, 1, 0, 1, 1, 1, 0, 1, 1, 0, 1, 0,\n",
       "        1, 0, 1, 0, 1, 0, 0, 1, 1, 1, 1, 0, 0, 0, 1, 1, 1, 1, 1, 0, 1, 1,\n",
       "        0, 0, 1, 0, 1, 1, 0, 1, 1, 1, 1, 1, 0, 1, 1, 0, 0, 1, 0, 1, 1, 1],\n",
       "       dtype=int32)]"
      ]
     },
     "execution_count": 22,
     "metadata": {},
     "output_type": "execute_result"
    }
   ],
   "source": [
    "clustering"
   ]
  },
  {
   "cell_type": "code",
   "execution_count": 23,
   "id": "bb275df5",
   "metadata": {
    "colab": {
     "base_uri": "https://localhost:8080/"
    },
    "executionInfo": {
     "elapsed": 8,
     "status": "ok",
     "timestamp": 1684229312459,
     "user": {
      "displayName": "Linda LEBDJIRI",
      "userId": "00372522915833590184"
     },
     "user_tz": -60
    },
    "id": "bb275df5",
    "outputId": "cd77ccc1-ada7-4c8b-fb8c-51dbd7551553"
   },
   "outputs": [
    {
     "data": {
      "text/plain": [
       "[0.7822765469824293,\n",
       " 0.9008573126220185,\n",
       " 0.9367625838214073,\n",
       " 0.9615482556659027,\n",
       " 0.9490705373058315,\n",
       " 0.9741957389016213,\n",
       " 1.0,\n",
       " 1.0,\n",
       " 1.0,\n",
       " 1.0,\n",
       " 1.0,\n",
       " 1.0,\n",
       " 1.0,\n",
       " 1.0,\n",
       " 1.0,\n",
       " 1.0,\n",
       " 1.0,\n",
       " 1.0,\n",
       " 1.0,\n",
       " 1.0,\n",
       " 1.0,\n",
       " 1.0,\n",
       " 1.0,\n",
       " 1.0,\n",
       " 1.0,\n",
       " 1.0,\n",
       " 1.0,\n",
       " 1.0,\n",
       " 1.0]"
      ]
     },
     "execution_count": 23,
     "metadata": {},
     "output_type": "execute_result"
    }
   ],
   "source": [
    "rand_index_list=[]\n",
    "#computes a similarity measure between two clusterings\n",
    "for index in  range(len(clustering)-1):\n",
    "    rn_score = rand_score(clustering[index],clustering[index+1])\n",
    "    rand_index_list.append(rn_score)\n",
    "rand_index_list"
   ]
  },
  {
   "cell_type": "code",
   "execution_count": 24,
   "id": "4aadb934",
   "metadata": {
    "colab": {
     "base_uri": "https://localhost:8080/",
     "height": 572
    },
    "executionInfo": {
     "elapsed": 1824,
     "status": "ok",
     "timestamp": 1684229316946,
     "user": {
      "displayName": "Linda LEBDJIRI",
      "userId": "00372522915833590184"
     },
     "user_tz": -60
    },
    "id": "4aadb934",
    "outputId": "3f0772c0-dde7-4393-fb72-865558db3a5f"
   },
   "outputs": [
    {
     "data": {
      "image/png": "[encoded data removed]",
      "text/plain": [
       "<Figure size 800x600 with 1 Axes>"
      ]
     },
     "metadata": {},
     "output_type": "display_data"
    }
   ],
   "source": [
    "###we are going to run PCA pn the data to reduce the dimensions in pca_components dimensions \n",
    "pca_num_components = 2\n",
    "reduced_data =PCA(n_components = pca_num_components).fit_transform(X)\n",
    "results = pd.DataFrame(reduced_data,columns=['X','Y'])\n",
    "sns.scatterplot(x=\"X\",y=\"Y\",hue = Y,data = results,s = 150)\n",
    "plt.title(\"k-means Clustering with 2 dimensions\")\n",
    "plt.show()"
   ]
  },
  {
   "cell_type": "code",
   "execution_count": 25,
   "id": "4d14886e",
   "metadata": {
    "colab": {
     "base_uri": "https://localhost:8080/"
    },
    "executionInfo": {
     "elapsed": 322,
     "status": "ok",
     "timestamp": 1684229320869,
     "user": {
      "displayName": "Linda LEBDJIRI",
      "userId": "00372522915833590184"
     },
     "user_tz": -60
    },
    "id": "4d14886e",
    "outputId": "81d76d01-02b5-4352-9a30-86af9edcda0f"
   },
   "outputs": [
    {
     "name": "stdout",
     "output_type": "stream",
     "text": [
      "0.16880585585408797\n",
      "0.1752963535468374\n",
      "0.08332204654542334\n",
      "0.018508958212715743\n"
     ]
    }
   ],
   "source": [
    "mean_score = sum(silhouette_score_list)/len(silhouette_score_list)\n",
    "best_score = max(silhouette_score_list)\n",
    "worst_score = min(silhouette_score_list)\n",
    "std_score = np.std(silhouette_score_list)\n",
    "print(mean_score)\n",
    "print(best_score)\n",
    "print(worst_score)\n",
    "print(std_score)"
   ]
  },
  {
   "cell_type": "code",
   "execution_count": 26,
   "id": "85ff550b",
   "metadata": {
    "colab": {
     "base_uri": "https://localhost:8080/"
    },
    "executionInfo": {
     "elapsed": 8,
     "status": "ok",
     "timestamp": 1684229323286,
     "user": {
      "displayName": "Linda LEBDJIRI",
      "userId": "00372522915833590184"
     },
     "user_tz": -60
    },
    "id": "85ff550b",
    "outputId": "5471b94c-3e04-403e-e5bf-8b8d6072af3f"
   },
   "outputs": [
    {
     "name": "stdout",
     "output_type": "stream",
     "text": [
      "0.9829210681137659\n",
      "1.0\n",
      "0.7822765469824293\n",
      "0.044532415332866074\n"
     ]
    }
   ],
   "source": [
    "mean_rand = sum(rand_index_list)/len(rand_index_list)\n",
    "best_rand = max(rand_index_list)\n",
    "worst_rand = min(rand_index_list)\n",
    "std_rand = np.std(rand_index_list)\n",
    "print(mean_rand)\n",
    "print(best_rand)\n",
    "print(worst_rand)\n",
    "print(std_rand)"
   ]
  },
  {
   "cell_type": "code",
   "execution_count": 27,
   "id": "16c3568c",
   "metadata": {
    "colab": {
     "base_uri": "https://localhost:8080/",
     "height": 175
    },
    "executionInfo": {
     "elapsed": 989,
     "status": "ok",
     "timestamp": 1684229326858,
     "user": {
      "displayName": "Linda LEBDJIRI",
      "userId": "00372522915833590184"
     },
     "user_tz": -60
    },
    "id": "16c3568c",
    "outputId": "c0b223bc-6499-4195-b79e-ba4007b29813"
   },
   "outputs": [
    {
     "data": {
      "text/html": [
       "\n",
       "  <div id=\"df-16d0ca95-4fb5-4ef6-aa1a-08eded9387c5\">\n",
       "    <div class=\"colab-df-container\">\n",
       "      <div>\n",
       "<style scoped>\n",
       "    .dataframe tbody tr th:only-of-type {\n",
       "        vertical-align: middle;\n",
       "    }\n",
       "\n",
       "    .dataframe tbody tr th {\n",
       "        vertical-align: top;\n",
       "    }\n",
       "\n",
       "    .dataframe thead th {\n",
       "        text-align: right;\n",
       "    }\n",
       "</style>\n",
       "<table border=\"1\" class=\"dataframe\">\n",
       "  <thead>\n",
       "    <tr style=\"text-align: right;\">\n",
       "      <th></th>\n",
       "      <th>rand_index</th>\n",
       "      <th>silhouette_score</th>\n",
       "    </tr>\n",
       "  </thead>\n",
       "  <tbody>\n",
       "    <tr>\n",
       "      <th>Moyenne (mean)</th>\n",
       "      <td>0.982921</td>\n",
       "      <td>0.168806</td>\n",
       "    </tr>\n",
       "    <tr>\n",
       "      <th>Ecart type (std)</th>\n",
       "      <td>0.044532</td>\n",
       "      <td>0.018509</td>\n",
       "    </tr>\n",
       "    <tr>\n",
       "      <th>Minimum (worst)</th>\n",
       "      <td>0.782277</td>\n",
       "      <td>0.083322</td>\n",
       "    </tr>\n",
       "    <tr>\n",
       "      <th>Maximum (best)</th>\n",
       "      <td>1.000000</td>\n",
       "      <td>0.175296</td>\n",
       "    </tr>\n",
       "  </tbody>\n",
       "</table>\n",
       "</div>\n",
       "      <button class=\"colab-df-convert\" onclick=\"convertToInteractive('df-16d0ca95-4fb5-4ef6-aa1a-08eded9387c5')\"\n",
       "              title=\"Convert this dataframe to an interactive table.\"\n",
       "              style=\"display:none;\">\n",
       "        \n",
       "  <svg xmlns=\"http://www.w3.org/2000/svg\" height=\"24px\"viewBox=\"0 0 24 24\"\n",
       "       width=\"24px\">\n",
       "    <path d=\"M0 0h24v24H0V0z\" fill=\"none\"/>\n",
       "    <path d=\"M18.56 5.44l.94 2.06.94-2.06 2.06-.94-2.06-.94-.94-2.06-.94 2.06-2.06.94zm-11 1L8.5 8.5l.94-2.06 2.06-.94-2.06-.94L8.5 2.5l-.94 2.06-2.06.94zm10 10l.94 2.06.94-2.06 2.06-.94-2.06-.94-.94-2.06-.94 2.06-2.06.94z\"/><path d=\"M17.41 7.96l-1.37-1.37c-.4-.4-.92-.59-1.43-.59-.52 0-1.04.2-1.43.59L10.3 9.45l-7.72 7.72c-.78.78-.78 2.05 0 2.83L4 21.41c.39.39.9.59 1.41.59.51 0 1.02-.2 1.41-.59l7.78-7.78 2.81-2.81c.8-.78.8-2.07 0-2.86zM5.41 20L4 18.59l7.72-7.72 1.47 1.35L5.41 20z\"/>\n",
       "  </svg>\n",
       "      </button>\n",
       "      \n",
       "  <style>\n",
       "    .colab-df-container {\n",
       "      display:flex;\n",
       "      flex-wrap:wrap;\n",
       "      gap: 12px;\n",
       "    }\n",
       "\n",
       "    .colab-df-convert {\n",
       "      background-color: #E8F0FE;\n",
       "      border: none;\n",
       "      border-radius: 50%;\n",
       "      cursor: pointer;\n",
       "      display: none;\n",
       "      fill: #1967D2;\n",
       "      height: 32px;\n",
       "      padding: 0 0 0 0;\n",
       "      width: 32px;\n",
       "    }\n",
       "\n",
       "    .colab-df-convert:hover {\n",
       "      background-color: #E2EBFA;\n",
       "      box-shadow: 0px 1px 2px rgba(60, 64, 67, 0.3), 0px 1px 3px 1px rgba(60, 64, 67, 0.15);\n",
       "      fill: #174EA6;\n",
       "    }\n",
       "\n",
       "    [theme=dark] .colab-df-convert {\n",
       "      background-color: #3B4455;\n",
       "      fill: #D2E3FC;\n",
       "    }\n",
       "\n",
       "    [theme=dark] .colab-df-convert:hover {\n",
       "      background-color: #434B5C;\n",
       "      box-shadow: 0px 1px 3px 1px rgba(0, 0, 0, 0.15);\n",
       "      filter: drop-shadow(0px 1px 2px rgba(0, 0, 0, 0.3));\n",
       "      fill: #FFFFFF;\n",
       "    }\n",
       "  </style>\n",
       "\n",
       "      <script>\n",
       "        const buttonEl =\n",
       "          document.querySelector('#df-16d0ca95-4fb5-4ef6-aa1a-08eded9387c5 button.colab-df-convert');\n",
       "        buttonEl.style.display =\n",
       "          google.colab.kernel.accessAllowed ? 'block' : 'none';\n",
       "\n",
       "        async function convertToInteractive(key) {\n",
       "          const element = document.querySelector('#df-16d0ca95-4fb5-4ef6-aa1a-08eded9387c5');\n",
       "          const dataTable =\n",
       "            await google.colab.kernel.invokeFunction('convertToInteractive',\n",
       "                                                     [key], {});\n",
       "          if (!dataTable) return;\n",
       "\n",
       "          const docLinkHtml = 'Like what you see? Visit the ' +\n",
       "            '<a target=\"_blank\" href=https://colab.research.google.com/notebooks/data_table.ipynb>data table notebook</a>'\n",
       "            + ' to learn more about interactive tables.';\n",
       "          element.innerHTML = '';\n",
       "          dataTable['output_type'] = 'display_data';\n",
       "          await google.colab.output.renderOutput(dataTable, element);\n",
       "          const docLink = document.createElement('div');\n",
       "          docLink.innerHTML = docLinkHtml;\n",
       "          element.appendChild(docLink);\n",
       "        }\n",
       "      </script>\n",
       "    </div>\n",
       "  </div>\n",
       "  "
      ],
      "text/plain": [
       "                  rand_index  silhouette_score\n",
       "Moyenne (mean)      0.982921          0.168806\n",
       "Ecart type (std)    0.044532          0.018509\n",
       "Minimum (worst)     0.782277          0.083322\n",
       "Maximum (best)      1.000000          0.175296"
      ]
     },
     "execution_count": 27,
     "metadata": {},
     "output_type": "execute_result"
    }
   ],
   "source": [
    "# Calling DataFrame constructor on list   \n",
    "dataset = {'rand_index': [mean_rand,std_rand,worst_rand,best_rand], 'silhouette_score': [mean_score,std_score,worst_score,best_score]}\n",
    "# Create DataFrame  \n",
    "df = pd.DataFrame(dataset,index =['Moyenne (mean)', 'Ecart type (std)', 'Minimum (worst)', 'Maximum (best)'])  \n",
    "df"
   ]
  },
  {
   "cell_type": "code",
   "execution_count": 28,
   "id": "6a46cd7c",
   "metadata": {
    "executionInfo": {
     "elapsed": 580,
     "status": "ok",
     "timestamp": 1684229329683,
     "user": {
      "displayName": "Linda LEBDJIRI",
      "userId": "00372522915833590184"
     },
     "user_tz": -60
    },
    "id": "6a46cd7c"
   },
   "outputs": [],
   "source": [
    "df.to_excel(r'C:\\Users\\dell\\Documents\\master1\\s2\\DAMI\\MiniProjet\\silhouette_rand_Hepatitis.xlsx', index = ['Moyenne (mean)', 'Ecart type (std)', 'Minimum (worst)', 'Maximum (best)'])"
   ]
  },
  {
   "cell_type": "code",
   "execution_count": 29,
   "id": "8d036090",
   "metadata": {
    "colab": {
     "base_uri": "https://localhost:8080/"
    },
    "executionInfo": {
     "elapsed": 8,
     "status": "ok",
     "timestamp": 1684229333118,
     "user": {
      "displayName": "Linda LEBDJIRI",
      "userId": "00372522915833590184"
     },
     "user_tz": -60
    },
    "id": "8d036090",
    "outputId": "4ee6de99-feab-46a0-cec9-b870cafefe03",
    "scrolled": true
   },
   "outputs": [
    {
     "name": "stdout",
     "output_type": "stream",
     "text": [
      "the number of training features(107, 19)\n",
      "the number of testing features(47, 19)\n"
     ]
    }
   ],
   "source": [
    "#seperate dataset into train and test to avoid overfitting.\n",
    "X_train,X_test,Y_train,Y_test = train_test_split(X,Y,test_size=0.30, random_state=1)\n",
    "# summarize\n",
    "X_train.shape,X_test.shape\n",
    "print(f'the number of training features{X_train.shape}')\n",
    "print(f'the number of testing features{X_test.shape}')"
   ]
  },
  {
   "cell_type": "code",
   "execution_count": 30,
   "id": "5e08fb40",
   "metadata": {
    "colab": {
     "base_uri": "https://localhost:8080/",
     "height": 287
    },
    "executionInfo": {
     "elapsed": 784,
     "status": "ok",
     "timestamp": 1684229335332,
     "user": {
      "displayName": "Linda LEBDJIRI",
      "userId": "00372522915833590184"
     },
     "user_tz": -60
    },
    "id": "5e08fb40",
    "outputId": "0f7ae20c-53df-48e2-e79e-165e5f8b3e4a"
   },
   "outputs": [
    {
     "data": {
      "text/html": [
       "\n",
       "  <div id=\"df-6b2847a0-264b-4279-8599-7e15eb7770e1\">\n",
       "    <div class=\"colab-df-container\">\n",
       "      <div>\n",
       "<style scoped>\n",
       "    .dataframe tbody tr th:only-of-type {\n",
       "        vertical-align: middle;\n",
       "    }\n",
       "\n",
       "    .dataframe tbody tr th {\n",
       "        vertical-align: top;\n",
       "    }\n",
       "\n",
       "    .dataframe thead th {\n",
       "        text-align: right;\n",
       "    }\n",
       "</style>\n",
       "<table border=\"1\" class=\"dataframe\">\n",
       "  <thead>\n",
       "    <tr style=\"text-align: right;\">\n",
       "      <th></th>\n",
       "      <th>AGE</th>\n",
       "      <th>SEX</th>\n",
       "      <th>STEROID</th>\n",
       "      <th>ANTIVIRALS</th>\n",
       "      <th>FATIGUE</th>\n",
       "      <th>MALAISE</th>\n",
       "      <th>ANOREXIA</th>\n",
       "      <th>LIVER BIG</th>\n",
       "      <th>LIVER FIRM</th>\n",
       "      <th>SPLEEN PALPABLE</th>\n",
       "      <th>SPIDERS</th>\n",
       "      <th>ASCITES</th>\n",
       "      <th>VARICES</th>\n",
       "      <th>BILIRUBIN</th>\n",
       "      <th>ALK PHOSPHATE</th>\n",
       "      <th>SGOT</th>\n",
       "      <th>ALBUMIN</th>\n",
       "      <th>PROTIME</th>\n",
       "      <th>HISTOLOGY</th>\n",
       "    </tr>\n",
       "  </thead>\n",
       "  <tbody>\n",
       "    <tr>\n",
       "      <th>73</th>\n",
       "      <td>0.696332</td>\n",
       "      <td>-0.328502</td>\n",
       "      <td>0.983780</td>\n",
       "      <td>0.429669</td>\n",
       "      <td>1.378087</td>\n",
       "      <td>0.816932</td>\n",
       "      <td>0.515937</td>\n",
       "      <td>0.462481</td>\n",
       "      <td>0.882326</td>\n",
       "      <td>0.510451</td>\n",
       "      <td>0.733397</td>\n",
       "      <td>0.400302</td>\n",
       "      <td>0.376849</td>\n",
       "      <td>0.058591</td>\n",
       "      <td>-0.118336</td>\n",
       "      <td>0.154610</td>\n",
       "      <td>2.406947</td>\n",
       "      <td>0.000000</td>\n",
       "      <td>-0.912871</td>\n",
       "    </tr>\n",
       "    <tr>\n",
       "      <th>18</th>\n",
       "      <td>-0.261124</td>\n",
       "      <td>-0.328502</td>\n",
       "      <td>-1.023131</td>\n",
       "      <td>-2.327373</td>\n",
       "      <td>1.378087</td>\n",
       "      <td>0.816932</td>\n",
       "      <td>0.515937</td>\n",
       "      <td>-2.312406</td>\n",
       "      <td>-1.220551</td>\n",
       "      <td>0.510451</td>\n",
       "      <td>0.733397</td>\n",
       "      <td>0.400302</td>\n",
       "      <td>0.376849</td>\n",
       "      <td>-0.614924</td>\n",
       "      <td>-0.765216</td>\n",
       "      <td>-0.660714</td>\n",
       "      <td>0.622892</td>\n",
       "      <td>0.008592</td>\n",
       "      <td>-0.912871</td>\n",
       "    </tr>\n",
       "    <tr>\n",
       "      <th>48</th>\n",
       "      <td>-0.261124</td>\n",
       "      <td>-0.328502</td>\n",
       "      <td>0.983780</td>\n",
       "      <td>-2.327373</td>\n",
       "      <td>-0.730386</td>\n",
       "      <td>-1.232093</td>\n",
       "      <td>-1.950888</td>\n",
       "      <td>0.462481</td>\n",
       "      <td>0.882326</td>\n",
       "      <td>0.510451</td>\n",
       "      <td>-1.409273</td>\n",
       "      <td>0.400302</td>\n",
       "      <td>0.376849</td>\n",
       "      <td>-0.614924</td>\n",
       "      <td>0.420731</td>\n",
       "      <td>-0.241728</td>\n",
       "      <td>0.622892</td>\n",
       "      <td>0.881013</td>\n",
       "      <td>-0.912871</td>\n",
       "    </tr>\n",
       "    <tr>\n",
       "      <th>4</th>\n",
       "      <td>-0.580276</td>\n",
       "      <td>-0.328502</td>\n",
       "      <td>0.983780</td>\n",
       "      <td>0.429669</td>\n",
       "      <td>1.378087</td>\n",
       "      <td>0.816932</td>\n",
       "      <td>0.515937</td>\n",
       "      <td>0.462481</td>\n",
       "      <td>0.882326</td>\n",
       "      <td>0.510451</td>\n",
       "      <td>0.733397</td>\n",
       "      <td>0.400302</td>\n",
       "      <td>0.376849</td>\n",
       "      <td>-0.446545</td>\n",
       "      <td>-0.226149</td>\n",
       "      <td>-0.660714</td>\n",
       "      <td>0.298518</td>\n",
       "      <td>0.764690</td>\n",
       "      <td>-0.912871</td>\n",
       "    </tr>\n",
       "    <tr>\n",
       "      <th>45</th>\n",
       "      <td>-0.340912</td>\n",
       "      <td>-0.328502</td>\n",
       "      <td>-1.023131</td>\n",
       "      <td>0.429669</td>\n",
       "      <td>1.378087</td>\n",
       "      <td>0.816932</td>\n",
       "      <td>0.515937</td>\n",
       "      <td>0.462481</td>\n",
       "      <td>-1.220551</td>\n",
       "      <td>0.510451</td>\n",
       "      <td>-1.409273</td>\n",
       "      <td>0.400302</td>\n",
       "      <td>0.376849</td>\n",
       "      <td>-0.699113</td>\n",
       "      <td>-0.549589</td>\n",
       "      <td>-0.071869</td>\n",
       "      <td>-0.025856</td>\n",
       "      <td>0.000000</td>\n",
       "      <td>-0.912871</td>\n",
       "    </tr>\n",
       "  </tbody>\n",
       "</table>\n",
       "</div>\n",
       "      <button class=\"colab-df-convert\" onclick=\"convertToInteractive('df-6b2847a0-264b-4279-8599-7e15eb7770e1')\"\n",
       "              title=\"Convert this dataframe to an interactive table.\"\n",
       "              style=\"display:none;\">\n",
       "        \n",
       "  <svg xmlns=\"http://www.w3.org/2000/svg\" height=\"24px\"viewBox=\"0 0 24 24\"\n",
       "       width=\"24px\">\n",
       "    <path d=\"M0 0h24v24H0V0z\" fill=\"none\"/>\n",
       "    <path d=\"M18.56 5.44l.94 2.06.94-2.06 2.06-.94-2.06-.94-.94-2.06-.94 2.06-2.06.94zm-11 1L8.5 8.5l.94-2.06 2.06-.94-2.06-.94L8.5 2.5l-.94 2.06-2.06.94zm10 10l.94 2.06.94-2.06 2.06-.94-2.06-.94-.94-2.06-.94 2.06-2.06.94z\"/><path d=\"M17.41 7.96l-1.37-1.37c-.4-.4-.92-.59-1.43-.59-.52 0-1.04.2-1.43.59L10.3 9.45l-7.72 7.72c-.78.78-.78 2.05 0 2.83L4 21.41c.39.39.9.59 1.41.59.51 0 1.02-.2 1.41-.59l7.78-7.78 2.81-2.81c.8-.78.8-2.07 0-2.86zM5.41 20L4 18.59l7.72-7.72 1.47 1.35L5.41 20z\"/>\n",
       "  </svg>\n",
       "      </button>\n",
       "      \n",
       "  <style>\n",
       "    .colab-df-container {\n",
       "      display:flex;\n",
       "      flex-wrap:wrap;\n",
       "      gap: 12px;\n",
       "    }\n",
       "\n",
       "    .colab-df-convert {\n",
       "      background-color: #E8F0FE;\n",
       "      border: none;\n",
       "      border-radius: 50%;\n",
       "      cursor: pointer;\n",
       "      display: none;\n",
       "      fill: #1967D2;\n",
       "      height: 32px;\n",
       "      padding: 0 0 0 0;\n",
       "      width: 32px;\n",
       "    }\n",
       "\n",
       "    .colab-df-convert:hover {\n",
       "      background-color: #E2EBFA;\n",
       "      box-shadow: 0px 1px 2px rgba(60, 64, 67, 0.3), 0px 1px 3px 1px rgba(60, 64, 67, 0.15);\n",
       "      fill: #174EA6;\n",
       "    }\n",
       "\n",
       "    [theme=dark] .colab-df-convert {\n",
       "      background-color: #3B4455;\n",
       "      fill: #D2E3FC;\n",
       "    }\n",
       "\n",
       "    [theme=dark] .colab-df-convert:hover {\n",
       "      background-color: #434B5C;\n",
       "      box-shadow: 0px 1px 3px 1px rgba(0, 0, 0, 0.15);\n",
       "      filter: drop-shadow(0px 1px 2px rgba(0, 0, 0, 0.3));\n",
       "      fill: #FFFFFF;\n",
       "    }\n",
       "  </style>\n",
       "\n",
       "      <script>\n",
       "        const buttonEl =\n",
       "          document.querySelector('#df-6b2847a0-264b-4279-8599-7e15eb7770e1 button.colab-df-convert');\n",
       "        buttonEl.style.display =\n",
       "          google.colab.kernel.accessAllowed ? 'block' : 'none';\n",
       "\n",
       "        async function convertToInteractive(key) {\n",
       "          const element = document.querySelector('#df-6b2847a0-264b-4279-8599-7e15eb7770e1');\n",
       "          const dataTable =\n",
       "            await google.colab.kernel.invokeFunction('convertToInteractive',\n",
       "                                                     [key], {});\n",
       "          if (!dataTable) return;\n",
       "\n",
       "          const docLinkHtml = 'Like what you see? Visit the ' +\n",
       "            '<a target=\"_blank\" href=https://colab.research.google.com/notebooks/data_table.ipynb>data table notebook</a>'\n",
       "            + ' to learn more about interactive tables.';\n",
       "          element.innerHTML = '';\n",
       "          dataTable['output_type'] = 'display_data';\n",
       "          await google.colab.output.renderOutput(dataTable, element);\n",
       "          const docLink = document.createElement('div');\n",
       "          docLink.innerHTML = docLinkHtml;\n",
       "          element.appendChild(docLink);\n",
       "        }\n",
       "      </script>\n",
       "    </div>\n",
       "  </div>\n",
       "  "
      ],
      "text/plain": [
       "         AGE       SEX   STEROID  ANTIVIRALS   FATIGUE   MALAISE  ANOREXIA  \\\n",
       "73  0.696332 -0.328502  0.983780    0.429669  1.378087  0.816932  0.515937   \n",
       "18 -0.261124 -0.328502 -1.023131   -2.327373  1.378087  0.816932  0.515937   \n",
       "48 -0.261124 -0.328502  0.983780   -2.327373 -0.730386 -1.232093 -1.950888   \n",
       "4  -0.580276 -0.328502  0.983780    0.429669  1.378087  0.816932  0.515937   \n",
       "45 -0.340912 -0.328502 -1.023131    0.429669  1.378087  0.816932  0.515937   \n",
       "\n",
       "    LIVER BIG  LIVER FIRM  SPLEEN PALPABLE   SPIDERS   ASCITES   VARICES  \\\n",
       "73   0.462481    0.882326         0.510451  0.733397  0.400302  0.376849   \n",
       "18  -2.312406   -1.220551         0.510451  0.733397  0.400302  0.376849   \n",
       "48   0.462481    0.882326         0.510451 -1.409273  0.400302  0.376849   \n",
       "4    0.462481    0.882326         0.510451  0.733397  0.400302  0.376849   \n",
       "45   0.462481   -1.220551         0.510451 -1.409273  0.400302  0.376849   \n",
       "\n",
       "    BILIRUBIN  ALK PHOSPHATE      SGOT   ALBUMIN   PROTIME  HISTOLOGY  \n",
       "73   0.058591      -0.118336  0.154610  2.406947  0.000000  -0.912871  \n",
       "18  -0.614924      -0.765216 -0.660714  0.622892  0.008592  -0.912871  \n",
       "48  -0.614924       0.420731 -0.241728  0.622892  0.881013  -0.912871  \n",
       "4   -0.446545      -0.226149 -0.660714  0.298518  0.764690  -0.912871  \n",
       "45  -0.699113      -0.549589 -0.071869 -0.025856  0.000000  -0.912871  "
      ]
     },
     "execution_count": 30,
     "metadata": {},
     "output_type": "execute_result"
    }
   ],
   "source": [
    "X_train.head()"
   ]
  },
  {
   "cell_type": "code",
   "execution_count": 31,
   "id": "464556ab",
   "metadata": {
    "colab": {
     "base_uri": "https://localhost:8080/"
    },
    "executionInfo": {
     "elapsed": 8,
     "status": "ok",
     "timestamp": 1684229338591,
     "user": {
      "displayName": "Linda LEBDJIRI",
      "userId": "00372522915833590184"
     },
     "user_tz": -60
    },
    "id": "464556ab",
    "outputId": "eaa88dfc-c4e1-4b11-ed5d-416caf679dd2"
   },
   "outputs": [
    {
     "name": "stdout",
     "output_type": "stream",
     "text": [
      "Feature 0: 2.971830\n",
      "Feature 1: 2.452682\n",
      "Feature 2: 1.899621\n",
      "Feature 3: 9.065236\n",
      "Feature 4: 51.539787\n",
      "Feature 5: 55.776559\n",
      "Feature 6: 31.614347\n",
      "Feature 7: 9.130146\n",
      "Feature 8: 27.122411\n",
      "Feature 9: 14.659318\n",
      "Feature 10: 68.889951\n",
      "Feature 11: 22.997050\n",
      "Feature 12: 22.920863\n",
      "Feature 13: 41.199696\n",
      "Feature 14: 15.687760\n",
      "Feature 15: 8.155135\n",
      "Feature 16: 39.891892\n",
      "Feature 17: 12.651455\n",
      "Feature 18: 23.110739\n"
     ]
    }
   ],
   "source": [
    "# configure to select all features\n",
    "fs = SelectKBest(score_func=f_classif, k='all')\n",
    "# learn relationship from training data\n",
    "fs.fit(X_train, Y_train)\n",
    "# transform train input data\n",
    "X_train_fs = fs.transform(X_train)\n",
    "# transform test input data\n",
    "X_test_fs = fs.transform(X_test)\n",
    "#what are scores for the features\n",
    "for i in range(len(fs.scores_)):\n",
    " print('Feature %d: %f' % (i, fs.scores_[i]))\n",
    "#(larger is better)\n",
    "#Running this section prints out the scores calculated for each input feature and the target variable."
   ]
  },
  {
   "cell_type": "code",
   "execution_count": 32,
   "id": "698238c5",
   "metadata": {
    "colab": {
     "base_uri": "https://localhost:8080/",
     "height": 525
    },
    "executionInfo": {
     "elapsed": 563,
     "status": "ok",
     "timestamp": 1684229342838,
     "user": {
      "displayName": "Linda LEBDJIRI",
      "userId": "00372522915833590184"
     },
     "user_tz": -60
    },
    "id": "698238c5",
    "outputId": "6baa01e9-abd2-483b-a1c9-b4c48ac5fa6b"
   },
   "outputs": [
    {
     "data": {
      "image/png": "[encoded data removed]",
      "text/plain": [
       "<Figure size 800x600 with 1 Axes>"
      ]
     },
     "metadata": {},
     "output_type": "display_data"
    }
   ],
   "source": [
    "# plot the scores\n",
    "plt.bar([i for i in range(len(fs.scores_))], fs.scores_)\n",
    "plt.show()"
   ]
  },
  {
   "cell_type": "code",
   "execution_count": 33,
   "id": "79f13e44",
   "metadata": {
    "colab": {
     "base_uri": "https://localhost:8080/"
    },
    "executionInfo": {
     "elapsed": 6078,
     "status": "ok",
     "timestamp": 1684229352322,
     "user": {
      "displayName": "Linda LEBDJIRI",
      "userId": "00372522915833590184"
     },
     "user_tz": -60
    },
    "id": "79f13e44",
    "outputId": "54a45e5d-c0f7-4ccf-ee6a-a08ba1e4513c"
   },
   "outputs": [
    {
     "name": "stdout",
     "output_type": "stream",
     "text": [
      "Best Mean Accuracy: 0.957\n",
      "Best Config: {'anova__k': 18}\n"
     ]
    }
   ],
   "source": [
    "# define the evaluation method\n",
    "cv = RepeatedStratifiedKFold(n_splits=10, n_repeats=3, random_state=1)\n",
    "# define the pipeline to evaluate\n",
    "model = LogisticRegression(solver='liblinear')\n",
    "fs = SelectKBest(score_func=f_classif)\n",
    "pipeline = Pipeline(steps=[('anova',fs), ('lr', model)])\n",
    "# define the grid\n",
    "grid = dict()\n",
    "grid['anova__k'] = [i+1 for i in range(X.shape[1]-1)]\n",
    "# define the grid search\n",
    "search = GridSearchCV(pipeline, grid, scoring='accuracy', n_jobs=-1, cv=cv)\n",
    "# perform the search\n",
    "results = search.fit(X, Y)\n",
    "# summarize best\n",
    "print('Best Mean Accuracy: %.3f' % results.best_score_)\n",
    "print('Best Config: %s' % results.best_params_)"
   ]
  },
  {
   "cell_type": "code",
   "execution_count": 34,
   "id": "d2df8f25",
   "metadata": {
    "colab": {
     "base_uri": "https://localhost:8080/",
     "height": 74
    },
    "executionInfo": {
     "elapsed": 36,
     "status": "ok",
     "timestamp": 1684229352327,
     "user": {
      "displayName": "Linda LEBDJIRI",
      "userId": "00372522915833590184"
     },
     "user_tz": -60
    },
    "id": "d2df8f25",
    "outputId": "8efc5730-8da5-4a06-a837-2886391ae257"
   },
   "outputs": [
    {
     "data": {
      "text/html": [
       "<style>#sk-container-id-1 {color: black;background-color: white;}#sk-container-id-1 pre{padding: 0;}#sk-container-id-1 div.sk-toggleable {background-color: white;}#sk-container-id-1 label.sk-toggleable__label {cursor: pointer;display: block;width: 100%;margin-bottom: 0;padding: 0.3em;box-sizing: border-box;text-align: center;}#sk-container-id-1 label.sk-toggleable__label-arrow:before {content: \"▸\";float: left;margin-right: 0.25em;color: #696969;}#sk-container-id-1 label.sk-toggleable__label-arrow:hover:before {color: black;}#sk-container-id-1 div.sk-estimator:hover label.sk-toggleable__label-arrow:before {color: black;}#sk-container-id-1 div.sk-toggleable__content {max-height: 0;max-width: 0;overflow: hidden;text-align: left;background-color: #f0f8ff;}#sk-container-id-1 div.sk-toggleable__content pre {margin: 0.2em;color: black;border-radius: 0.25em;background-color: #f0f8ff;}#sk-container-id-1 input.sk-toggleable__control:checked~div.sk-toggleable__content {max-height: 200px;max-width: 100%;overflow: auto;}#sk-container-id-1 input.sk-toggleable__control:checked~label.sk-toggleable__label-arrow:before {content: \"▾\";}#sk-container-id-1 div.sk-estimator input.sk-toggleable__control:checked~label.sk-toggleable__label {background-color: #d4ebff;}#sk-container-id-1 div.sk-label input.sk-toggleable__control:checked~label.sk-toggleable__label {background-color: #d4ebff;}#sk-container-id-1 input.sk-hidden--visually {border: 0;clip: rect(1px 1px 1px 1px);clip: rect(1px, 1px, 1px, 1px);height: 1px;margin: -1px;overflow: hidden;padding: 0;position: absolute;width: 1px;}#sk-container-id-1 div.sk-estimator {font-family: monospace;background-color: #f0f8ff;border: 1px dotted black;border-radius: 0.25em;box-sizing: border-box;margin-bottom: 0.5em;}#sk-container-id-1 div.sk-estimator:hover {background-color: #d4ebff;}#sk-container-id-1 div.sk-parallel-item::after {content: \"\";width: 100%;border-bottom: 1px solid gray;flex-grow: 1;}#sk-container-id-1 div.sk-label:hover label.sk-toggleable__label {background-color: #d4ebff;}#sk-container-id-1 div.sk-serial::before {content: \"\";position: absolute;border-left: 1px solid gray;box-sizing: border-box;top: 0;bottom: 0;left: 50%;z-index: 0;}#sk-container-id-1 div.sk-serial {display: flex;flex-direction: column;align-items: center;background-color: white;padding-right: 0.2em;padding-left: 0.2em;position: relative;}#sk-container-id-1 div.sk-item {position: relative;z-index: 1;}#sk-container-id-1 div.sk-parallel {display: flex;align-items: stretch;justify-content: center;background-color: white;position: relative;}#sk-container-id-1 div.sk-item::before, #sk-container-id-1 div.sk-parallel-item::before {content: \"\";position: absolute;border-left: 1px solid gray;box-sizing: border-box;top: 0;bottom: 0;left: 50%;z-index: -1;}#sk-container-id-1 div.sk-parallel-item {display: flex;flex-direction: column;z-index: 1;position: relative;background-color: white;}#sk-container-id-1 div.sk-parallel-item:first-child::after {align-self: flex-end;width: 50%;}#sk-container-id-1 div.sk-parallel-item:last-child::after {align-self: flex-start;width: 50%;}#sk-container-id-1 div.sk-parallel-item:only-child::after {width: 0;}#sk-container-id-1 div.sk-dashed-wrapped {border: 1px dashed gray;margin: 0 0.4em 0.5em 0.4em;box-sizing: border-box;padding-bottom: 0.4em;background-color: white;}#sk-container-id-1 div.sk-label label {font-family: monospace;font-weight: bold;display: inline-block;line-height: 1.2em;}#sk-container-id-1 div.sk-label-container {text-align: center;}#sk-container-id-1 div.sk-container {/* jupyter's `normalize.less` sets `[hidden] { display: none; }` but bootstrap.min.css set `[hidden] { display: none !important; }` so we also need the `!important` here to be able to override the default hidden behavior on the sphinx rendered scikit-learn.org. See: https://github.com/scikit-learn/scikit-learn/issues/21755 */display: inline-block !important;position: relative;}#sk-container-id-1 div.sk-text-repr-fallback {display: none;}</style><div id=\"sk-container-id-1\" class=\"sk-top-container\"><div class=\"sk-text-repr-fallback\"><pre>SelectKBest(k=18)</pre><b>In a Jupyter environment, please rerun this cell to show the HTML representation or trust the notebook. <br />On GitHub, the HTML representation is unable to render, please try loading this page with nbviewer.org.</b></div><div class=\"sk-container\" hidden><div class=\"sk-item\"><div class=\"sk-estimator sk-toggleable\"><input class=\"sk-toggleable__control sk-hidden--visually\" id=\"sk-estimator-id-1\" type=\"checkbox\" checked><label for=\"sk-estimator-id-1\" class=\"sk-toggleable__label sk-toggleable__label-arrow\">SelectKBest</label><div class=\"sk-toggleable__content\"><pre>SelectKBest(k=18)</pre></div></div></div></div></div>"
      ],
      "text/plain": [
       "SelectKBest(k=18)"
      ]
     },
     "execution_count": 34,
     "metadata": {},
     "output_type": "execute_result"
    }
   ],
   "source": [
    "selector = SelectKBest(f_classif, k=18)\n",
    "selector.fit(X_train, Y_train)"
   ]
  },
  {
   "cell_type": "code",
   "execution_count": 35,
   "id": "a8f6308c",
   "metadata": {
    "colab": {
     "base_uri": "https://localhost:8080/"
    },
    "executionInfo": {
     "elapsed": 34,
     "status": "ok",
     "timestamp": 1684229352332,
     "user": {
      "displayName": "Linda LEBDJIRI",
      "userId": "00372522915833590184"
     },
     "user_tz": -60
    },
    "id": "a8f6308c",
    "outputId": "b7087355-5dd2-4588-d291-96905d1cc585"
   },
   "outputs": [
    {
     "data": {
      "text/plain": [
       "array([ 0,  1,  3,  4,  5,  6,  7,  8,  9, 10, 11, 12, 13, 14, 15, 16, 17,\n",
       "       18])"
      ]
     },
     "execution_count": 35,
     "metadata": {},
     "output_type": "execute_result"
    }
   ],
   "source": [
    "#Top Features\n",
    "cols = selector.get_support(indices=True)\n",
    "cols"
   ]
  },
  {
   "cell_type": "code",
   "execution_count": 36,
   "id": "586720f0",
   "metadata": {
    "executionInfo": {
     "elapsed": 7,
     "status": "ok",
     "timestamp": 1684229352921,
     "user": {
      "displayName": "Linda LEBDJIRI",
      "userId": "00372522915833590184"
     },
     "user_tz": -60
    },
    "id": "586720f0"
   },
   "outputs": [],
   "source": [
    "x_train_s = X_train.iloc[:,cols]\n",
    "x_test_s = X_test.iloc[:,cols]"
   ]
  },
  {
   "cell_type": "code",
   "execution_count": 37,
   "id": "f1af2828",
   "metadata": {
    "colab": {
     "base_uri": "https://localhost:8080/"
    },
    "executionInfo": {
     "elapsed": 15,
     "status": "ok",
     "timestamp": 1684229354515,
     "user": {
      "displayName": "Linda LEBDJIRI",
      "userId": "00372522915833590184"
     },
     "user_tz": -60
    },
    "id": "f1af2828",
    "outputId": "d05084c7-ec11-4f17-e892-9410500ba481"
   },
   "outputs": [
    {
     "name": "stdout",
     "output_type": "stream",
     "text": [
      "the number of training features(107, 18)\n",
      "the number of testing features(47, 18)\n"
     ]
    }
   ],
   "source": [
    "print(f'the number of training features{x_train_s.shape}')\n",
    "print(f'the number of testing features{x_test_s.shape}')"
   ]
  },
  {
   "cell_type": "code",
   "execution_count": 38,
   "id": "34646e18",
   "metadata": {
    "executionInfo": {
     "elapsed": 6,
     "status": "ok",
     "timestamp": 1684229356874,
     "user": {
      "displayName": "Linda LEBDJIRI",
      "userId": "00372522915833590184"
     },
     "user_tz": -60
    },
    "id": "34646e18"
   },
   "outputs": [],
   "source": [
    "kfold=KFold(n_splits=5, random_state=None, shuffle=False)\n",
    "accuracy_scores=[]\n",
    "precision_scores=[]\n",
    "recall_scores=[]\n",
    "f1_scores=[]\n",
    "names = ['KNN','Arbre de décision','Bayes','SVM']"
   ]
  },
  {
   "cell_type": "code",
   "execution_count": 39,
   "id": "39843201",
   "metadata": {
    "executionInfo": {
     "elapsed": 7,
     "status": "ok",
     "timestamp": 1684229358833,
     "user": {
      "displayName": "Linda LEBDJIRI",
      "userId": "00372522915833590184"
     },
     "user_tz": -60
    },
    "id": "39843201"
   },
   "outputs": [],
   "source": [
    "# Spot Check Algorithms\n",
    "models = []\n",
    "dictt=dict()\n",
    "models.append(('KNN', KNeighborsClassifier()))\n",
    "models.append(('Arbre de décision', DecisionTreeClassifier()))\n",
    "models.append(('Bayes', GaussianNB()))\n",
    "models.append(('SVM', SVC(gamma='auto')))\n",
    "# evaluate each model in turn\n",
    "results = list()\n",
    "names = list()"
   ]
  },
  {
   "cell_type": "code",
   "execution_count": 40,
   "id": "d4931ae9",
   "metadata": {
    "colab": {
     "base_uri": "https://localhost:8080/",
     "height": 175
    },
    "executionInfo": {
     "elapsed": 2940,
     "status": "ok",
     "timestamp": 1684229363715,
     "user": {
      "displayName": "Linda LEBDJIRI",
      "userId": "00372522915833590184"
     },
     "user_tz": -60
    },
    "id": "d4931ae9",
    "outputId": "51a6f079-2f9a-4635-d666-79d19abcf12b",
    "scrolled": true
   },
   "outputs": [
    {
     "data": {
      "text/html": [
       "\n",
       "  <div id=\"df-dcfb953c-4bc2-449c-9c95-0f70b57aa166\">\n",
       "    <div class=\"colab-df-container\">\n",
       "      <div>\n",
       "<style scoped>\n",
       "    .dataframe tbody tr th:only-of-type {\n",
       "        vertical-align: middle;\n",
       "    }\n",
       "\n",
       "    .dataframe tbody tr th {\n",
       "        vertical-align: top;\n",
       "    }\n",
       "\n",
       "    .dataframe thead th {\n",
       "        text-align: right;\n",
       "    }\n",
       "</style>\n",
       "<table border=\"1\" class=\"dataframe\">\n",
       "  <thead>\n",
       "    <tr style=\"text-align: right;\">\n",
       "      <th></th>\n",
       "      <th>KNN</th>\n",
       "      <th>Arbre de décision</th>\n",
       "      <th>Bayes</th>\n",
       "      <th>SVM</th>\n",
       "    </tr>\n",
       "  </thead>\n",
       "  <tbody>\n",
       "    <tr>\n",
       "      <th>Moyenne (mean)</th>\n",
       "      <td>0.888297</td>\n",
       "      <td>0.814589</td>\n",
       "      <td>0.907056</td>\n",
       "      <td>0.933074</td>\n",
       "    </tr>\n",
       "    <tr>\n",
       "      <th>Ecart type (std)</th>\n",
       "      <td>0.068608</td>\n",
       "      <td>0.084824</td>\n",
       "      <td>0.073712</td>\n",
       "      <td>0.046808</td>\n",
       "    </tr>\n",
       "    <tr>\n",
       "      <th>Minimum (worst)</th>\n",
       "      <td>0.681818</td>\n",
       "      <td>0.571429</td>\n",
       "      <td>0.636364</td>\n",
       "      <td>0.809524</td>\n",
       "    </tr>\n",
       "    <tr>\n",
       "      <th>Maximum (best)</th>\n",
       "      <td>1.000000</td>\n",
       "      <td>1.000000</td>\n",
       "      <td>1.000000</td>\n",
       "      <td>1.000000</td>\n",
       "    </tr>\n",
       "  </tbody>\n",
       "</table>\n",
       "</div>\n",
       "      <button class=\"colab-df-convert\" onclick=\"convertToInteractive('df-dcfb953c-4bc2-449c-9c95-0f70b57aa166')\"\n",
       "              title=\"Convert this dataframe to an interactive table.\"\n",
       "              style=\"display:none;\">\n",
       "        \n",
       "  <svg xmlns=\"http://www.w3.org/2000/svg\" height=\"24px\"viewBox=\"0 0 24 24\"\n",
       "       width=\"24px\">\n",
       "    <path d=\"M0 0h24v24H0V0z\" fill=\"none\"/>\n",
       "    <path d=\"M18.56 5.44l.94 2.06.94-2.06 2.06-.94-2.06-.94-.94-2.06-.94 2.06-2.06.94zm-11 1L8.5 8.5l.94-2.06 2.06-.94-2.06-.94L8.5 2.5l-.94 2.06-2.06.94zm10 10l.94 2.06.94-2.06 2.06-.94-2.06-.94-.94-2.06-.94 2.06-2.06.94z\"/><path d=\"M17.41 7.96l-1.37-1.37c-.4-.4-.92-.59-1.43-.59-.52 0-1.04.2-1.43.59L10.3 9.45l-7.72 7.72c-.78.78-.78 2.05 0 2.83L4 21.41c.39.39.9.59 1.41.59.51 0 1.02-.2 1.41-.59l7.78-7.78 2.81-2.81c.8-.78.8-2.07 0-2.86zM5.41 20L4 18.59l7.72-7.72 1.47 1.35L5.41 20z\"/>\n",
       "  </svg>\n",
       "      </button>\n",
       "      \n",
       "  <style>\n",
       "    .colab-df-container {\n",
       "      display:flex;\n",
       "      flex-wrap:wrap;\n",
       "      gap: 12px;\n",
       "    }\n",
       "\n",
       "    .colab-df-convert {\n",
       "      background-color: #E8F0FE;\n",
       "      border: none;\n",
       "      border-radius: 50%;\n",
       "      cursor: pointer;\n",
       "      display: none;\n",
       "      fill: #1967D2;\n",
       "      height: 32px;\n",
       "      padding: 0 0 0 0;\n",
       "      width: 32px;\n",
       "    }\n",
       "\n",
       "    .colab-df-convert:hover {\n",
       "      background-color: #E2EBFA;\n",
       "      box-shadow: 0px 1px 2px rgba(60, 64, 67, 0.3), 0px 1px 3px 1px rgba(60, 64, 67, 0.15);\n",
       "      fill: #174EA6;\n",
       "    }\n",
       "\n",
       "    [theme=dark] .colab-df-convert {\n",
       "      background-color: #3B4455;\n",
       "      fill: #D2E3FC;\n",
       "    }\n",
       "\n",
       "    [theme=dark] .colab-df-convert:hover {\n",
       "      background-color: #434B5C;\n",
       "      box-shadow: 0px 1px 3px 1px rgba(0, 0, 0, 0.15);\n",
       "      filter: drop-shadow(0px 1px 2px rgba(0, 0, 0, 0.3));\n",
       "      fill: #FFFFFF;\n",
       "    }\n",
       "  </style>\n",
       "\n",
       "      <script>\n",
       "        const buttonEl =\n",
       "          document.querySelector('#df-dcfb953c-4bc2-449c-9c95-0f70b57aa166 button.colab-df-convert');\n",
       "        buttonEl.style.display =\n",
       "          google.colab.kernel.accessAllowed ? 'block' : 'none';\n",
       "\n",
       "        async function convertToInteractive(key) {\n",
       "          const element = document.querySelector('#df-dcfb953c-4bc2-449c-9c95-0f70b57aa166');\n",
       "          const dataTable =\n",
       "            await google.colab.kernel.invokeFunction('convertToInteractive',\n",
       "                                                     [key], {});\n",
       "          if (!dataTable) return;\n",
       "\n",
       "          const docLinkHtml = 'Like what you see? Visit the ' +\n",
       "            '<a target=\"_blank\" href=https://colab.research.google.com/notebooks/data_table.ipynb>data table notebook</a>'\n",
       "            + ' to learn more about interactive tables.';\n",
       "          element.innerHTML = '';\n",
       "          dataTable['output_type'] = 'display_data';\n",
       "          await google.colab.output.renderOutput(dataTable, element);\n",
       "          const docLink = document.createElement('div');\n",
       "          docLink.innerHTML = docLinkHtml;\n",
       "          element.appendChild(docLink);\n",
       "        }\n",
       "      </script>\n",
       "    </div>\n",
       "  </div>\n",
       "  "
      ],
      "text/plain": [
       "                       KNN  Arbre de décision     Bayes       SVM\n",
       "Moyenne (mean)    0.888297           0.814589  0.907056  0.933074\n",
       "Ecart type (std)  0.068608           0.084824  0.073712  0.046808\n",
       "Minimum (worst)   0.681818           0.571429  0.636364  0.809524\n",
       "Maximum (best)    1.000000           1.000000  1.000000  1.000000"
      ]
     },
     "execution_count": 40,
     "metadata": {},
     "output_type": "execute_result"
    }
   ],
   "source": [
    "#accuracy\n",
    "for name, model in models:\n",
    "    kfold = RepeatedKFold(n_splits=5, random_state=2652124,n_repeats=30)\n",
    "    \n",
    "    cv_results = cross_val_score(model, x_train_s,Y_train, cv=kfold, scoring='accuracy')\n",
    "    results.append(cv_results)\n",
    "    names.append(name)\n",
    "    dictt[name]=[cv_results.mean(),cv_results.std(),min(cv_results),max(cv_results)]      \n",
    "df = pd.DataFrame(dictt,index =['Moyenne (mean)', 'Ecart type (std)', 'Minimum (worst)', 'Maximum (best)'])  \n",
    "df"
   ]
  },
  {
   "cell_type": "code",
   "execution_count": 41,
   "id": "52ef02e3",
   "metadata": {
    "executionInfo": {
     "elapsed": 14,
     "status": "ok",
     "timestamp": 1684229363717,
     "user": {
      "displayName": "Linda LEBDJIRI",
      "userId": "00372522915833590184"
     },
     "user_tz": -60
    },
    "id": "52ef02e3"
   },
   "outputs": [],
   "source": [
    "df.to_excel(r'C:\\Users\\dell\\Documents\\master1\\s2\\DAMI\\MiniProjet\\accuracy_score_Hepatitis.xlsx', index = ['Moyenne (mean)', 'Ecart type (std)', 'Minimum (worst)', 'Maximum (best)'])"
   ]
  },
  {
   "cell_type": "code",
   "execution_count": 42,
   "id": "2e388adf",
   "metadata": {
    "colab": {
     "base_uri": "https://localhost:8080/",
     "height": 548
    },
    "executionInfo": {
     "elapsed": 611,
     "status": "ok",
     "timestamp": 1684229366925,
     "user": {
      "displayName": "Linda LEBDJIRI",
      "userId": "00372522915833590184"
     },
     "user_tz": -60
    },
    "id": "2e388adf",
    "outputId": "2133f56e-b7b6-4728-b040-978a1af2045a"
   },
   "outputs": [
    {
     "data": {
      "image/png": "[encoded data removed]",
      "text/plain": [
       "<Figure size 800x600 with 1 Axes>"
      ]
     },
     "metadata": {},
     "output_type": "display_data"
    }
   ],
   "source": [
    "# Compare Algorithms\n",
    "plt.boxplot(results, labels=names)\n",
    "plt.title('Algorithm Comparison')\n",
    "plt.show()"
   ]
  },
  {
   "cell_type": "code",
   "execution_count": 43,
   "id": "c0d9b34b",
   "metadata": {
    "colab": {
     "base_uri": "https://localhost:8080/",
     "height": 175
    },
    "executionInfo": {
     "elapsed": 3900,
     "status": "ok",
     "timestamp": 1684229373584,
     "user": {
      "displayName": "Linda LEBDJIRI",
      "userId": "00372522915833590184"
     },
     "user_tz": -60
    },
    "id": "c0d9b34b",
    "outputId": "be978b79-54b3-4f30-d8da-08385d951bbb"
   },
   "outputs": [
    {
     "data": {
      "text/html": [
       "\n",
       "  <div id=\"df-92901f4a-0ca5-4be4-be29-2f5dd2c9568b\">\n",
       "    <div class=\"colab-df-container\">\n",
       "      <div>\n",
       "<style scoped>\n",
       "    .dataframe tbody tr th:only-of-type {\n",
       "        vertical-align: middle;\n",
       "    }\n",
       "\n",
       "    .dataframe tbody tr th {\n",
       "        vertical-align: top;\n",
       "    }\n",
       "\n",
       "    .dataframe thead th {\n",
       "        text-align: right;\n",
       "    }\n",
       "</style>\n",
       "<table border=\"1\" class=\"dataframe\">\n",
       "  <thead>\n",
       "    <tr style=\"text-align: right;\">\n",
       "      <th></th>\n",
       "      <th>KNN</th>\n",
       "      <th>Arbre de décision</th>\n",
       "      <th>Bayes</th>\n",
       "      <th>SVM</th>\n",
       "    </tr>\n",
       "  </thead>\n",
       "  <tbody>\n",
       "    <tr>\n",
       "      <th>Moyenne (mean)</th>\n",
       "      <td>0.963272</td>\n",
       "      <td>0.794405</td>\n",
       "      <td>0.923680</td>\n",
       "      <td>0.944415</td>\n",
       "    </tr>\n",
       "    <tr>\n",
       "      <th>Ecart type (std)</th>\n",
       "      <td>0.067853</td>\n",
       "      <td>0.137346</td>\n",
       "      <td>0.090285</td>\n",
       "      <td>0.085989</td>\n",
       "    </tr>\n",
       "    <tr>\n",
       "      <th>Minimum (worst)</th>\n",
       "      <td>0.666667</td>\n",
       "      <td>0.400000</td>\n",
       "      <td>0.571429</td>\n",
       "      <td>0.600000</td>\n",
       "    </tr>\n",
       "    <tr>\n",
       "      <th>Maximum (best)</th>\n",
       "      <td>1.000000</td>\n",
       "      <td>1.000000</td>\n",
       "      <td>1.000000</td>\n",
       "      <td>1.000000</td>\n",
       "    </tr>\n",
       "  </tbody>\n",
       "</table>\n",
       "</div>\n",
       "      <button class=\"colab-df-convert\" onclick=\"convertToInteractive('df-92901f4a-0ca5-4be4-be29-2f5dd2c9568b')\"\n",
       "              title=\"Convert this dataframe to an interactive table.\"\n",
       "              style=\"display:none;\">\n",
       "        \n",
       "  <svg xmlns=\"http://www.w3.org/2000/svg\" height=\"24px\"viewBox=\"0 0 24 24\"\n",
       "       width=\"24px\">\n",
       "    <path d=\"M0 0h24v24H0V0z\" fill=\"none\"/>\n",
       "    <path d=\"M18.56 5.44l.94 2.06.94-2.06 2.06-.94-2.06-.94-.94-2.06-.94 2.06-2.06.94zm-11 1L8.5 8.5l.94-2.06 2.06-.94-2.06-.94L8.5 2.5l-.94 2.06-2.06.94zm10 10l.94 2.06.94-2.06 2.06-.94-2.06-.94-.94-2.06-.94 2.06-2.06.94z\"/><path d=\"M17.41 7.96l-1.37-1.37c-.4-.4-.92-.59-1.43-.59-.52 0-1.04.2-1.43.59L10.3 9.45l-7.72 7.72c-.78.78-.78 2.05 0 2.83L4 21.41c.39.39.9.59 1.41.59.51 0 1.02-.2 1.41-.59l7.78-7.78 2.81-2.81c.8-.78.8-2.07 0-2.86zM5.41 20L4 18.59l7.72-7.72 1.47 1.35L5.41 20z\"/>\n",
       "  </svg>\n",
       "      </button>\n",
       "      \n",
       "  <style>\n",
       "    .colab-df-container {\n",
       "      display:flex;\n",
       "      flex-wrap:wrap;\n",
       "      gap: 12px;\n",
       "    }\n",
       "\n",
       "    .colab-df-convert {\n",
       "      background-color: #E8F0FE;\n",
       "      border: none;\n",
       "      border-radius: 50%;\n",
       "      cursor: pointer;\n",
       "      display: none;\n",
       "      fill: #1967D2;\n",
       "      height: 32px;\n",
       "      padding: 0 0 0 0;\n",
       "      width: 32px;\n",
       "    }\n",
       "\n",
       "    .colab-df-convert:hover {\n",
       "      background-color: #E2EBFA;\n",
       "      box-shadow: 0px 1px 2px rgba(60, 64, 67, 0.3), 0px 1px 3px 1px rgba(60, 64, 67, 0.15);\n",
       "      fill: #174EA6;\n",
       "    }\n",
       "\n",
       "    [theme=dark] .colab-df-convert {\n",
       "      background-color: #3B4455;\n",
       "      fill: #D2E3FC;\n",
       "    }\n",
       "\n",
       "    [theme=dark] .colab-df-convert:hover {\n",
       "      background-color: #434B5C;\n",
       "      box-shadow: 0px 1px 3px 1px rgba(0, 0, 0, 0.15);\n",
       "      filter: drop-shadow(0px 1px 2px rgba(0, 0, 0, 0.3));\n",
       "      fill: #FFFFFF;\n",
       "    }\n",
       "  </style>\n",
       "\n",
       "      <script>\n",
       "        const buttonEl =\n",
       "          document.querySelector('#df-92901f4a-0ca5-4be4-be29-2f5dd2c9568b button.colab-df-convert');\n",
       "        buttonEl.style.display =\n",
       "          google.colab.kernel.accessAllowed ? 'block' : 'none';\n",
       "\n",
       "        async function convertToInteractive(key) {\n",
       "          const element = document.querySelector('#df-92901f4a-0ca5-4be4-be29-2f5dd2c9568b');\n",
       "          const dataTable =\n",
       "            await google.colab.kernel.invokeFunction('convertToInteractive',\n",
       "                                                     [key], {});\n",
       "          if (!dataTable) return;\n",
       "\n",
       "          const docLinkHtml = 'Like what you see? Visit the ' +\n",
       "            '<a target=\"_blank\" href=https://colab.research.google.com/notebooks/data_table.ipynb>data table notebook</a>'\n",
       "            + ' to learn more about interactive tables.';\n",
       "          element.innerHTML = '';\n",
       "          dataTable['output_type'] = 'display_data';\n",
       "          await google.colab.output.renderOutput(dataTable, element);\n",
       "          const docLink = document.createElement('div');\n",
       "          docLink.innerHTML = docLinkHtml;\n",
       "          element.appendChild(docLink);\n",
       "        }\n",
       "      </script>\n",
       "    </div>\n",
       "  </div>\n",
       "  "
      ],
      "text/plain": [
       "                       KNN  Arbre de décision     Bayes       SVM\n",
       "Moyenne (mean)    0.963272           0.794405  0.923680  0.944415\n",
       "Ecart type (std)  0.067853           0.137346  0.090285  0.085989\n",
       "Minimum (worst)   0.666667           0.400000  0.571429  0.600000\n",
       "Maximum (best)    1.000000           1.000000  1.000000  1.000000"
      ]
     },
     "execution_count": 43,
     "metadata": {},
     "output_type": "execute_result"
    }
   ],
   "source": [
    "#precision\n",
    "results.clear()\n",
    "names.clear()\n",
    "for name, model in models:\n",
    "    kfold = RepeatedKFold(n_splits=5, random_state=2652124,n_repeats=30)\n",
    "    cv_results = cross_val_score(model, x_train_s,Y_train, cv=kfold,  scoring='precision')\n",
    "    results.append(cv_results)\n",
    "    names.append(name)\n",
    "    dictt[name]=[cv_results.mean(),cv_results.std(),min(cv_results),max(cv_results)]      \n",
    "df = pd.DataFrame(dictt,index =['Moyenne (mean)', 'Ecart type (std)', 'Minimum (worst)', 'Maximum (best)'])  \n",
    "df"
   ]
  },
  {
   "cell_type": "code",
   "execution_count": 44,
   "id": "f32bde8d",
   "metadata": {
    "executionInfo": {
     "elapsed": 24,
     "status": "ok",
     "timestamp": 1684229373587,
     "user": {
      "displayName": "Linda LEBDJIRI",
      "userId": "00372522915833590184"
     },
     "user_tz": -60
    },
    "id": "f32bde8d"
   },
   "outputs": [],
   "source": [
    "df.to_excel(r'C:\\Users\\dell\\Documents\\master1\\s2\\DAMI\\MiniProjet\\precisions_score_Hepatitis.xlsx', index = ['Moyenne (mean)', 'Ecart type (std)', 'Minimum (worst)', 'Maximum (best)'])"
   ]
  },
  {
   "cell_type": "code",
   "execution_count": 45,
   "id": "ad5c92b4",
   "metadata": {
    "colab": {
     "base_uri": "https://localhost:8080/",
     "height": 548
    },
    "executionInfo": {
     "elapsed": 550,
     "status": "ok",
     "timestamp": 1684229374406,
     "user": {
      "displayName": "Linda LEBDJIRI",
      "userId": "00372522915833590184"
     },
     "user_tz": -60
    },
    "id": "ad5c92b4",
    "outputId": "c9c430af-3c42-4d2a-db09-b8af1a37c472"
   },
   "outputs": [
    {
     "data": {
      "image/png": "[encoded data removed]",
      "text/plain": [
       "<Figure size 800x600 with 1 Axes>"
      ]
     },
     "metadata": {},
     "output_type": "display_data"
    }
   ],
   "source": [
    "# Compare Algorithms\n",
    "plt.boxplot(results, labels=names)\n",
    "plt.title('Algorithm Comparison')\n",
    "plt.show()"
   ]
  },
  {
   "cell_type": "code",
   "execution_count": null,
   "id": "e9f8f376",
   "metadata": {
    "id": "e9f8f376"
   },
   "outputs": [],
   "source": [
    "#recall\n",
    "results.clear()\n",
    "names.clear()\n",
    "for name, model in models:\n",
    "    kfold = RepeatedKFold(n_splits=5, random_state=2652124,n_repeats=30)\n",
    "    cv_results = cross_val_score(model, x_train_s,Y_train, cv=kfold,  scoring='recall')\n",
    "    results.append(cv_results)\n",
    "    names.append(name)\n",
    "    dictt[name]=[cv_results.mean(),cv_results.std(),min(cv_results),max(cv_results)]      \n",
    "df = pd.DataFrame(dictt,index =['Moyenne (mean)', 'Ecart type (std)', 'Minimum (worst)', 'Maximum (best)'])  \n",
    "df"
   ]
  },
  {
   "cell_type": "code",
   "execution_count": null,
   "id": "76e58aad",
   "metadata": {
    "id": "76e58aad"
   },
   "outputs": [],
   "source": [
    "df.to_excel(r'C:\\Users\\dell\\Documents\\master1\\s2\\DAMI\\MiniProjet\\recall_Hepatitis.xlsx', index = ['Moyenne (mean)', 'Ecart type (std)', 'Minimum (worst)', 'Maximum (best)'])"
   ]
  },
  {
   "cell_type": "code",
   "execution_count": null,
   "id": "1e22da9b",
   "metadata": {
    "id": "1e22da9b"
   },
   "outputs": [],
   "source": [
    "# Compare Algorithms\n",
    "plt.boxplot(results, labels=names)\n",
    "plt.title('Algorithm Comparison')\n",
    "plt.show()"
   ]
  },
  {
   "cell_type": "code",
   "execution_count": null,
   "id": "33a72c8a",
   "metadata": {
    "id": "33a72c8a",
    "outputId": "52406c63-9496-4722-b8bc-8840c3249c32"
   },
   "outputs": [
    {
     "data": {
      "text/html": [
       "<div>\n",
       "<style scoped>\n",
       "    .dataframe tbody tr th:only-of-type {\n",
       "        vertical-align: middle;\n",
       "    }\n",
       "\n",
       "    .dataframe tbody tr th {\n",
       "        vertical-align: top;\n",
       "    }\n",
       "\n",
       "    .dataframe thead th {\n",
       "        text-align: right;\n",
       "    }\n",
       "</style>\n",
       "<table border=\"1\" class=\"dataframe\">\n",
       "  <thead>\n",
       "    <tr style=\"text-align: right;\">\n",
       "      <th></th>\n",
       "      <th>KNN</th>\n",
       "      <th>Arbre de décision</th>\n",
       "      <th>Bayes</th>\n",
       "      <th>SVM</th>\n",
       "    </tr>\n",
       "  </thead>\n",
       "  <tbody>\n",
       "    <tr>\n",
       "      <th>Moyenne (mean)</th>\n",
       "      <td>0.846395</td>\n",
       "      <td>0.781896</td>\n",
       "      <td>0.875669</td>\n",
       "      <td>0.913768</td>\n",
       "    </tr>\n",
       "    <tr>\n",
       "      <th>Ecart type (std)</th>\n",
       "      <td>0.096249</td>\n",
       "      <td>0.098034</td>\n",
       "      <td>0.108391</td>\n",
       "      <td>0.069136</td>\n",
       "    </tr>\n",
       "    <tr>\n",
       "      <th>Minimum (worst)</th>\n",
       "      <td>0.533333</td>\n",
       "      <td>0.500000</td>\n",
       "      <td>0.428571</td>\n",
       "      <td>0.600000</td>\n",
       "    </tr>\n",
       "    <tr>\n",
       "      <th>Maximum (best)</th>\n",
       "      <td>1.000000</td>\n",
       "      <td>1.000000</td>\n",
       "      <td>1.000000</td>\n",
       "      <td>1.000000</td>\n",
       "    </tr>\n",
       "  </tbody>\n",
       "</table>\n",
       "</div>"
      ],
      "text/plain": [
       "                       KNN  Arbre de décision     Bayes       SVM\n",
       "Moyenne (mean)    0.846395           0.781896  0.875669  0.913768\n",
       "Ecart type (std)  0.096249           0.098034  0.108391  0.069136\n",
       "Minimum (worst)   0.533333           0.500000  0.428571  0.600000\n",
       "Maximum (best)    1.000000           1.000000  1.000000  1.000000"
      ]
     },
     "execution_count": 48,
     "metadata": {},
     "output_type": "execute_result"
    }
   ],
   "source": [
    "#F1 score\n",
    "results.clear()\n",
    "names.clear()\n",
    "for name, model in models:\n",
    "    kfold = RepeatedKFold(n_splits=5, random_state=2652124,n_repeats=30)\n",
    "    cv_results = cross_val_score(model, x_train_s,Y_train, cv=kfold, scoring='f1')\n",
    "    results.append(cv_results)\n",
    "    names.append(name)\n",
    "    dictt[name]=[cv_results.mean(),cv_results.std(),min(cv_results),max(cv_results)]     \n",
    "df = pd.DataFrame(dictt,index =['Moyenne (mean)', 'Ecart type (std)', 'Minimum (worst)', 'Maximum (best)'])  \n",
    "df"
   ]
  },
  {
   "cell_type": "code",
   "execution_count": null,
   "id": "17d06495",
   "metadata": {
    "id": "17d06495"
   },
   "outputs": [],
   "source": [
    "df.to_excel(r'C:\\Users\\dell\\Documents\\master1\\s2\\DAMI\\MiniProjet\\f1_score_Hepatitis.xlsx', index = ['Moyenne (mean)', 'Ecart type (std)', 'Minimum (worst)', 'Maximum (best)'])"
   ]
  },
  {
   "cell_type": "code",
   "execution_count": null,
   "id": "7f3f203f",
   "metadata": {
    "id": "7f3f203f",
    "outputId": "259170ce-67ad-4df8-cd3e-acacf0c57827"
   },
   "outputs": [
    {
     "data": {
      "image/png": "[encoded data removed]",
      "text/plain": [
       "<Figure size 576x432 with 1 Axes>"
      ]
     },
     "metadata": {},
     "output_type": "display_data"
    }
   ],
   "source": [
    "# Compare Algorithms\n",
    "plt.boxplot(results, labels=names)\n",
    "plt.title('Algorithm Comparison')\n",
    "plt.show()"
   ]
  },
  {
   "cell_type": "code",
   "execution_count": null,
   "id": "8ae2882a",
   "metadata": {
    "id": "8ae2882a",
    "outputId": "0d04c14d-a243-4e42-d1ca-3a1200275dca"
   },
   "outputs": [
    {
     "name": "stdout",
     "output_type": "stream",
     "text": [
      "0.9574468085106383\n"
     ]
    }
   ],
   "source": [
    "# Make predictions on validation dataset\n",
    "#from the results SVM seems the most accurate model\n",
    "#Now we want to get an idea of the accuracy of the model on our validation set.\n",
    "model = SVC(gamma='auto')\n",
    "model.fit(x_train_s, Y_train)\n",
    "predictions = model.predict(x_test_s)\n",
    "print(accuracy_score(Y_test, predictions))"
   ]
  }
 ],
 "metadata": {
  "colab": {
   "provenance": []
  },
  "kernelspec": {
   "display_name": "Python 3 (ipykernel)",
   "language": "python",
   "name": "python3"
  },
  "language_info": {
   "codemirror_mode": {
    "name": "ipython",
    "version": 3
   },
   "file_extension": ".py",
   "mimetype": "text/x-python",
   "name": "python",
   "nbconvert_exporter": "python",
   "pygments_lexer": "ipython3",
   "version": "3.12.1"
  }
 },
 "nbformat": 4,
 "nbformat_minor": 5
}
